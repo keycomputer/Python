{
 "cells": [
  {
   "cell_type": "markdown",
   "metadata": {},
   "source": [
    "# 1 WAP to calculate the area and circumference of a circle if radius is given."
   ]
  },
  {
   "cell_type": "code",
   "execution_count": 4,
   "metadata": {},
   "outputs": [
    {
     "name": "stdout",
     "output_type": "stream",
     "text": [
      " Please Enter the radius of a circle: 5\n",
      " Circumference Of a Circle = 31.40\n",
      " Area Of a Circle = 78.50\n"
     ]
    }
   ],
   "source": [
    "# Area of a circle is: A = πr² =  π * radius * radius\n",
    "# Circumference of a Circle = 2πr = 2 * π * radius\n",
    "# Python Program to Circumference, and Area Of a Circle\n",
    "\n",
    "PI = 3.14\n",
    "radius = float(input(' Please Enter the radius of a circle: '))\n",
    "\n",
    "circumference = 2 * PI * radius\n",
    "area = PI * radius * radius\n",
    "\n",
    "print(\" Circumference Of a Circle = %.2f\" %circumference)\n",
    "print(\" Area Of a Circle = %.2f\" %area)\n"
   ]
  },
  {
   "cell_type": "markdown",
   "metadata": {},
   "source": [
    "# Q 10"
   ]
  },
  {
   "cell_type": "code",
   "execution_count": 2,
   "metadata": {},
   "outputs": [
    {
     "name": "stdout",
     "output_type": "stream",
     "text": [
      "enter any number 4\n",
      "enter X value 2\n",
      "= 10.666666666666666\n"
     ]
    }
   ],
   "source": [
    "import math\n",
    "n = int(input(\"enter any number \"))\n",
    "x = int(input(\"enter X value \"))\n",
    "sum = 0\n",
    "for i in range(1, n+1):\n",
    "    sum += x**i/ i\n",
    "print(\"=\",sum)"
   ]
  },
  {
   "cell_type": "code",
   "execution_count": 1,
   "metadata": {},
   "outputs": [
    {
     "name": "stdout",
     "output_type": "stream",
     "text": [
      "enter any number 4\n",
      "= 5.150661701565631\n"
     ]
    }
   ],
   "source": [
    "import math\n",
    "n = int(input(\"enter any number \"))\n",
    "sum = 0\n",
    "for i in range(1, n+1):\n",
    "    sum += i / math.sqrt(i+1)\n",
    "print(\"=\",sum)\n",
    "    "
   ]
  },
  {
   "cell_type": "code",
   "execution_count": null,
   "metadata": {},
   "outputs": [],
   "source": []
  }
 ],
 "metadata": {
  "kernelspec": {
   "display_name": "Python 3",
   "language": "python",
   "name": "python3"
  },
  "language_info": {
   "codemirror_mode": {
    "name": "ipython",
    "version": 3
   },
   "file_extension": ".py",
   "mimetype": "text/x-python",
   "name": "python",
   "nbconvert_exporter": "python",
   "pygments_lexer": "ipython3",
   "version": "3.8.5"
  }
 },
 "nbformat": 4,
 "nbformat_minor": 4
}
