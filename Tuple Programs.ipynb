{
 "cells": [
  {
   "cell_type": "markdown",
   "metadata": {},
   "source": [
    "# Python program to add an item in a tuple\n"
   ]
  },
  {
   "cell_type": "code",
   "execution_count": 1,
   "metadata": {},
   "outputs": [
    {
     "name": "stdout",
     "output_type": "stream",
     "text": [
      "Enter number of elements 4\n",
      "enter element ::1\n",
      "enter element ::2\n",
      "enter element ::3\n",
      "enter element ::4\n",
      "(1, 2, 3, 4)\n",
      "Enter number of elements 10\n",
      "enter element ::1\n",
      "enter element ::2\n",
      "enter element ::3\n",
      "enter element ::4\n",
      "enter element ::54\n",
      "enter element ::5\n",
      "enter element ::6\n",
      "enter element ::7\n",
      "enter element ::4\n",
      "enter element ::2\n",
      "(2, 4, 7, 6, 5, 54, 4, 3, 2, 1)\n",
      "Enter number of elements 3\n",
      "enter element ::1\n",
      "enter element ::2\n",
      "enter element ::3\n",
      "Enter position you want to enter2\n",
      "enter element ::1\n",
      "(3, 1, 2, 1)\n"
     ]
    }
   ],
   "source": [
    "# At End:\n",
    "t= ()\n",
    "n   = int(input(\"Enter number of elements \"))\n",
    "\n",
    "for i in range(n):\n",
    "    elem = eval(input(\"enter element ::\"))\n",
    "    t = t [ : ] + (elem,)\n",
    "print(t)\n",
    "\n",
    "# At Beg\n",
    "t= ()\n",
    "n   = int(input(\"Enter number of elements \"))\n",
    "\n",
    "for i in range(n):\n",
    "    elem = eval(input(\"enter element ::\"))\n",
    "    t =  (elem,) + t [ : ] \n",
    "print(t)\n",
    "\n",
    "# At Pos\n",
    "t= ()\n",
    "n   = int(input(\"Enter number of elements \"))\n",
    "\n",
    "for i in range(n):\n",
    "    elem = eval(input(\"enter element ::\"))\n",
    "    t =  (elem,) + t [ : ] \n",
    "\n",
    "pos = int(input(\"Enter position you want to enter\"))\n",
    "if pos<= len(t):\n",
    "    elem = eval(input(\"enter element ::\"))\n",
    "    t = t [: pos-1] +(elem,) + t[pos-1 :]\n",
    "print(t)\n"
   ]
  },
  {
   "cell_type": "markdown",
   "metadata": {},
   "source": [
    "# Python program to remove an item from a tuple\n"
   ]
  },
  {
   "cell_type": "code",
   "execution_count": 2,
   "metadata": {},
   "outputs": [
    {
     "name": "stdout",
     "output_type": "stream",
     "text": [
      "(1, 2, 3, 4, 5, 6)\n",
      "(2, 3, 4, 5, 6, 7)\n",
      "Enter position you want to delete :: 3\n",
      "(1, 2, 3, 5, 6, 7)\n"
     ]
    }
   ],
   "source": [
    "# From End:\n",
    "t= (1,2,3,4,5,6,7)\n",
    "t = t [: len(t)-1]\n",
    "print(t)\n",
    "\n",
    "# From Beginning:\n",
    "t= (1,2,3,4,5,6,7)\n",
    "t = t [1: len(t)]\n",
    "print(t)\n",
    "\n",
    "\n",
    "# Postion\n",
    "t= (1,2,3,4,5,6,7)\n",
    "pos = int(input(\"Enter position you want to delete :: \"))\n",
    "if pos<= len(t):\n",
    "    t = t [: pos]  + t[pos+1:]\n",
    "print(t)\n",
    "\n"
   ]
  },
  {
   "cell_type": "markdown",
   "metadata": {},
   "source": [
    "# Python program to find the length of a tuple"
   ]
  },
  {
   "cell_type": "code",
   "execution_count": 3,
   "metadata": {},
   "outputs": [
    {
     "name": "stdout",
     "output_type": "stream",
     "text": [
      "7\n",
      "Length =  7\n"
     ]
    }
   ],
   "source": [
    "# Using len function:\n",
    "t= (1,2,3,4,5,6,7)\n",
    "print(len(t))\n",
    "\n",
    "# Without function:\n",
    "t= (1,2,3,4,5,6,7)\n",
    "count = 0\n",
    "for i in t:\n",
    "    count +=1\n",
    "print(\"Length = \" ,count)\n",
    "\n"
   ]
  },
  {
   "cell_type": "markdown",
   "metadata": {},
   "source": [
    "# unpack a tuple in several variables"
   ]
  },
  {
   "cell_type": "code",
   "execution_count": 4,
   "metadata": {},
   "outputs": [],
   "source": [
    "t =(1,2,3)\n",
    "n1, n2, n3 = t\n"
   ]
  },
  {
   "cell_type": "markdown",
   "metadata": {},
   "source": [
    "# Python program to convert a tuple to a string"
   ]
  },
  {
   "cell_type": "code",
   "execution_count": 5,
   "metadata": {},
   "outputs": [
    {
     "name": "stdout",
     "output_type": "stream",
     "text": [
      "1234567\n"
     ]
    }
   ],
   "source": [
    "t= ('1','2','3','4','5','6','7')\n",
    "string = \"\".join(t)\n",
    "print(string)\n",
    "\n"
   ]
  },
  {
   "cell_type": "markdown",
   "metadata": {},
   "source": [
    "# Python program to check whether an element exists within a tuple"
   ]
  },
  {
   "cell_type": "code",
   "execution_count": 6,
   "metadata": {},
   "outputs": [
    {
     "name": "stdout",
     "output_type": "stream",
     "text": [
      "Found\n",
      "Found\n"
     ]
    }
   ],
   "source": [
    "# Solution 1: (using in)\n",
    "t= (1,2,3,4,5,6,7)\n",
    "\n",
    "if 1 in t :\n",
    "    print(\"Found\")\n",
    "else:\n",
    "    print(\"not found\")\n",
    "\n",
    "# Solution 2:\n",
    "t= (1,2,3,4,5,6,7)\n",
    "\n",
    "for i in t:\n",
    "    if 4 == i:\n",
    "        print(\"Found\")\n",
    "        break\n",
    "else:\n",
    "    print(\"Not Found\")\n",
    "\n",
    "\n"
   ]
  },
  {
   "cell_type": "markdown",
   "metadata": {},
   "source": [
    "# Python program to check whether an element exists and frequency within a tuple"
   ]
  },
  {
   "cell_type": "code",
   "execution_count": 7,
   "metadata": {},
   "outputs": [
    {
     "name": "stdout",
     "output_type": "stream",
     "text": [
      "found\n"
     ]
    }
   ],
   "source": [
    "t= (1,2,3,4,5,6,7)\n",
    "count = 0\n",
    "for i in t:\n",
    "    if 4 == i:\n",
    "        count+=1\n",
    "\n",
    "if count == 0:\n",
    "    print(\"not found\")\n",
    "else:\n",
    "    print(\"found\")\n",
    "    \n"
   ]
  },
  {
   "cell_type": "markdown",
   "metadata": {},
   "source": [
    "# Count occurrence of all elements of list in a tuple"
   ]
  },
  {
   "cell_type": "code",
   "execution_count": null,
   "metadata": {},
   "outputs": [],
   "source": [
    "# Soultion 1:\n",
    "t= (1,2,3,1,4,5,6,7)\n",
    "L = [1,2]\n",
    "count = 0\n",
    "for item in t: \n",
    "    if item in L: \n",
    "        count+= 1\n",
    "print(count)\n",
    "\n",
    "# Solution 2:\n",
    "import collections\n",
    "t= (1,2,3,1,4,5,6,7)\n",
    "L = [1,2]\n",
    "count = 0\n",
    "counts = collections.Counter(t) \n",
    "print(sum(counts[i] for i in L))\n",
    "\n",
    "\n",
    "\n",
    "\n"
   ]
  }
 ],
 "metadata": {
  "kernelspec": {
   "display_name": "Python 3.8.6 64-bit",
   "language": "python",
   "name": "python38664bit1e036bae227243439b65fb3a4481e830"
  },
  "language_info": {
   "codemirror_mode": {
    "name": "ipython",
    "version": 3
   },
   "file_extension": ".py",
   "mimetype": "text/x-python",
   "name": "python",
   "nbconvert_exporter": "python",
   "pygments_lexer": "ipython3",
   "version": "3.8.6rc1"
  }
 },
 "nbformat": 4,
 "nbformat_minor": 4
}
