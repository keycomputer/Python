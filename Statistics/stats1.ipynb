{
 "cells": [
  {
   "cell_type": "markdown",
   "id": "c035b603",
   "metadata": {},
   "source": [
    " # Mean Medain Mode"
   ]
  },
  {
   "cell_type": "code",
   "execution_count": 3,
   "id": "c47b7549",
   "metadata": {},
   "outputs": [],
   "source": [
    "import pandas as pd"
   ]
  },
  {
   "cell_type": "markdown",
   "id": "1a67a2c6",
   "metadata": {},
   "source": []
  },
  {
   "cell_type": "code",
   "execution_count": 4,
   "id": "ddaa4a6b",
   "metadata": {},
   "outputs": [
    {
     "data": {
      "text/html": [
       "<div>\n",
       "<style scoped>\n",
       "    .dataframe tbody tr th:only-of-type {\n",
       "        vertical-align: middle;\n",
       "    }\n",
       "\n",
       "    .dataframe tbody tr th {\n",
       "        vertical-align: top;\n",
       "    }\n",
       "\n",
       "    .dataframe thead th {\n",
       "        text-align: right;\n",
       "    }\n",
       "</style>\n",
       "<table border=\"1\" class=\"dataframe\">\n",
       "  <thead>\n",
       "    <tr style=\"text-align: right;\">\n",
       "      <th></th>\n",
       "      <th>index</th>\n",
       "      <th>airline</th>\n",
       "      <th>flight</th>\n",
       "      <th>source_city</th>\n",
       "      <th>departure_time</th>\n",
       "      <th>stops</th>\n",
       "      <th>arrival_time</th>\n",
       "      <th>destination_city</th>\n",
       "      <th>class</th>\n",
       "      <th>duration</th>\n",
       "      <th>days_left</th>\n",
       "      <th>price</th>\n",
       "    </tr>\n",
       "  </thead>\n",
       "  <tbody>\n",
       "    <tr>\n",
       "      <th>0</th>\n",
       "      <td>0</td>\n",
       "      <td>SpiceJet</td>\n",
       "      <td>SG-8709</td>\n",
       "      <td>Delhi</td>\n",
       "      <td>Evening</td>\n",
       "      <td>zero</td>\n",
       "      <td>Night</td>\n",
       "      <td>Mumbai</td>\n",
       "      <td>Economy</td>\n",
       "      <td>2.17</td>\n",
       "      <td>1</td>\n",
       "      <td>5953</td>\n",
       "    </tr>\n",
       "    <tr>\n",
       "      <th>1</th>\n",
       "      <td>1</td>\n",
       "      <td>SpiceJet</td>\n",
       "      <td>SG-8157</td>\n",
       "      <td>Delhi</td>\n",
       "      <td>Early_Morning</td>\n",
       "      <td>zero</td>\n",
       "      <td>Morning</td>\n",
       "      <td>Mumbai</td>\n",
       "      <td>Economy</td>\n",
       "      <td>2.33</td>\n",
       "      <td>1</td>\n",
       "      <td>5953</td>\n",
       "    </tr>\n",
       "    <tr>\n",
       "      <th>2</th>\n",
       "      <td>2</td>\n",
       "      <td>AirAsia</td>\n",
       "      <td>I5-764</td>\n",
       "      <td>Delhi</td>\n",
       "      <td>Early_Morning</td>\n",
       "      <td>zero</td>\n",
       "      <td>Early_Morning</td>\n",
       "      <td>Mumbai</td>\n",
       "      <td>Economy</td>\n",
       "      <td>2.17</td>\n",
       "      <td>1</td>\n",
       "      <td>5956</td>\n",
       "    </tr>\n",
       "    <tr>\n",
       "      <th>3</th>\n",
       "      <td>3</td>\n",
       "      <td>Vistara</td>\n",
       "      <td>UK-995</td>\n",
       "      <td>Delhi</td>\n",
       "      <td>Morning</td>\n",
       "      <td>zero</td>\n",
       "      <td>Afternoon</td>\n",
       "      <td>Mumbai</td>\n",
       "      <td>Economy</td>\n",
       "      <td>2.25</td>\n",
       "      <td>1</td>\n",
       "      <td>5955</td>\n",
       "    </tr>\n",
       "    <tr>\n",
       "      <th>4</th>\n",
       "      <td>4</td>\n",
       "      <td>Vistara</td>\n",
       "      <td>UK-963</td>\n",
       "      <td>Delhi</td>\n",
       "      <td>Morning</td>\n",
       "      <td>zero</td>\n",
       "      <td>Morning</td>\n",
       "      <td>Mumbai</td>\n",
       "      <td>Economy</td>\n",
       "      <td>2.33</td>\n",
       "      <td>1</td>\n",
       "      <td>5955</td>\n",
       "    </tr>\n",
       "  </tbody>\n",
       "</table>\n",
       "</div>"
      ],
      "text/plain": [
       "   index   airline   flight source_city departure_time stops   arrival_time  \\\n",
       "0      0  SpiceJet  SG-8709       Delhi        Evening  zero          Night   \n",
       "1      1  SpiceJet  SG-8157       Delhi  Early_Morning  zero        Morning   \n",
       "2      2   AirAsia   I5-764       Delhi  Early_Morning  zero  Early_Morning   \n",
       "3      3   Vistara   UK-995       Delhi        Morning  zero      Afternoon   \n",
       "4      4   Vistara   UK-963       Delhi        Morning  zero        Morning   \n",
       "\n",
       "  destination_city    class  duration  days_left  price  \n",
       "0           Mumbai  Economy      2.17          1   5953  \n",
       "1           Mumbai  Economy      2.33          1   5953  \n",
       "2           Mumbai  Economy      2.17          1   5956  \n",
       "3           Mumbai  Economy      2.25          1   5955  \n",
       "4           Mumbai  Economy      2.33          1   5955  "
      ]
     },
     "execution_count": 4,
     "metadata": {},
     "output_type": "execute_result"
    }
   ],
   "source": [
    "df = pd.read_csv('airlines_flights_data.csv')\n",
    "df.head()"
   ]
  },
  {
   "cell_type": "code",
   "execution_count": 5,
   "id": "64a09c95",
   "metadata": {},
   "outputs": [
    {
     "name": "stdout",
     "output_type": "stream",
     "text": [
      "20889.660523133203\n",
      "12.221020812718846\n"
     ]
    }
   ],
   "source": [
    "# Mean\n",
    "mean_price=df['price'].mean()\n",
    "mean_duration = df['duration'].mean()\n",
    "print(mean_price)\n",
    "print(mean_duration)"
   ]
  },
  {
   "cell_type": "code",
   "execution_count": 6,
   "id": "a5640d99",
   "metadata": {},
   "outputs": [
    {
     "name": "stdout",
     "output_type": "stream",
     "text": [
      "7425.0\n",
      "11.25\n"
     ]
    }
   ],
   "source": [
    "# Median Value\n",
    "median_price=df['price'].median()\n",
    "median_duration = df['duration'].median()\n",
    "print(median_price)\n",
    "print(median_duration)"
   ]
  },
  {
   "cell_type": "code",
   "execution_count": 7,
   "id": "7752fa10",
   "metadata": {},
   "outputs": [
    {
     "name": "stdout",
     "output_type": "stream",
     "text": [
      "0    54608\n",
      "Name: price, dtype: int64\n",
      "0    2.17\n",
      "Name: duration, dtype: float64\n"
     ]
    }
   ],
   "source": [
    "#Mode \n",
    "mode_price=df['price'].mode()\n",
    "mode_duration = df['duration'].mode()\n",
    "print(mode_price)\n",
    "print(mode_duration)"
   ]
  },
  {
   "cell_type": "code",
   "execution_count": 8,
   "id": "accd528b",
   "metadata": {},
   "outputs": [
    {
     "name": "stdout",
     "output_type": "stream",
     "text": [
      "1105\n",
      "0.83\n"
     ]
    }
   ],
   "source": [
    "# min value \n",
    "print(df['price'].min())\n",
    "print(df['duration'].min())"
   ]
  },
  {
   "cell_type": "code",
   "execution_count": 9,
   "id": "753511a4",
   "metadata": {},
   "outputs": [
    {
     "name": "stdout",
     "output_type": "stream",
     "text": [
      "123071\n",
      "49.83\n"
     ]
    }
   ],
   "source": [
    "# max value \n",
    "print(df['price'].max())\n",
    "print(df['duration'].max())"
   ]
  },
  {
   "cell_type": "code",
   "execution_count": 10,
   "id": "d9ae0808",
   "metadata": {},
   "outputs": [
    {
     "name": "stdout",
     "output_type": "stream",
     "text": [
      "6270094275\n",
      "3668176.0599999996\n"
     ]
    }
   ],
   "source": [
    "# Sum \n",
    "print(df['price'].sum())\n",
    "print(df['duration'].sum())"
   ]
  },
  {
   "cell_type": "code",
   "execution_count": 12,
   "id": "5efd68ed",
   "metadata": {},
   "outputs": [
    {
     "name": "stdout",
     "output_type": "stream",
     "text": [
      "index               300153\n",
      "airline             300153\n",
      "flight              300153\n",
      "source_city         300153\n",
      "departure_time      300153\n",
      "stops               300153\n",
      "arrival_time        300153\n",
      "destination_city    300153\n",
      "class               300153\n",
      "duration            300153\n",
      "days_left           300153\n",
      "price               300153\n",
      "dtype: int64\n",
      "300153\n",
      "300153\n"
     ]
    }
   ],
   "source": [
    "#count \n",
    "print(df.count())\n",
    "print(df['price'].count())\n",
    "print(df['duration'].count())"
   ]
  },
  {
   "cell_type": "code",
   "execution_count": 13,
   "id": "5a9a047f",
   "metadata": {},
   "outputs": [
    {
     "name": "stdout",
     "output_type": "stream",
     "text": [
      "515188643.4044351\n",
      "51.72482427311158\n"
     ]
    }
   ],
   "source": [
    "# Variance Value \n",
    "\n",
    "print(df['price'].var())\n",
    "print(df['duration'].var())\n"
   ]
  },
  {
   "cell_type": "markdown",
   "id": "5731cbc0",
   "metadata": {},
   "source": []
  },
  {
   "cell_type": "code",
   "execution_count": 14,
   "id": "239e469e",
   "metadata": {},
   "outputs": [
    {
     "name": "stdout",
     "output_type": "stream",
     "text": [
      "22697.76736607447\n",
      "7.191997238119018\n"
     ]
    }
   ],
   "source": [
    "# std \n",
    "\n",
    "\n",
    "print(df['price'].std())\n",
    "print(df['duration'].std())"
   ]
  },
  {
   "cell_type": "code",
   "execution_count": null,
   "id": "a4bd2365",
   "metadata": {},
   "outputs": [],
   "source": []
  }
 ],
 "metadata": {
  "kernelspec": {
   "display_name": "Python 3",
   "language": "python",
   "name": "python3"
  },
  "language_info": {
   "codemirror_mode": {
    "name": "ipython",
    "version": 3
   },
   "file_extension": ".py",
   "mimetype": "text/x-python",
   "name": "python",
   "nbconvert_exporter": "python",
   "pygments_lexer": "ipython3",
   "version": "3.13.0"
  }
 },
 "nbformat": 4,
 "nbformat_minor": 5
}
