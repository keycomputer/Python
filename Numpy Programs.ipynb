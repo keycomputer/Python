{
 "cells": [
  {
   "cell_type": "markdown",
   "metadata": {},
   "source": [
    "# \n"
   ]
  },
  {
   "cell_type": "markdown",
   "metadata": {},
   "source": [
    "# How to create an empty and a full NumPy array?"
   ]
  },
  {
   "cell_type": "code",
   "execution_count": 1,
   "metadata": {},
   "outputs": [
    {
     "name": "stdout",
     "output_type": "stream",
     "text": [
      "Enter no of rows ::  10\n",
      "Enter no of columns :: 10\n",
      "Empty Array - \n",
      "[[         -1  2147483647           1           0         824           0\n",
      "            1           0         864           0]\n",
      " [        411     5570652         868           0         411     7929957\n",
      "          880           0         411     7274595]\n",
      " [        892           0         411     6422633         908           0\n",
      "          411     7209065         376           0]\n",
      " [        411     7602286        1072           0         411     6357093\n",
      "         1120           0         411           0]\n",
      " [        324           0         411 -2147482880        1108           0\n",
      "          411       32766        1096           0]\n",
      " [        411           0         864           0         411           0\n",
      "          868           0         411           0]\n",
      " [        880           0         411           0         892           0\n",
      "          411           0         908           0]\n",
      " [        411           0         376           0         411           0\n",
      "         1072           0         411           0]\n",
      " [       1120           0         411           0        1120           0\n",
      "            4           0           0           0]\n",
      " [          0           0           0           0           0           0\n",
      "            0           0           0           0]]\n",
      "\n",
      " Full Array\n",
      "[[50 50 50 50 50 50 50 50 50 50]\n",
      " [50 50 50 50 50 50 50 50 50 50]\n",
      " [50 50 50 50 50 50 50 50 50 50]\n",
      " [50 50 50 50 50 50 50 50 50 50]\n",
      " [50 50 50 50 50 50 50 50 50 50]\n",
      " [50 50 50 50 50 50 50 50 50 50]\n",
      " [50 50 50 50 50 50 50 50 50 50]\n",
      " [50 50 50 50 50 50 50 50 50 50]\n",
      " [50 50 50 50 50 50 50 50 50 50]\n",
      " [50 50 50 50 50 50 50 50 50 50]]\n"
     ]
    }
   ],
   "source": [
    "import numpy as np\n",
    "r = int(input(\"Enter no of rows ::  \"))\n",
    "c = int(input(\"Enter no of columns :: \"))\n",
    "arrE = np.empty((r, c), dtype=int)\n",
    "print(\"Empty Array - \")\n",
    "print(arrE)\n",
    "arrF = np.full([r, c], 50, dtype=int)\n",
    "print(\"\\n Full Array\")\n",
    "print(arrF)"
   ]
  },
  {
   "cell_type": "markdown",
   "metadata": {},
   "source": [
    "# NumPy program to get the numpy version and show numpy build configuration"
   ]
  },
  {
   "cell_type": "code",
   "execution_count": 2,
   "metadata": {},
   "outputs": [
    {
     "name": "stdout",
     "output_type": "stream",
     "text": [
      "1.19.2\n",
      "blas_mkl_info:\n",
      "    libraries = ['mkl_rt']\n",
      "    library_dirs = ['C:/Users/keyco/anaconda3\\\\Library\\\\lib']\n",
      "    define_macros = [('SCIPY_MKL_H', None), ('HAVE_CBLAS', None)]\n",
      "    include_dirs = ['C:/Users/keyco/anaconda3\\\\Library\\\\include']\n",
      "blas_opt_info:\n",
      "    libraries = ['mkl_rt']\n",
      "    library_dirs = ['C:/Users/keyco/anaconda3\\\\Library\\\\lib']\n",
      "    define_macros = [('SCIPY_MKL_H', None), ('HAVE_CBLAS', None)]\n",
      "    include_dirs = ['C:/Users/keyco/anaconda3\\\\Library\\\\include']\n",
      "lapack_mkl_info:\n",
      "    libraries = ['mkl_rt']\n",
      "    library_dirs = ['C:/Users/keyco/anaconda3\\\\Library\\\\lib']\n",
      "    define_macros = [('SCIPY_MKL_H', None), ('HAVE_CBLAS', None)]\n",
      "    include_dirs = ['C:/Users/keyco/anaconda3\\\\Library\\\\include']\n",
      "lapack_opt_info:\n",
      "    libraries = ['mkl_rt']\n",
      "    library_dirs = ['C:/Users/keyco/anaconda3\\\\Library\\\\lib']\n",
      "    define_macros = [('SCIPY_MKL_H', None), ('HAVE_CBLAS', None)]\n",
      "    include_dirs = ['C:/Users/keyco/anaconda3\\\\Library\\\\include']\n",
      "None\n"
     ]
    }
   ],
   "source": [
    "import numpy as np\n",
    "print(np.__version__)\n",
    "print(np.show_config())"
   ]
  },
  {
   "cell_type": "markdown",
   "metadata": {},
   "source": [
    "# NumPy program to create an array of 5 zeros,5 ones, 5 fives"
   ]
  },
  {
   "cell_type": "code",
   "execution_count": 3,
   "metadata": {},
   "outputs": [
    {
     "name": "stdout",
     "output_type": "stream",
     "text": [
      "zeros array ::\n",
      "[0. 0. 0. 0. 0.]\n",
      "ones array ::\n",
      "[1. 1. 1. 1. 1.]\n",
      "fives:\n",
      "[5 5 5 5 5]\n"
     ]
    }
   ],
   "source": [
    "import numpy as np\n",
    "array=np.zeros(5)\n",
    "print(\"zeros array ::\")\n",
    "print(array)\n",
    "array=np.ones(5)\n",
    "print(\"ones array ::\")\n",
    "print(array)\n",
    "array=np.full(5, 5)\n",
    "print(\"fives:\")\n",
    "print(array)"
   ]
  },
  {
   "cell_type": "code",
   "execution_count": null,
   "metadata": {},
   "outputs": [],
   "source": []
  }
 ],
 "metadata": {
  "kernelspec": {
   "display_name": "Python 3",
   "language": "python",
   "name": "python3"
  },
  "language_info": {
   "codemirror_mode": {
    "name": "ipython",
    "version": 3
   },
   "file_extension": ".py",
   "mimetype": "text/x-python",
   "name": "python",
   "nbconvert_exporter": "python",
   "pygments_lexer": "ipython3",
   "version": "3.8.5"
  }
 },
 "nbformat": 4,
 "nbformat_minor": 4
}
