{
 "cells": [
  {
   "cell_type": "markdown",
   "metadata": {},
   "source": [
    "# \n"
   ]
  },
  {
   "cell_type": "markdown",
   "metadata": {},
   "source": [
    "# How to create an empty and a full NumPy array?"
   ]
  },
  {
   "cell_type": "code",
   "execution_count": 1,
   "metadata": {},
   "outputs": [
    {
     "name": "stdout",
     "output_type": "stream",
     "text": [
      "Enter no of rows ::  10\n",
      "Enter no of columns :: 10\n",
      "Empty Array - \n",
      "[[         -1  2147483647           1           0         824           0\n",
      "            1           0         864           0]\n",
      " [        411     5570652         868           0         411     7929957\n",
      "          880           0         411     7274595]\n",
      " [        892           0         411     6422633         908           0\n",
      "          411     7209065         376           0]\n",
      " [        411     7602286        1072           0         411     6357093\n",
      "         1120           0         411           0]\n",
      " [        324           0         411 -2147482880        1108           0\n",
      "          411       32766        1096           0]\n",
      " [        411           0         864           0         411           0\n",
      "          868           0         411           0]\n",
      " [        880           0         411           0         892           0\n",
      "          411           0         908           0]\n",
      " [        411           0         376           0         411           0\n",
      "         1072           0         411           0]\n",
      " [       1120           0         411           0        1120           0\n",
      "            4           0           0           0]\n",
      " [          0           0           0           0           0           0\n",
      "            0           0           0           0]]\n",
      "\n",
      " Full Array\n",
      "[[50 50 50 50 50 50 50 50 50 50]\n",
      " [50 50 50 50 50 50 50 50 50 50]\n",
      " [50 50 50 50 50 50 50 50 50 50]\n",
      " [50 50 50 50 50 50 50 50 50 50]\n",
      " [50 50 50 50 50 50 50 50 50 50]\n",
      " [50 50 50 50 50 50 50 50 50 50]\n",
      " [50 50 50 50 50 50 50 50 50 50]\n",
      " [50 50 50 50 50 50 50 50 50 50]\n",
      " [50 50 50 50 50 50 50 50 50 50]\n",
      " [50 50 50 50 50 50 50 50 50 50]]\n"
     ]
    }
   ],
   "source": [
    "import numpy as np\n",
    "r = int(input(\"Enter no of rows ::  \"))\n",
    "c = int(input(\"Enter no of columns :: \"))\n",
    "arrE = np.empty((r, c), dtype=int)\n",
    "print(\"Empty Array - \")\n",
    "print(arrE)\n",
    "arrF = np.full([r, c], 50, dtype=int)\n",
    "print(\"\\n Full Array\")\n",
    "print(arrF)"
   ]
  },
  {
   "cell_type": "markdown",
   "metadata": {},
   "source": [
    "# NumPy program to convert a list of numeric value into a one-dimensional NumPy array"
   ]
  },
  {
   "cell_type": "code",
   "execution_count": 1,
   "metadata": {},
   "outputs": [
    {
     "name": "stdout",
     "output_type": "stream",
     "text": [
      "Original List: [1, 2, 3, 4, 5]\n",
      "One-dimensional NumPy array:  [1 2 3 4 5]\n",
      "Original List: [[1, 2], [2, 3], [3, 4]]\n",
      "Two-dimensional NumPy array:  [[1 2]\n",
      " [2 3]\n",
      " [3 4]]\n"
     ]
    }
   ],
   "source": [
    "import numpy as np\n",
    "l = [1,2,3,4,5]\n",
    "print(\"Original List:\",l)\n",
    "a = np.array(l)\n",
    "print(\"One-dimensional NumPy array: \",a)\n",
    "l = [[1,2],[2,3],[3,4]]\n",
    "print(\"Original List:\",l)\n",
    "a = np.array(l)\n",
    "print(\"Two-dimensional NumPy array: \",a)\n"
   ]
  },
  {
   "cell_type": "markdown",
   "metadata": {},
   "source": [
    "# NumPy program to create an array with values range"
   ]
  },
  {
   "cell_type": "code",
   "execution_count": 3,
   "metadata": {},
   "outputs": [
    {
     "name": "stdout",
     "output_type": "stream",
     "text": [
      "Enter Start Range :: 1\n",
      "Enter End Range :: 10\n",
      "[ 1  2  3  4  5  6  7  8  9 10]\n"
     ]
    }
   ],
   "source": [
    "import numpy as np\n",
    "n1 = int(input(\"Enter Start Range :: \"))\n",
    "n2 = int(input(\"Enter End Range :: \"))\n",
    "\n",
    "arr = np.arange(n1,n2+1)\n",
    "print(arr)"
   ]
  },
  {
   "cell_type": "markdown",
   "metadata": {},
   "source": [
    "# NumPy program to get the numpy version and show numpy build configuration"
   ]
  },
  {
   "cell_type": "code",
   "execution_count": 2,
   "metadata": {},
   "outputs": [
    {
     "name": "stdout",
     "output_type": "stream",
     "text": [
      "1.19.2\n",
      "blas_mkl_info:\n",
      "    libraries = ['mkl_rt']\n",
      "    library_dirs = ['C:/Users/keyco/anaconda3\\\\Library\\\\lib']\n",
      "    define_macros = [('SCIPY_MKL_H', None), ('HAVE_CBLAS', None)]\n",
      "    include_dirs = ['C:/Users/keyco/anaconda3\\\\Library\\\\include']\n",
      "blas_opt_info:\n",
      "    libraries = ['mkl_rt']\n",
      "    library_dirs = ['C:/Users/keyco/anaconda3\\\\Library\\\\lib']\n",
      "    define_macros = [('SCIPY_MKL_H', None), ('HAVE_CBLAS', None)]\n",
      "    include_dirs = ['C:/Users/keyco/anaconda3\\\\Library\\\\include']\n",
      "lapack_mkl_info:\n",
      "    libraries = ['mkl_rt']\n",
      "    library_dirs = ['C:/Users/keyco/anaconda3\\\\Library\\\\lib']\n",
      "    define_macros = [('SCIPY_MKL_H', None), ('HAVE_CBLAS', None)]\n",
      "    include_dirs = ['C:/Users/keyco/anaconda3\\\\Library\\\\include']\n",
      "lapack_opt_info:\n",
      "    libraries = ['mkl_rt']\n",
      "    library_dirs = ['C:/Users/keyco/anaconda3\\\\Library\\\\lib']\n",
      "    define_macros = [('SCIPY_MKL_H', None), ('HAVE_CBLAS', None)]\n",
      "    include_dirs = ['C:/Users/keyco/anaconda3\\\\Library\\\\include']\n",
      "None\n"
     ]
    }
   ],
   "source": [
    "import numpy as np\n",
    "print(np.__version__)\n",
    "print(np.show_config())"
   ]
  },
  {
   "cell_type": "markdown",
   "metadata": {},
   "source": [
    "# NumPy program to create an array of 5 zeros,5 ones, 5 fives"
   ]
  },
  {
   "cell_type": "code",
   "execution_count": 3,
   "metadata": {},
   "outputs": [
    {
     "name": "stdout",
     "output_type": "stream",
     "text": [
      "zeros array ::\n",
      "[0. 0. 0. 0. 0.]\n",
      "ones array ::\n",
      "[1. 1. 1. 1. 1.]\n",
      "fives:\n",
      "[5 5 5 5 5]\n"
     ]
    }
   ],
   "source": [
    "import numpy as np\n",
    "array=np.zeros(5)\n",
    "print(\"zeros array ::\")\n",
    "print(array)\n",
    "array=np.ones(5)\n",
    "print(\"ones array ::\")\n",
    "print(array)\n",
    "array=np.full(5, 5)\n",
    "print(\"fives:\")\n",
    "print(array)"
   ]
  },
  {
   "cell_type": "markdown",
   "metadata": {},
   "source": [
    "# Write a NumPy program to convert a list and tuple into arrays"
   ]
  },
  {
   "cell_type": "code",
   "execution_count": 2,
   "metadata": {},
   "outputs": [
    {
     "name": "stdout",
     "output_type": "stream",
     "text": [
      "List to array: \n",
      "[1 2 3 4 5 6 7 8]\n",
      "Tuple to array: \n",
      "[[ 1  2  3]\n",
      " [11 12 13]]\n"
     ]
    }
   ],
   "source": [
    "import numpy as np\n",
    "my_list = [1, 2, 3, 4, 5, 6, 7, 8]\n",
    "print(\"List to array: \") \n",
    "print(np.asarray(my_list))\n",
    "my_tuple = ([1, 2, 3], [11, 12, 13])\n",
    "print(\"Tuple to array: \")\n",
    "print(np.asarray(my_tuple))"
   ]
  },
  {
   "cell_type": "markdown",
   "metadata": {},
   "source": [
    "# NumPy program to append values to the end of an array."
   ]
  },
  {
   "cell_type": "code",
   "execution_count": 4,
   "metadata": {},
   "outputs": [
    {
     "name": "stdout",
     "output_type": "stream",
     "text": [
      "Original array:\n",
      "[10, 20, 30]\n",
      "After append values to the end of the array:\n",
      "[10 20 30 40 50 60 70 80 90]\n"
     ]
    }
   ],
   "source": [
    "# Using Append \n",
    "import numpy as np\n",
    "arr = [10, 20, 30]\n",
    "print(\"Original array:\")\n",
    "print(arr)\n",
    "arr = np.append(arr, [[40, 50, 60], [70, 80, 90]])\n",
    "print(\"After append values to the end of the array:\")\n",
    "print(arr)"
   ]
  },
  {
   "cell_type": "code",
   "execution_count": 10,
   "metadata": {},
   "outputs": [
    {
     "name": "stdout",
     "output_type": "stream",
     "text": [
      "Original array:\n",
      "[10, 20, 30]\n",
      "After append values to the end of the array:\n",
      "[10 20 30 70 80 90]\n"
     ]
    }
   ],
   "source": [
    "# using concatenate()\n",
    "import numpy as np\n",
    "arr = [10, 20, 30]\n",
    "print(\"Original array:\")\n",
    "print(arr)\n",
    "arr = np.concatenate((arr, [70, 80, 90]))\n",
    "print(\"After append values to the end of the array:\")\n",
    "print(arr)\n"
   ]
  },
  {
   "cell_type": "markdown",
   "metadata": {},
   "source": [
    "# NumPy program to get the unique elements of an array"
   ]
  },
  {
   "cell_type": "code",
   "execution_count": 13,
   "metadata": {},
   "outputs": [
    {
     "name": "stdout",
     "output_type": "stream",
     "text": [
      "1D Array\n",
      "Original array: [10 10 15 20 20 30 30 35]\n",
      "Unique Elements:  [10 15 20 30 35]\n",
      "2D Array : \n",
      "Original array: [[1 1 2 5]\n",
      " [2 3 4 6]]\n",
      "Unique elements : [1 2 3 4 5 6]\n"
     ]
    }
   ],
   "source": [
    "import numpy as np\n",
    "print(\"1D Array\")\n",
    "arr = np.array([10, 10, 15, 20, 20, 30, 30, 35])\n",
    "print(\"Original array:\" , arr)\n",
    "print(\"Unique Elements: \", np.unique(arr))\n",
    "print(\"2D Array : \")\n",
    "arr = np.array([[1, 1, 2 , 5], [2, 3, 4, 6]])\n",
    "print(\"Original array:\" , arr)\n",
    "print(\"Unique elements :\", np.unique(arr))"
   ]
  },
  {
   "cell_type": "markdown",
   "metadata": {},
   "source": [
    "# How to check if a NumPy array is empty in Python?"
   ]
  },
  {
   "cell_type": "code",
   "execution_count": 19,
   "metadata": {},
   "outputs": [
    {
     "name": "stdout",
     "output_type": "stream",
     "text": [
      "Is Empty\n",
      "Not Empty\n"
     ]
    }
   ],
   "source": [
    "import numpy as np\n",
    " \n",
    "arr = np.array([])\n",
    "if(arr.size == 0):\n",
    "    print(\"Is Empty\")\n",
    "else:\n",
    "    print(\"Not Empty\")\n",
    "arr = np.array([1, 2, 3])\n",
    "if(arr.size == 0):\n",
    "    print(\"is_empty\")\n",
    "else:\n",
    "    print(\"Not Empty\")"
   ]
  },
  {
   "cell_type": "markdown",
   "metadata": {},
   "source": [
    "# NumPy program to test whether all elements in an array evaluate to True"
   ]
  },
  {
   "cell_type": "code",
   "execution_count": 22,
   "metadata": {},
   "outputs": [
    {
     "name": "stdout",
     "output_type": "stream",
     "text": [
      "False\n",
      "False\n",
      "False\n"
     ]
    }
   ],
   "source": [
    "import numpy as np\n",
    " \n",
    "thearr = [[True, False], [True, True]]\n",
    "thebool = np.all(thearr)\n",
    "print(thebool)\n",
    " \n",
    "thearr = [[False, False], [False, False]]\n",
    "thebool = np.all(thearr)\n",
    "print(thebool)\n",
    "\n",
    "a =10\n",
    "thearr = [[a>10, a==10],[a<10, a>=10]]\n",
    "thebool = np.all(thearr)\n",
    "print(thebool)"
   ]
  },
  {
   "cell_type": "markdown",
   "metadata": {},
   "source": [
    "# NumPy program to test whether any elements in an array evaluate to True"
   ]
  },
  {
   "cell_type": "code",
   "execution_count": 30,
   "metadata": {},
   "outputs": [
    {
     "name": "stdout",
     "output_type": "stream",
     "text": [
      "True\n",
      "False\n",
      "True\n"
     ]
    }
   ],
   "source": [
    "import numpy as np\n",
    " \n",
    "thearr = [[True, False], [True, True]]\n",
    "thebool = np.any(thearr)\n",
    "print(thebool)\n",
    " \n",
    "thearr = [[False, False], [False, False]]\n",
    "thebool = np.any(thearr)\n",
    "print(thebool)\n",
    "\n",
    "a =10\n",
    "thearr = [[a>10, a==10],[a<10, a>=10]]\n",
    "thebool = np.any(thearr)\n",
    "print(thebool)"
   ]
  },
  {
   "cell_type": "markdown",
   "metadata": {},
   "source": [
    "# Numpy Program to remove nan values"
   ]
  },
  {
   "cell_type": "code",
   "execution_count": 32,
   "metadata": {},
   "outputs": [
    {
     "name": "stdout",
     "output_type": "stream",
     "text": [
      "[2. 3. 4.]\n"
     ]
    }
   ],
   "source": [
    "\n",
    "import numpy as np\n",
    " \n",
    "arr  = np.array([np.nan, 2, 3, 4])\n",
    "arr  = arr [~np.isnan(arr)]\n",
    "print(arr)"
   ]
  },
  {
   "cell_type": "markdown",
   "metadata": {},
   "source": [
    "# Numpy Program to remove nan values from multidimention array"
   ]
  },
  {
   "cell_type": "code",
   "execution_count": 34,
   "metadata": {},
   "outputs": [
    {
     "name": "stdout",
     "output_type": "stream",
     "text": [
      "[2. 3. 4. 1. 2. 4.]\n"
     ]
    }
   ],
   "source": [
    "import numpy as np\n",
    " \n",
    "arr  = np.array([[np.nan, 2, 3, 4],[1,2,np.nan,4]])\n",
    "arr  = arr [~np.isnan(arr)]\n",
    "print(arr)"
   ]
  },
  {
   "cell_type": "code",
   "execution_count": null,
   "metadata": {},
   "outputs": [],
   "source": []
  }
 ],
 "metadata": {
  "kernelspec": {
   "display_name": "Python 3",
   "language": "python",
   "name": "python3"
  },
  "language_info": {
   "codemirror_mode": {
    "name": "ipython",
    "version": 3
   },
   "file_extension": ".py",
   "mimetype": "text/x-python",
   "name": "python",
   "nbconvert_exporter": "python",
   "pygments_lexer": "ipython3",
   "version": "3.8.5"
  }
 },
 "nbformat": 4,
 "nbformat_minor": 4
}
