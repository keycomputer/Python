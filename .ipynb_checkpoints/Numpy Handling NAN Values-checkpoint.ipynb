{
 "cells": [
  {
   "cell_type": "code",
   "execution_count": 3,
   "metadata": {},
   "outputs": [
    {
     "name": "stdout",
     "output_type": "stream",
     "text": [
      "[ True False False False]\n"
     ]
    }
   ],
   "source": [
    "## handling nan  - print true / false \n",
    "import numpy as np\n",
    " \n",
    "x = np.array([np.nan, 2, 3, 4])\n",
    "print(np.isnan(x))\n",
    "\n"
   ]
  },
  {
   "cell_type": "code",
   "execution_count": 4,
   "metadata": {},
   "outputs": [
    {
     "name": "stdout",
     "output_type": "stream",
     "text": [
      "[2. 3. 4.]\n"
     ]
    }
   ],
   "source": [
    "# print values except nan values\n",
    "import numpy as np\n",
    " \n",
    "x = np.array([np.nan, 2, 3, 4])\n",
    "\n",
    "x = x[~np.isnan(x)]\n",
    "print(x)"
   ]
  },
  {
   "cell_type": "code",
   "execution_count": 7,
   "metadata": {},
   "outputs": [
    {
     "name": "stdout",
     "output_type": "stream",
     "text": [
      "[1. 2. 4. 2. 3. 4. 5. 6.]\n"
     ]
    }
   ],
   "source": [
    "# handling nan in 2-D Array \n",
    "import numpy as np\n",
    "x = np.array([[1, 2, np.nan, 4], \n",
    "                 [2, 3, 4, np.nan],\n",
    "                 [np.nan, 5,np.nan, 6]])\n",
    "print(x[~(np.isnan(x))])"
   ]
  },
  {
   "cell_type": "code",
   "execution_count": 8,
   "metadata": {},
   "outputs": [
    {
     "name": "stdout",
     "output_type": "stream",
     "text": [
      "[1. 2. 3. 4. 5. 6. 7. 8. 9.]\n"
     ]
    }
   ],
   "source": [
    "### using isnan() and logical_not() \n",
    "\n",
    "import numpy as np\n",
    "\n",
    "x= np.array([1, 2, 3, np.nan, np.nan, 4, 5, 6, np.nan, 7, 8, 9, np.nan])\n",
    "x = x[np.logical_not(np.isnan(x))] \n",
    "print(x)\n"
   ]
  },
  {
   "cell_type": "code",
   "execution_count": null,
   "metadata": {},
   "outputs": [],
   "source": [
    "\n",
    "import numpy as np\n",
    "\n",
    "x= np.array([1, 2, 3, np.nan, np.nan, 4, 5, 6, np.nan, 7, 8, 9, np.nan])\n",
    "x = x[~np.isnan(x)]\n",
    "print(x)"
   ]
  }
 ],
 "metadata": {
  "kernelspec": {
   "display_name": "Python 3",
   "language": "python",
   "name": "python3"
  },
  "language_info": {
   "codemirror_mode": {
    "name": "ipython",
    "version": 3
   },
   "file_extension": ".py",
   "mimetype": "text/x-python",
   "name": "python",
   "nbconvert_exporter": "python",
   "pygments_lexer": "ipython3",
   "version": "3.8.5"
  }
 },
 "nbformat": 4,
 "nbformat_minor": 4
}
