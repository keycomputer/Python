{
 "cells": [
  {
   "cell_type": "markdown",
   "metadata": {},
   "source": [
    "Find length of a string in python"
   ]
  },
  {
   "cell_type": "code",
   "execution_count": 1,
   "metadata": {},
   "outputs": [
    {
     "name": "stdout",
     "output_type": "stream",
     "text": [
      "6\n"
     ]
    }
   ],
   "source": [
    "#Solution 1: len() function\n",
    "name = \"abcdef\"\n",
    "print(len(name))\n"
   ]
  },
  {
   "cell_type": "code",
   "execution_count": 2,
   "metadata": {},
   "outputs": [
    {
     "name": "stdout",
     "output_type": "stream",
     "text": [
      "6\n"
     ]
    }
   ],
   "source": [
    "#Solution 2: counter\n",
    "name = \"abcdef\"\n",
    "counter = 0    \n",
    "for i in name: \n",
    "    counter += 1\n",
    "else:\n",
    "    print(counter)\n"
   ]
  },
  {
   "cell_type": "markdown",
   "metadata": {},
   "source": [
    "Python program to count the number of characters frequency"
   ]
  },
  {
   "cell_type": "code",
   "execution_count": 3,
   "metadata": {},
   "outputs": [
    {
     "name": "stdout",
     "output_type": "stream",
     "text": [
      "Enter any sentencethis is python program\n",
      "t  :  2\n",
      "h  :  2\n",
      "i  :  2\n",
      "s  :  2\n",
      "   :  3\n",
      "p  :  2\n",
      "y  :  1\n",
      "o  :  2\n",
      "n  :  1\n",
      "r  :  2\n",
      "g  :  1\n",
      "a  :  1\n",
      "m  :  1\n"
     ]
    }
   ],
   "source": [
    "#Solution 1\n",
    "string1  = input(\"Enter any sentence\")\n",
    "string2 = \"\"\n",
    "count = 0\n",
    "for i in string1:\n",
    "    if i not in string2:\n",
    "        string2 = string2 + i\n",
    "        print(i,\" : \" , string1.count(i))\n"
   ]
  },
  {
   "cell_type": "code",
   "execution_count": 5,
   "metadata": {},
   "outputs": [
    {
     "name": "stdout",
     "output_type": "stream",
     "text": [
      "Enter any sentence : this is python program\n",
      "t  :  2\n",
      "h  :  2\n",
      "i  :  2\n",
      "s  :  2\n",
      "   :  3\n",
      "p  :  2\n",
      "y  :  1\n",
      "o  :  2\n",
      "n  :  1\n",
      "r  :  2\n",
      "g  :  1\n",
      "a  :  1\n",
      "m  :  1\n"
     ]
    }
   ],
   "source": [
    "#Solution 2\n",
    "#Solution 2: (Nested Loop)\n",
    "string1 = input(\"Enter any sentence : \")\n",
    "string2 = \"\"\n",
    "count = 0\n",
    "for i in string1:\n",
    "     count=0\n",
    "     if i not in string2:\n",
    "          string2 = string2 + i\n",
    "          for j in string1: \n",
    "               if i == j: \n",
    "                  count+=1\n",
    "          print(i,\" : \" , count)\n"
   ]
  },
  {
   "cell_type": "code",
   "execution_count": 9,
   "metadata": {},
   "outputs": [
    {
     "name": "stdout",
     "output_type": "stream",
     "text": [
      "Enter any sentence : this is python program\n",
      "t :  2\n",
      "h :  2\n",
      "i :  2\n",
      "s :  2\n",
      "  :  3\n",
      "p :  2\n",
      "y :  1\n",
      "o :  2\n",
      "n :  1\n",
      "r :  2\n",
      "g :  1\n",
      "a :  1\n",
      "m :  1\n"
     ]
    }
   ],
   "source": [
    "#Solution 3: two for loop\n",
    "string1 = input(\"Enter any sentence : \")\n",
    "string2 = \"\"\n",
    "for i in string1:\n",
    "      if i not in string2: \n",
    "          string2 = string2 + i\n",
    "for j in string2:\n",
    "    print(j , \": \", string1.count(j))\n"
   ]
  },
  {
   "cell_type": "code",
   "execution_count": 11,
   "metadata": {},
   "outputs": [
    {
     "name": "stdout",
     "output_type": "stream",
     "text": [
      "Enter any sentence : this is python program\n",
      "{'t': 2, 'h': 2, 'i': 2, 's': 2, ' ': 3, 'p': 2, 'y': 1, 'o': 2, 'n': 1, 'r': 2, 'g': 1, 'a': 1, 'm': 1}\n"
     ]
    }
   ],
   "source": [
    "#Solution 4: Using Dictionary\n",
    "str1 = input(\"Enter any sentence : \")\n",
    "dict = {}\n",
    "for n in str1:\n",
    "    if n in dict.keys():\n",
    "        dict[n] += 1\n",
    "    else:\n",
    "        dict[n] = 1\n",
    "print(dict)"
   ]
  },
  {
   "cell_type": "markdown",
   "metadata": {},
   "source": [
    "Python program to count number of vowels using sets in given string"
   ]
  },
  {
   "cell_type": "code",
   "execution_count": 13,
   "metadata": {},
   "outputs": [
    {
     "name": "stdout",
     "output_type": "stream",
     "text": [
      "Enter any sentence : Python Programming\n",
      "Vowels  4\n"
     ]
    }
   ],
   "source": [
    "#Solution 1 : Using Set (you can take list or tuple )\n",
    "string  = input(\"Enter any sentence : \")\n",
    "setv = {'a','e','i','o','u','A','E','I','O','U'}\n",
    "count = 0\n",
    "for i in string:\n",
    "    if i in setv:\n",
    "        count+=1\n",
    "else:\n",
    "    print(\"Vowels \",count)\n"
   ]
  },
  {
   "cell_type": "code",
   "execution_count": 14,
   "metadata": {
    "scrolled": true
   },
   "outputs": [
    {
     "name": "stdout",
     "output_type": "stream",
     "text": [
      "Enter any sentencePython Programming\n",
      "Vowels  4\n"
     ]
    }
   ],
   "source": [
    "string = input(\"Enter any sentence\")\n",
    "setv = \"aeiouAEIOU\"\n",
    "\n",
    "count = 0\n",
    "for i in string:\n",
    "    if i in setv:\n",
    "        count+=1\n",
    "else:\n",
    "    print(\"Vowels \",count)\n"
   ]
  },
  {
   "cell_type": "markdown",
   "metadata": {},
   "source": [
    "Python program to split and join a string"
   ]
  },
  {
   "cell_type": "code",
   "execution_count": 15,
   "metadata": {},
   "outputs": [
    {
     "name": "stdout",
     "output_type": "stream",
     "text": [
      "Enter any sentenceTHIS IS MY FIRST PROGRAM \n",
      "['THIS', 'IS', 'MY', 'FIRST', 'PROGRAM', '']\n",
      "Joining string with - \n",
      "THIS-IS-MY-FIRST-PROGRAM-\n"
     ]
    }
   ],
   "source": [
    "string = input(\"Enter any sentence\")\n",
    "list_string = string.split(' ')\n",
    "print(list_string)\n",
    "\n",
    "print(\"Joining string with - \")\n",
    "string = '-'.join(list_string)\n",
    "print(string)\n"
   ]
  },
  {
   "cell_type": "markdown",
   "metadata": {},
   "source": [
    "Write a program that reads a string from keyboard and display:\n",
    "* The number of uppercase letters in the string\n",
    "* The number of lowercase letters in the string\n",
    "* The number of digits in the string\n",
    "* The number of whitespace characters in the string"
   ]
  },
  {
   "cell_type": "code",
   "execution_count": 1,
   "metadata": {},
   "outputs": [
    {
     "name": "stdout",
     "output_type": "stream",
     "text": [
      "Enter a string: this-is-1 program.\n",
      "The number of uppercase letters:: 0\n",
      "The number of lowercase letters:: 13\n",
      "The number of digits:: 1\n",
      "The number of whitespace characters:: 1\n"
     ]
    }
   ],
   "source": [
    "text = input('Enter a string: ')\n",
    "lower = upper = digit = space = 0\n",
    "\n",
    "for ch in text:\n",
    "    if ch.isupper():\n",
    "        upper += 1\n",
    "    elif ch.islower():\n",
    "        lower += 1\n",
    "    elif ch.isdigit():\n",
    "        digit += 1\n",
    "    elif ch == ' ':\n",
    "        space += 1\n",
    "\n",
    "print('The number of uppercase letters::', upper)\n",
    "print('The number of lowercase letters::', lower)\n",
    "print('The number of digits::', digit)\n",
    "print('The number of whitespace characters::', space)\n"
   ]
  },
  {
   "cell_type": "markdown",
   "metadata": {},
   "source": [
    "Reverse a word"
   ]
  },
  {
   "cell_type": "code",
   "execution_count": 10,
   "metadata": {},
   "outputs": [
    {
     "name": "stdout",
     "output_type": "stream",
     "text": [
      "Enter any namePython\n",
      "nohtyP\n",
      "nohtyP"
     ]
    }
   ],
   "source": [
    "def reverse(str1):\n",
    "    l = len(str1)-1\n",
    "    for i in range(l , -1,-1):\n",
    "        print(str1[i],end=\"\")\n",
    "string1 = input(\"Enter any name\")\n",
    "reverse(string1)"
   ]
  },
  {
   "cell_type": "markdown",
   "metadata": {},
   "source": [
    "Reverse words in a given String in Python"
   ]
  },
  {
   "cell_type": "code",
   "execution_count": 2,
   "metadata": {},
   "outputs": [
    {
     "name": "stdout",
     "output_type": "stream",
     "text": [
      "Enter any sentencethis is my python program\n",
      "Reverse =  program python my is this\n"
     ]
    }
   ],
   "source": [
    "#Solution 1 :\n",
    "string = input(\"Enter any sentence\")\n",
    "inputWords = string.split(\" \") \n",
    "inputWords=inputWords[-1::-1]\n",
    "string = ' '.join(inputWords)\n",
    "print(\"Reverse = \",string)"
   ]
  },
  {
   "cell_type": "markdown",
   "metadata": {},
   "source": [
    "Reverse every word in a give string"
   ]
  },
  {
   "cell_type": "code",
   "execution_count": 3,
   "metadata": {},
   "outputs": [
    {
     "name": "stdout",
     "output_type": "stream",
     "text": [
      "Enter any sentencethis is my python program\n",
      "siht si ym nohtyp \n"
     ]
    }
   ],
   "source": [
    "#Solution : using strings\n",
    "string = input(\"Enter any sentence\")\n",
    "string2 = \"\"\n",
    "string3= \"\"\n",
    "for i in string:\n",
    "    if i == \" \":\n",
    "        string3 = string3 +string2[::-1]+\" \"\n",
    "        string2=\"\"\n",
    "    else:\n",
    "        string2+=i\n",
    "print(string3)"
   ]
  },
  {
   "cell_type": "code",
   "execution_count": 9,
   "metadata": {},
   "outputs": [
    {
     "name": "stdout",
     "output_type": "stream",
     "text": [
      "Enter any sentencethis is\n",
      "Reverse =  siht si ['siht', 'si']\n"
     ]
    }
   ],
   "source": [
    "#Solution : using list\n",
    "string = input(\"Enter any sentence\")\n",
    "inputWords = string.split(\" \") \n",
    "for i in range(len(inputWords)):\n",
    "    inputWords[i] = inputWords[i][::-1]\n",
    "\n",
    "string = ' '.join(inputWords)\n",
    "print(\"Reverse = \",string, inputWords)"
   ]
  },
  {
   "cell_type": "markdown",
   "metadata": {},
   "source": [
    "Python program to check if a string is palindrome or not"
   ]
  },
  {
   "cell_type": "code",
   "execution_count": 11,
   "metadata": {},
   "outputs": [
    {
     "name": "stdout",
     "output_type": "stream",
     "text": [
      "Enter any sentenceabcba\n",
      "Palindrome\n"
     ]
    }
   ],
   "source": [
    "#solution 1\n",
    "string = input(\"Enter any sentence\")\n",
    "reverse = string[::-1]\n",
    "if string == reverse:\n",
    "    print(\"Palindrome\")\n",
    "else:\n",
    "    print(\"Not a Plaindrome\")\n"
   ]
  },
  {
   "cell_type": "code",
   "execution_count": 12,
   "metadata": {},
   "outputs": [
    {
     "name": "stdout",
     "output_type": "stream",
     "text": [
      "Enter any sentenceabcba\n",
      "Palindrome\n"
     ]
    }
   ],
   "source": [
    "#Solution 2 - Old method\n",
    "string = input(\"Enter any sentence\")\n",
    "\n",
    "i = 0\n",
    "j = len(string) -1\n",
    "while(i<j):\n",
    "    if string[i] != string[j]:\n",
    "        print(\"Not a Palindrome\")\n",
    "        break\n",
    "    i+=1\n",
    "    j-=1\n",
    "else:\n",
    "    print(\"Palindrome\")\n"
   ]
  },
  {
   "cell_type": "markdown",
   "metadata": {},
   "source": [
    "Program to Check if a Substring is Present in a Given String"
   ]
  },
  {
   "cell_type": "code",
   "execution_count": 13,
   "metadata": {},
   "outputs": [
    {
     "name": "stdout",
     "output_type": "stream",
     "text": [
      "Enter any sentenceThis is my string python program\n",
      "Enter string to findstring\n",
      "yes, found\n"
     ]
    }
   ],
   "source": [
    "string = input(\"Enter any sentence\")\n",
    "sub_str =  input(\"Enter string to find\")\n",
    "if (string.find(sub_str) == -1): \n",
    "    print(\"No, sorry not in string\") \n",
    "else: \n",
    "    print(\"yes, found\")\n"
   ]
  },
  {
   "cell_type": "code",
   "execution_count": 14,
   "metadata": {
    "scrolled": true
   },
   "outputs": [
    {
     "name": "stdout",
     "output_type": "stream",
     "text": [
      "Enter any sentenceThis is my String Python Program\n",
      "Enter string to findString\n",
      "yes, found\n"
     ]
    }
   ],
   "source": [
    "#Solution 2: in operator\n",
    "string = input(\"Enter any sentence\")\n",
    "sub_str =  input(\"Enter string to find\")\n",
    "if sub_str in string: \n",
    "    print(\"yes, found\")\n",
    "else: \n",
    "    print(\"No, sorry not in string\") "
   ]
  },
  {
   "cell_type": "code",
   "execution_count": 15,
   "metadata": {},
   "outputs": [
    {
     "name": "stdout",
     "output_type": "stream",
     "text": [
      "Enter any sentencepython java c c++\n",
      "Enter string to findjava\n",
      "yes, found\n"
     ]
    }
   ],
   "source": [
    "# Solution 3\n",
    "string = input(\"Enter any sentence\")\n",
    "sub_str =  input(\"Enter string to find\")\n",
    "\n",
    "try:\n",
    "    if string.index(sub_str): \n",
    "        print(\"yes, found\")\n",
    "except: \n",
    "    print(\"No, sorry not in string\") \n"
   ]
  },
  {
   "cell_type": "markdown",
   "metadata": {},
   "source": [
    "Ways to remove i’th character from string"
   ]
  },
  {
   "cell_type": "code",
   "execution_count": 16,
   "metadata": {},
   "outputs": [
    {
     "name": "stdout",
     "output_type": "stream",
     "text": [
      "The original string is : key computer education\n",
      "Enter position to remove10\n",
      "The string after removal of 10'th character : key computr education \n"
     ]
    }
   ],
   "source": [
    "test_str = \"key computer education\"\n",
    "print (\"The original string is : \" + test_str) \n",
    "pos = int(input(\"Enter position to remove\"))\n",
    "new_str = \"\" \n",
    "\n",
    "for i in range(0, len(test_str)): \n",
    "    if i != pos: \n",
    "        new_str = new_str + test_str[i] \n",
    "print (\"The string after removal of {}'th character : {} \".format(pos, new_str))\n"
   ]
  },
  {
   "cell_type": "markdown",
   "metadata": {},
   "source": [
    "Program to print even length words in a string"
   ]
  },
  {
   "cell_type": "code",
   "execution_count": 17,
   "metadata": {},
   "outputs": [
    {
     "name": "stdout",
     "output_type": "stream",
     "text": [
      "enter sentencethis is my python string program\n",
      "this, is, my, python, string, "
     ]
    }
   ],
   "source": [
    "string = input(\"enter sentence\")\n",
    "\n",
    "string = string.split(' ')\n",
    "for s in string:\n",
    "    if len(s) %2 == 0:\n",
    "        print(s, end=\", \")\n"
   ]
  },
  {
   "cell_type": "markdown",
   "metadata": {},
   "source": [
    "Python Program to print all permutations of a given string"
   ]
  },
  {
   "cell_type": "code",
   "execution_count": 18,
   "metadata": {},
   "outputs": [
    {
     "name": "stdout",
     "output_type": "stream",
     "text": [
      "Enter stringabc\n",
      "abc\n",
      "acb\n",
      "bac\n",
      "bca\n",
      "cba\n",
      "cab\n"
     ]
    }
   ],
   "source": [
    "def permutation(a, l, r): \n",
    "    if l == r: \n",
    "        print(''.join(a)) \n",
    "    else: \n",
    "        for i in range(l, r + 1): \n",
    "            a[l], a[i] = a[i], a[l] \n",
    "            permutation(a, l + 1, r) \n",
    "            a[l], a[i] = a[i], a[l] \n",
    "  \n",
    "string = input(\"Enter string\")\n",
    "n = len(string) \n",
    "a = list(string) \n",
    "permutation(a, 0, n-1) \n"
   ]
  },
  {
   "cell_type": "markdown",
   "metadata": {},
   "source": [
    "Program to accept the strings which contains all vowels"
   ]
  },
  {
   "cell_type": "code",
   "execution_count": 20,
   "metadata": {},
   "outputs": [
    {
     "name": "stdout",
     "output_type": "stream",
     "text": [
      "Enter only vowels stringaeiou\n",
      "{'a', 'i', 'o', 'u', 'e'}\n",
      "Accepted\n"
     ]
    }
   ],
   "source": [
    "string = input(\"Enter only vowels string\")\n",
    "vowels = set(\"aeiou\")\n",
    "\n",
    "s = set()\n",
    "\n",
    "for char in string :\n",
    "    if char in vowels :\n",
    "        s.add(char) \n",
    "    else: \n",
    "        pass\n",
    "print(s)\n",
    "\n",
    "if len(s) == len(vowels) : \n",
    "    print(\"Accepted\") \n",
    "else : \n",
    "    print(\"Not Accepted\")\n"
   ]
  },
  {
   "cell_type": "markdown",
   "metadata": {},
   "source": [
    "Replace word"
   ]
  },
  {
   "cell_type": "code",
   "execution_count": 21,
   "metadata": {},
   "outputs": [
    {
     "name": "stdout",
     "output_type": "stream",
     "text": [
      "I am making string functions string -  making String functions am I \n"
     ]
    }
   ],
   "source": [
    "sent = \"I am using string functions string -  using String functions am I \"\n",
    "l = len(\"using\")\n",
    "f = sent.rfind(\"using\")\n",
    "\n",
    "while f!=-1:\n",
    "    sent= sent[0:f] + \"making\" + sent[f+l:]\n",
    "    f = sent.rfind(\"using\")\n",
    "print(sent)\n"
   ]
  },
  {
   "cell_type": "markdown",
   "metadata": {},
   "source": [
    "Count no of occurrence of all characters"
   ]
  },
  {
   "cell_type": "code",
   "execution_count": 22,
   "metadata": {},
   "outputs": [
    {
     "name": "stdout",
     "output_type": "stream",
     "text": [
      "a = 3\n",
      "b = 2\n",
      "c = 3\n"
     ]
    }
   ],
   "source": [
    "name = \"abcacabc\"\n",
    "\n",
    "newname =\"\"\n",
    "\n",
    "for i in name:\n",
    "    c=0\n",
    "    if i not in newname:\n",
    "        newname = newname+i\n",
    "        print(i, \"=\", name.count(i))\n"
   ]
  },
  {
   "cell_type": "markdown",
   "metadata": {},
   "source": [
    "Python Program to accept string and replace all duplicate characters."
   ]
  },
  {
   "cell_type": "code",
   "execution_count": 23,
   "metadata": {},
   "outputs": [
    {
     "name": "stdout",
     "output_type": "stream",
     "text": [
      "abc\n"
     ]
    }
   ],
   "source": [
    "\n",
    "string =\"abcabcabc\"\n",
    "uniqs = ''\n",
    "for x in string:\n",
    "    if not(x in uniqs):\n",
    "        uniqs = uniqs + x\n",
    "\n",
    "print(uniqs)\n",
    "\n"
   ]
  },
  {
   "cell_type": "markdown",
   "metadata": {},
   "source": [
    "Program to check if a string contains any special character"
   ]
  },
  {
   "cell_type": "code",
   "execution_count": 25,
   "metadata": {},
   "outputs": [
    {
     "name": "stdout",
     "output_type": "stream",
     "text": [
      "Enter any characterString\n",
      "Not a Special Character \n"
     ]
    }
   ],
   "source": [
    "#Solution 1:\n",
    "\n",
    "character = input(\"Enter any character\")\n",
    "\n",
    "if not(character.isalpha() or character.isdigit() or character.isspace()):\n",
    "    print(\"Special Character \")\n",
    "else:\n",
    "    print(\"Not a Special Character \")\n",
    "\n"
   ]
  },
  {
   "cell_type": "code",
   "execution_count": 28,
   "metadata": {},
   "outputs": [
    {
     "name": "stdout",
     "output_type": "stream",
     "text": [
      "Enter any sentence ab$cd\n",
      "Contain special character \n"
     ]
    }
   ],
   "source": [
    "import re\n",
    "\n",
    "regex = re.compile('[@_!#$%^&*()<>?/\\|}{~:]')\n",
    "string = input(\"Enter any sentence \")\n",
    "if(regex.search(string) == None): \n",
    "    print(\"does not contain special character \") \n",
    "else: \n",
    "    print(\"Contain special character \") \n",
    "      \n"
   ]
  },
  {
   "cell_type": "markdown",
   "metadata": {},
   "source": [
    "\tFind words which are greater than given length k"
   ]
  },
  {
   "cell_type": "code",
   "execution_count": 30,
   "metadata": {},
   "outputs": [
    {
     "name": "stdout",
     "output_type": "stream",
     "text": [
      "['Hello!', 'Find', 'words', 'which', 'greater', 'than', 'given', 'length']\n"
     ]
    }
   ],
   "source": [
    "k = 3\n",
    "str =\"Hello! Find words which are greater than given length k\"\n",
    "string = [] \n",
    "text = str.split(\" \") \n",
    "\n",
    "for x in text:  \n",
    "    if len(x) > k:\n",
    "        string.append(x) \n",
    "print(string)\n",
    "\n"
   ]
  },
  {
   "cell_type": "code",
   "execution_count": null,
   "metadata": {},
   "outputs": [],
   "source": []
  }
 ],
 "metadata": {
  "kernelspec": {
   "display_name": "Python 3 (ipykernel)",
   "language": "python",
   "name": "python3"
  },
  "language_info": {
   "codemirror_mode": {
    "name": "ipython",
    "version": 3
   },
   "file_extension": ".py",
   "mimetype": "text/x-python",
   "name": "python",
   "nbconvert_exporter": "python",
   "pygments_lexer": "ipython3",
   "version": "3.9.12"
  }
 },
 "nbformat": 4,
 "nbformat_minor": 4
}
