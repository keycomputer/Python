{
 "cells": [
  {
   "cell_type": "markdown",
   "id": "1e1e09c7",
   "metadata": {},
   "source": [
    "# The Insertion Sort Algorithm in Python"
   ]
  },
  {
   "cell_type": "code",
   "execution_count": 1,
   "id": "cfdeb808",
   "metadata": {},
   "outputs": [
    {
     "name": "stdout",
     "output_type": "stream",
     "text": [
      "[0, 2, 8, 11, 30, 76]\n"
     ]
    }
   ],
   "source": [
    "def insertion_sort(array):\n",
    "    for i in range(1, len(array)):\n",
    "        key_item = array[i]\n",
    "        j = i - 1\n",
    "        while j >= 0 and array[j] > key_item:\n",
    "            array[j + 1] = array[j]\n",
    "            j -= 1\n",
    "        array[j + 1] = key_item\n",
    "    return array\n",
    "arr= insertion_sort([11,76,2,8,0,30])\n",
    "print(arr)"
   ]
  },
  {
   "cell_type": "markdown",
   "id": "7d8537b4",
   "metadata": {},
   "source": [
    "# The Bubble Sort Algorithm in Python"
   ]
  },
  {
   "cell_type": "code",
   "execution_count": 2,
   "id": "7f06c3ab",
   "metadata": {},
   "outputs": [
    {
     "name": "stdout",
     "output_type": "stream",
     "text": [
      "[0, 2, 8, 11, 30, 76]\n"
     ]
    }
   ],
   "source": [
    "def bubble_sort(array):\n",
    "    n = len(array)\n",
    "\n",
    "    for i in range(n):\n",
    "        already_sorted = True\n",
    "\n",
    "        for j in range(n - i - 1):\n",
    "            if array[j] > array[j + 1]:\n",
    "                array[j], array[j + 1] = array[j + 1], array[j]\n",
    "                already_sorted = False\n",
    "        if already_sorted:\n",
    "            break\n",
    "    return array\n",
    "arr = bubble_sort([11,76,2,8,0,30])\n",
    "print(arr)"
   ]
  },
  {
   "cell_type": "markdown",
   "id": "cc604661",
   "metadata": {},
   "source": [
    "# The Merge Sort Algorithm in Python"
   ]
  },
  {
   "cell_type": "code",
   "execution_count": null,
   "id": "167615b6",
   "metadata": {},
   "outputs": [],
   "source": []
  }
 ],
 "metadata": {
  "kernelspec": {
   "display_name": "Python 3 (ipykernel)",
   "language": "python",
   "name": "python3"
  },
  "language_info": {
   "codemirror_mode": {
    "name": "ipython",
    "version": 3
   },
   "file_extension": ".py",
   "mimetype": "text/x-python",
   "name": "python",
   "nbconvert_exporter": "python",
   "pygments_lexer": "ipython3",
   "version": "3.9.12"
  }
 },
 "nbformat": 4,
 "nbformat_minor": 5
}
