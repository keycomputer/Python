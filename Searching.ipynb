{
 "cells": [
  {
   "cell_type": "markdown",
   "id": "fbf09c34",
   "metadata": {},
   "source": [
    "# Linear Search "
   ]
  },
  {
   "cell_type": "code",
   "execution_count": 1,
   "id": "baeee266",
   "metadata": {},
   "outputs": [
    {
     "name": "stdout",
     "output_type": "stream",
     "text": [
      "1 2 3 4 5 6\n",
      "Enter element you want to search :  5\n",
      "Element found at index:  4\n"
     ]
    }
   ],
   "source": [
    "def LinearSearch(array, n, k):\n",
    "    for j in range(0, n):\n",
    "        if (array[j] == k):\n",
    "            return j\n",
    "    return -1\n",
    "\n",
    " \n",
    "array = list([int(i) for i in input().split()])\n",
    "n = len(array)\n",
    "elem =  int(input(\"Enter element you want to search :  \"))\n",
    "result = LinearSearch(array, n, elem)\n",
    "\n",
    "if(result == -1):\n",
    "    print(\"Element not found\")\n",
    "else:\n",
    "    print(\"Element found at index: \", result)"
   ]
  },
  {
   "cell_type": "markdown",
   "id": "83b4eabc",
   "metadata": {},
   "source": [
    "# Binary Search "
   ]
  },
  {
   "cell_type": "code",
   "execution_count": 4,
   "id": "37cbbd33",
   "metadata": {},
   "outputs": [
    {
     "name": "stdout",
     "output_type": "stream",
     "text": [
      "1 2 3 4 5 6 \n",
      "Enter element you want to search :  4\n",
      "Element found at index:  3\n"
     ]
    }
   ],
   "source": [
    "def binarySearch(arr, k, low, high):\n",
    "    while low <= high:\n",
    "        mid = low + (high - low)//2\n",
    "        if arr[mid] == k:\n",
    "            return mid\n",
    "        elif arr[mid] < k:\n",
    "\n",
    "            low = mid + 1\n",
    "        else:\n",
    "\n",
    "            high = mid - 1\n",
    "    return -1\n",
    "\n",
    " \n",
    "array = list([int(i) for i in input().split()])\n",
    "n = len(array)\n",
    "elem =  int(input(\"Enter element you want to search :  \"))\n",
    "result = binarySearch(array, elem ,0, n-1)\n",
    "\n",
    "if(result == -1):\n",
    "    print(\"Element not found\")\n",
    "else:\n",
    "    print(\"Element found at index: \", result)\n",
    "    \n",
    "    "
   ]
  },
  {
   "cell_type": "code",
   "execution_count": null,
   "id": "191b1f24",
   "metadata": {},
   "outputs": [],
   "source": []
  }
 ],
 "metadata": {
  "kernelspec": {
   "display_name": "Python 3 (ipykernel)",
   "language": "python",
   "name": "python3"
  },
  "language_info": {
   "codemirror_mode": {
    "name": "ipython",
    "version": 3
   },
   "file_extension": ".py",
   "mimetype": "text/x-python",
   "name": "python",
   "nbconvert_exporter": "python",
   "pygments_lexer": "ipython3",
   "version": "3.9.12"
  }
 },
 "nbformat": 4,
 "nbformat_minor": 5
}
