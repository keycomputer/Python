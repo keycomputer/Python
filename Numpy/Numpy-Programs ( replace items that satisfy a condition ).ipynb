{
 "cells": [
  {
   "cell_type": "code",
   "execution_count": 10,
   "id": "4ff00b05",
   "metadata": {},
   "outputs": [
    {
     "name": "stdout",
     "output_type": "stream",
     "text": [
      "[ 30  23 100  12   8   9   4]\n"
     ]
    }
   ],
   "source": [
    "#Relational operators\n",
    "import numpy as np\n",
    "arr1 = np.array([30,23,67,12,8,9,4])\n",
    "arr1[arr1 > 30] = 100\n",
    "print(arr1)\n"
   ]
  },
  {
   "cell_type": "code",
   "execution_count": 1,
   "id": "a9f53df4",
   "metadata": {},
   "outputs": [],
   "source": [
    "# Program to replace items that satisfy a condition with another value in Numpy array?"
   ]
  },
  {
   "cell_type": "code",
   "execution_count": 5,
   "id": "d15ed9c4",
   "metadata": {},
   "outputs": [
    {
     "name": "stdout",
     "output_type": "stream",
     "text": [
      "[ 0  0  0 12  8  9  4]\n",
      "[100 100 100  12   8   9   4]\n"
     ]
    }
   ],
   "source": [
    "import numpy as np\n",
    "arr1 = np.array([30,23,67,12,8,9,4])\n",
    " \n",
    "result1 = np.where(arr1 > 20, 0, arr1)  # replace with zero \n",
    "print(result1)\n",
    "\n",
    "result2 = np.where(arr1 > 20, 100, arr1) # replace with 100\n",
    "print(result2)\n",
    "\n"
   ]
  },
  {
   "cell_type": "code",
   "execution_count": 7,
   "id": "b027d4ba",
   "metadata": {},
   "outputs": [
    {
     "name": "stdout",
     "output_type": "stream",
     "text": [
      "[30  0 67 12  8  9  4]\n"
     ]
    }
   ],
   "source": [
    "# Program to replace items thats between number1 and number 2\n",
    "import numpy as np\n",
    "arr1 = np.array([30,23,67,12,8,9,4])\n",
    " \n",
    "result1 = np.where( (arr1 > 20) & (arr1 < 30), 0, arr1)  # replace with zero \n",
    "print(result1)"
   ]
  },
  {
   "cell_type": "code",
   "execution_count": 8,
   "id": "118ce37e",
   "metadata": {},
   "outputs": [
    {
     "name": "stdout",
     "output_type": "stream",
     "text": [
      "[1 0 1 0 0 0 0]\n"
     ]
    }
   ],
   "source": [
    "# Replace all elements of array which satisfy the condition with 1 otherwise 0\n",
    "import numpy as np\n",
    "arr1 = np.array([30,23,67,12,8,9,4])\n",
    " \n",
    "result1 = an_array = np.asarray([0 if val < 30 else 1 for val in the_array])\n",
    "print(result1)\n"
   ]
  },
  {
   "cell_type": "code",
   "execution_count": 9,
   "id": "d3df8b40",
   "metadata": {},
   "outputs": [
    {
     "name": "stdout",
     "output_type": "stream",
     "text": [
      "[nan 23. nan 12.  8.  9.  4.]\n"
     ]
    }
   ],
   "source": [
    "# Replace all elements of an array with Nan value \n",
    "\n",
    "import numpy as np\n",
    " \n",
    "arr1 = np.array([30,23,67,12,8,9,4])\n",
    " \n",
    "result1 = np.where(arr1 > 25, np.NaN, arr1)\n",
    "print(result1)"
   ]
  },
  {
   "cell_type": "code",
   "execution_count": null,
   "id": "189faf82",
   "metadata": {},
   "outputs": [],
   "source": []
  }
 ],
 "metadata": {
  "kernelspec": {
   "display_name": "Python 3 (ipykernel)",
   "language": "python",
   "name": "python3"
  },
  "language_info": {
   "codemirror_mode": {
    "name": "ipython",
    "version": 3
   },
   "file_extension": ".py",
   "mimetype": "text/x-python",
   "name": "python",
   "nbconvert_exporter": "python",
   "pygments_lexer": "ipython3",
   "version": "3.9.13"
  }
 },
 "nbformat": 4,
 "nbformat_minor": 5
}
