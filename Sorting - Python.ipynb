{
 "cells": [
  {
   "cell_type": "markdown",
   "id": "33d13780",
   "metadata": {},
   "source": [
    "# The Insertion Sort Algorithm in Python"
   ]
  },
  {
   "cell_type": "code",
   "execution_count": 1,
   "id": "dc4b8dfc",
   "metadata": {},
   "outputs": [
    {
     "name": "stdout",
     "output_type": "stream",
     "text": [
      "[0, 2, 8, 11, 30, 76]\n"
     ]
    }
   ],
   "source": [
    "def insertion_sort(array):\n",
    "    for i in range(1, len(array)):\n",
    "        key_item = array[i]\n",
    "        j = i - 1\n",
    "        while j >= 0 and array[j] > key_item:\n",
    "            array[j + 1] = array[j]\n",
    "            j -= 1\n",
    "        array[j + 1] = key_item\n",
    "    return array\n",
    "arr= insertion_sort([11,76,2,8,0,30])\n",
    "print(arr)"
   ]
  },
  {
   "cell_type": "markdown",
   "id": "c9cab504",
   "metadata": {},
   "source": [
    "# The Bubble Sort Algorithm in Python"
   ]
  },
  {
   "cell_type": "code",
   "execution_count": 2,
   "id": "82193c85",
   "metadata": {},
   "outputs": [
    {
     "name": "stdout",
     "output_type": "stream",
     "text": [
      "[0, 2, 8, 11, 30, 76]\n"
     ]
    }
   ],
   "source": [
    "def bubble_sort(array):\n",
    "    n = len(array)\n",
    "\n",
    "    for i in range(n):\n",
    "        already_sorted = True\n",
    "\n",
    "        for j in range(n - i - 1):\n",
    "            if array[j] > array[j + 1]:\n",
    "                array[j], array[j + 1] = array[j + 1], array[j]\n",
    "                already_sorted = False\n",
    "        if already_sorted:\n",
    "            break\n",
    "    return array\n",
    "arr = bubble_sort([11,76,2,8,0,30])\n",
    "print(arr)"
   ]
  },
  {
   "cell_type": "markdown",
   "id": "afc7032a",
   "metadata": {},
   "source": [
    "# The Merge Sort Algorithm in Python"
   ]
  },
  {
   "cell_type": "code",
   "execution_count": 4,
   "id": "7192cecd",
   "metadata": {},
   "outputs": [
    {
     "name": "stdout",
     "output_type": "stream",
     "text": [
      "[0, 2, 8, 11, 30, 76]\n"
     ]
    }
   ],
   "source": [
    "def merge(left, right):\n",
    "    if len(left) == 0:\n",
    "        return right\n",
    "    if len(right) == 0:\n",
    "        return left\n",
    "\n",
    "    result = []\n",
    "    index_left = index_right = 0\n",
    "    while len(result) < len(left) + len(right):\n",
    "        if left[index_left] <= right[index_right]:\n",
    "            result.append(left[index_left])\n",
    "            index_left += 1\n",
    "        else:\n",
    "            result.append(right[index_right])\n",
    "            index_right += 1\n",
    "        if index_right == len(right):\n",
    "            result += left[index_left:]\n",
    "            break\n",
    "\n",
    "        if index_left == len(left):\n",
    "            result += right[index_right:]\n",
    "            break\n",
    "\n",
    "    return result\n",
    "def merge_sort(array):\n",
    "    if len(array) < 2:\n",
    "        return array\n",
    "\n",
    "    midpoint = len(array) // 2\n",
    "    return merge(\n",
    "        left=merge_sort(array[:midpoint]),\n",
    "        right=merge_sort(array[midpoint:]))\n",
    "arr = merge_sort([11,76,2,8,0,30])\n",
    "print(arr)"
   ]
  },
  {
   "cell_type": "markdown",
   "id": "39ebec4c",
   "metadata": {},
   "source": [
    "# The Quicksort Algorithm in Python"
   ]
  },
  {
   "cell_type": "code",
   "execution_count": 5,
   "id": "5bdc2240",
   "metadata": {},
   "outputs": [
    {
     "name": "stdout",
     "output_type": "stream",
     "text": [
      "[0, 2, 8, 11, 30, 76]\n"
     ]
    }
   ],
   "source": [
    "from random import randint\n",
    "\n",
    "def quicksort(array):\n",
    "    if len(array) < 2:\n",
    "        return array\n",
    "\n",
    "    low, same, high = [], [], []\n",
    "\n",
    "    pivot = array[randint(0, len(array) - 1)]\n",
    "\n",
    "    for item in array:\n",
    "        if item < pivot:\n",
    "            low.append(item)\n",
    "        elif item == pivot:\n",
    "            same.append(item)\n",
    "        elif item > pivot:\n",
    "            high.append(item)\n",
    "    return quicksort(low) + same + quicksort(high)\n",
    "arr = quicksort([11,76,2,8,0,30])\n",
    "print(arr)"
   ]
  },
  {
   "cell_type": "code",
   "execution_count": null,
   "id": "1d5a6765",
   "metadata": {},
   "outputs": [],
   "source": []
  }
 ],
 "metadata": {
  "kernelspec": {
   "display_name": "Python 3 (ipykernel)",
   "language": "python",
   "name": "python3"
  },
  "language_info": {
   "codemirror_mode": {
    "name": "ipython",
    "version": 3
   },
   "file_extension": ".py",
   "mimetype": "text/x-python",
   "name": "python",
   "nbconvert_exporter": "python",
   "pygments_lexer": "ipython3",
   "version": "3.9.12"
  }
 },
 "nbformat": 4,
 "nbformat_minor": 5
}
