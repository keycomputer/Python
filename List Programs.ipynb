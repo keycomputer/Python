{
 "cells": [
  {
   "cell_type": "markdown",
   "metadata": {},
   "source": [
    "Program to add elements in a list"
   ]
  },
  {
   "cell_type": "code",
   "execution_count": 1,
   "metadata": {},
   "outputs": [
    {
     "name": "stdout",
     "output_type": "stream",
     "text": [
      "Enter number of elements you want to enter4\n",
      "Enter element ::1\n",
      "Enter element ::2\n",
      "Enter element ::3\n",
      "Enter element ::4\n",
      "[1, 2, 3, 4]\n"
     ]
    }
   ],
   "source": [
    "l1 =[]\n",
    "n  = int(input(\"Enter number of elements you want to enter\" ))\n",
    "for i in range(n):\n",
    "    l1.append(eval(input(\"Enter element ::\")))\n",
    "\n",
    "else:\n",
    "    print(l1)\n"
   ]
  },
  {
   "cell_type": "markdown",
   "metadata": {},
   "source": [
    "Program to print list"
   ]
  },
  {
   "cell_type": "code",
   "execution_count": 3,
   "metadata": {},
   "outputs": [
    {
     "name": "stdout",
     "output_type": "stream",
     "text": [
      "[1, 2, 3, 4]\n",
      "1\n",
      "2\n",
      "3\n",
      "4\n",
      "1\n",
      "2\n",
      "3\n",
      "4\n"
     ]
    }
   ],
   "source": [
    "print(l1)\n",
    "\n",
    "#or\n",
    "\n",
    "for i in range(len(l1)):\n",
    "\tprint(l1[i])\n",
    "\n",
    "#or\n",
    "\n",
    "for i in l1:\n",
    "\tprint(i)\n"
   ]
  },
  {
   "cell_type": "markdown",
   "metadata": {},
   "source": [
    "## Program to Find the Largest Number in a List"
   ]
  },
  {
   "cell_type": "code",
   "execution_count": 4,
   "metadata": {},
   "outputs": [
    {
     "name": "stdout",
     "output_type": "stream",
     "text": [
      "Enter number of elements:5\n",
      "Enter element:1\n",
      "Enter element:7\n",
      "Enter element:2\n",
      "Enter element:5\n",
      "Enter element:6\n",
      "Largest element is: 7\n"
     ]
    }
   ],
   "source": [
    "List1=[]\n",
    "n=int(input(\"Enter number of elements:\"))\n",
    "for i in range(1,n+1):\n",
    "    elem=int(input(\"Enter element:\"))\n",
    "    List1.append(elem)\n",
    "List1.sort()\n",
    "print(\"Largest element is:\",List1[n-1])\n"
   ]
  },
  {
   "cell_type": "markdown",
   "metadata": {},
   "source": [
    "Solution 2 : old method\n"
   ]
  },
  {
   "cell_type": "markdown",
   "metadata": {},
   "source": [
    "\n"
   ]
  },
  {
   "cell_type": "code",
   "execution_count": 2,
   "metadata": {},
   "outputs": [
    {
     "name": "stdout",
     "output_type": "stream",
     "text": [
      "Enter number of elements:5\n",
      "Enter element:3\n",
      "Enter element:4\n",
      "Enter element:3\n",
      "Enter element:3\n",
      "Enter element:1\n",
      "Largest Element is  4\n"
     ]
    }
   ],
   "source": [
    "List1=[]\n",
    "n=int(input(\"Enter number of elements:\"))\n",
    "for i in range(1,n+1):\n",
    "    elem=int(input(\"Enter element:\"))\n",
    "    List1.append(elem)\n",
    "maxnum = List1[0]\n",
    "for i in range(len(List1)):\n",
    "    for j in range(i,len(List1)):\n",
    "        if maxnum < List1[j]:\n",
    "            maxnum = List1[j]\n",
    "else:\n",
    "    print(\"Largest Element is \", maxnum)"
   ]
  },
  {
   "cell_type": "markdown",
   "metadata": {},
   "source": [
    "Solution 3"
   ]
  },
  {
   "cell_type": "code",
   "execution_count": 3,
   "metadata": {},
   "outputs": [
    {
     "name": "stdout",
     "output_type": "stream",
     "text": [
      "Largest element is: 4\n"
     ]
    }
   ],
   "source": [
    "# printing the maximum element \n",
    "print(\"Largest element is:\", max(List1))\n"
   ]
  },
  {
   "cell_type": "markdown",
   "metadata": {},
   "source": [
    "## Program to Find the Second Largest Number in a List"
   ]
  },
  {
   "cell_type": "code",
   "execution_count": 4,
   "metadata": {},
   "outputs": [
    {
     "name": "stdout",
     "output_type": "stream",
     "text": [
      "Second largest no ::  5\n"
     ]
    }
   ],
   "source": [
    "list1 = [1,5,2,7,3,4]\n",
    "\n",
    "list1.sort()\n",
    "print(\"Second largest no :: \", list1[-2])\n"
   ]
  },
  {
   "cell_type": "markdown",
   "metadata": {},
   "source": [
    "Problem Solution 2: \n",
    "Old fashion:  find max , then compare with list items and find second largest"
   ]
  },
  {
   "cell_type": "code",
   "execution_count": 5,
   "metadata": {},
   "outputs": [
    {
     "name": "stdout",
     "output_type": "stream",
     "text": [
      "Second largest no ::  5\n"
     ]
    }
   ],
   "source": [
    "list1 = [1,5,2,7,3,4]\n",
    "mx = max(list1[0], list1[1])\n",
    "smx = max(list1[0],list1[1])\n",
    "\n",
    "for i in range(2, len(list1)):\n",
    "    if list1[i] >mx:\n",
    "        smx = mx\n",
    "        mx = list1[i]\n",
    "    else:\n",
    "        if list1[i]>smx:\n",
    "            smx = list1[i]\n",
    "\n",
    "print(\"Second largest no :: \",smx)\n"
   ]
  },
  {
   "cell_type": "markdown",
   "metadata": {},
   "source": [
    "## Python program to find N largest elements from a list"
   ]
  },
  {
   "cell_type": "code",
   "execution_count": 1,
   "metadata": {},
   "outputs": [
    {
     "name": "stdout",
     "output_type": "stream",
     "text": [
      "[100, 66]\n"
     ]
    }
   ],
   "source": [
    "list1 = [20, 16, 1, 5, 100, 31, 47, 66, 10] \n",
    "N = 2\n",
    "list2= [] \n",
    "  \n",
    "for i in range(0, N):  \n",
    "    max1 = 0\n",
    "      \n",
    "    for j in range(len(list1)):      \n",
    "        if list1[j] > max1: \n",
    "            max1 = list1[j]; \n",
    "              \n",
    "    list1.remove(max1); \n",
    "    list2.append(max1) \n",
    "      \n",
    "print(list2)\n"
   ]
  },
  {
   "cell_type": "markdown",
   "metadata": {},
   "source": [
    "## Python program to find smallest number in a list"
   ]
  },
  {
   "cell_type": "code",
   "execution_count": 3,
   "metadata": {},
   "outputs": [
    {
     "name": "stdout",
     "output_type": "stream",
     "text": [
      "Smallest element is: 1\n"
     ]
    }
   ],
   "source": [
    "#Solution1 : using min function \n",
    "list1 = [20, 16, 1, 5, 100, 31, 47, 66, 10] \n",
    "print(\"Smallest element is:\", min(list1))  \n"
   ]
  },
  {
   "cell_type": "code",
   "execution_count": 4,
   "metadata": {},
   "outputs": [
    {
     "name": "stdout",
     "output_type": "stream",
     "text": [
      "Smallest element is: 1\n"
     ]
    }
   ],
   "source": [
    "#Solution 2:  using sort function\n",
    "list1 = [20, 16, 1, 5, 100, 31, 47, 66, 10]\n",
    "list1.sort()\n",
    "print(\"Smallest element is:\", list1[0])  \n"
   ]
  },
  {
   "cell_type": "code",
   "execution_count": 5,
   "metadata": {},
   "outputs": [
    {
     "name": "stdout",
     "output_type": "stream",
     "text": [
      "Smallest element is: 1\n"
     ]
    }
   ],
   "source": [
    "#Solution 3: using traditional method\n",
    "list1 = [20, 16, 1, 5, 100, 31, 47, 66, 10]\n",
    "\n",
    "minnum = list1[0]\n",
    "for i in range(len(list1)):\n",
    "    if minnum>list1[i]:\n",
    "        minnum = list1[i]\n",
    "else:\n",
    "    print(\"Smallest element is:\", minnum)   \n"
   ]
  },
  {
   "cell_type": "code",
   "execution_count": 6,
   "metadata": {},
   "outputs": [
    {
     "name": "stdout",
     "output_type": "stream",
     "text": [
      "Smallest element is: 1\n"
     ]
    }
   ],
   "source": [
    "#or\n",
    "list1 = [20, 16, 1, 5, 100, 31, 47, 66, 10]\n",
    "\n",
    "minnum = list1[0]\n",
    "for i in list1:\n",
    "    if minnum>i :\n",
    "        minnum = i\n",
    "else:\n",
    "    print(\"Smallest element is:\", minnum)  \n"
   ]
  },
  {
   "cell_type": "markdown",
   "metadata": {},
   "source": [
    "## Python Program to find length of list"
   ]
  },
  {
   "cell_type": "code",
   "execution_count": 7,
   "metadata": {},
   "outputs": [
    {
     "name": "stdout",
     "output_type": "stream",
     "text": [
      "Length of list is  6\n"
     ]
    }
   ],
   "source": [
    "# Solution 1:\n",
    "list1 = [12,16,1,3,18,7]\n",
    "print(\"Length of list is \",len(list1))\n"
   ]
  },
  {
   "cell_type": "code",
   "execution_count": 8,
   "metadata": {},
   "outputs": [
    {
     "name": "stdout",
     "output_type": "stream",
     "text": [
      "Length of list is 6\n"
     ]
    }
   ],
   "source": [
    "list1 = [12,16,1,3,18,7]\n",
    "\n",
    "c= 0\n",
    "for i in list1:\n",
    "    c = c+1\n",
    "else:\n",
    "    print(\"Length of list is\",c)\n"
   ]
  },
  {
   "cell_type": "code",
   "execution_count": 10,
   "metadata": {},
   "outputs": [
    {
     "name": "stdout",
     "output_type": "stream",
     "text": [
      "Length of list is 6\n"
     ]
    }
   ],
   "source": [
    "#Solution 3: Using length_hint()\n",
    "\n",
    "from operator import length_hint\n",
    "list1 = [12,16,1,3,18,7]\n",
    "\n",
    "print(\"Length of list is\", length_hint(list1))\n",
    "\n"
   ]
  },
  {
   "cell_type": "markdown",
   "metadata": {},
   "source": [
    "## Python program  to check if element exists in list"
   ]
  },
  {
   "cell_type": "code",
   "execution_count": 11,
   "metadata": {},
   "outputs": [
    {
     "name": "stdout",
     "output_type": "stream",
     "text": [
      "Element exist \n"
     ]
    }
   ],
   "source": [
    "# Solution 1: Old mothod\n",
    "\n",
    "list1 = [12,16,1,3,18,7]\n",
    "elem = 1\n",
    "\n",
    "for i in list1:\n",
    "    if i == elem:\n",
    "        print(\"Element exist \")\n",
    "        break\n",
    "else:\n",
    "    print(\"Element not found\")\n"
   ]
  },
  {
   "cell_type": "code",
   "execution_count": 12,
   "metadata": {},
   "outputs": [
    {
     "name": "stdout",
     "output_type": "stream",
     "text": [
      "Element exist \n"
     ]
    }
   ],
   "source": [
    "# Solution 2:\n",
    "list1 = [12,16,1,3,18,7]\n",
    "elem = 1\n",
    "\n",
    "for i in range(len(list1)):\n",
    "    if list1[i] == elem:\n",
    "        print(\"Element exist \")\n",
    "        break\n",
    "else:\n",
    "    print(\"Element not found\")\n"
   ]
  },
  {
   "cell_type": "code",
   "execution_count": 14,
   "metadata": {},
   "outputs": [
    {
     "name": "stdout",
     "output_type": "stream",
     "text": [
      "Element found\n"
     ]
    }
   ],
   "source": [
    "# Solution 2:  using in method (if condition)\n",
    "list1 = [12,16,1,3,18,7]\n",
    "elem = 1\n",
    "\n",
    "if elem in list1:\n",
    "    print(\"Element found\")\n",
    "else:\n",
    "    print(\"Element not found\")\n"
   ]
  },
  {
   "cell_type": "markdown",
   "metadata": {},
   "source": [
    "## Python program to interchange first and last elements in a list\n"
   ]
  },
  {
   "cell_type": "code",
   "execution_count": 15,
   "metadata": {},
   "outputs": [
    {
     "name": "stdout",
     "output_type": "stream",
     "text": [
      "before Swapping\n",
      "12 7\n",
      "after Swapping\n",
      "7 12\n"
     ]
    }
   ],
   "source": [
    "# Solution 1: swapping \n",
    "\n",
    "list1 = [12,16,1,3,18,7]\n",
    "\n",
    "l = len(list1)\n",
    "print(\"before Swapping\")\n",
    "\n",
    "print(list1[0], list1[l-1])\n",
    "temp = list1[l-1]\n",
    "list1[l-1] = list1[0]\n",
    "list1[0] = temp\n",
    "\n",
    "print(\"after Swapping\")\n",
    "print(list1[0], list1[l-1])\n"
   ]
  },
  {
   "cell_type": "code",
   "execution_count": 16,
   "metadata": {},
   "outputs": [
    {
     "name": "stdout",
     "output_type": "stream",
     "text": [
      "before Swapping\n",
      "12 7\n",
      "after Swapping\n",
      "7 12\n"
     ]
    }
   ],
   "source": [
    "# Solution 2: \n",
    "list1 = [12,16,1,3,18,7]\n",
    "\n",
    "l = len(list1)\n",
    "print(\"before Swapping\")\n",
    "print(list1[0], list1[l-1])\n",
    "\n",
    "list1[0], list1[l-1] = list1[l-1], list1[0]\n",
    "\n",
    "print(\"after Swapping\")\n",
    "print(list1[0], list1[l-1])\n"
   ]
  },
  {
   "cell_type": "markdown",
   "metadata": {},
   "source": [
    "## Python program to swap two elements in a list"
   ]
  },
  {
   "cell_type": "code",
   "execution_count": 17,
   "metadata": {},
   "outputs": [
    {
     "name": "stdout",
     "output_type": "stream",
     "text": [
      "Enter position 1:: 1\n",
      "Enter position 2:: 4\n",
      "before Swapping\n",
      "16 18\n",
      "after Swapping\n",
      "18 16\n"
     ]
    }
   ],
   "source": [
    "list1 = [12,16,1,3,18,7]\n",
    "\n",
    "l = len(list1)\n",
    "pos1 = int(input(\"Enter position 1:: \"))\n",
    "pos2 = int(input(\"Enter position 2:: \"))\n",
    "print(\"before Swapping\")\n",
    "print(list1[pos1], list1[pos2])\n",
    "\n",
    "list1[pos1], list1[pos2] = list1[pos2], list1[pos1]\n",
    "\n",
    "print(\"after Swapping\")\n",
    "print(list1[pos1], list1[pos2])\n",
    "\n"
   ]
  },
  {
   "cell_type": "code",
   "execution_count": 18,
   "metadata": {},
   "outputs": [
    {
     "name": "stdout",
     "output_type": "stream",
     "text": [
      "Enter position 1:: 1\n",
      "Enter position 2:: 5\n",
      "before Swapping\n",
      "16 7\n",
      "after Swapping\n",
      "7 16\n"
     ]
    }
   ],
   "source": [
    "list1 = [12,16,1,3,18,7]\n",
    "\n",
    "l = len(list1)\n",
    "pos1 = int(input(\"Enter position 1:: \"))\n",
    "pos2 = int(input(\"Enter position 2:: \"))\n",
    "if (pos1>=0 and pos1<l) and (pos2>=0 and pos2 <l):\n",
    "    print(\"before Swapping\")\n",
    "    print(list1[pos1], list1[pos2])\n",
    "    list1[pos1], list1[pos2] = list1[pos2], list1[pos1]\n",
    "    print(\"after Swapping\")\n",
    "    print(list1[pos1], list1[pos2])\n",
    "else:\n",
    "    print(\"Please enter correct position \")\n"
   ]
  },
  {
   "cell_type": "markdown",
   "metadata": {},
   "source": [
    "## Python program to find sum of elements in list\n"
   ]
  },
  {
   "cell_type": "code",
   "execution_count": 19,
   "metadata": {},
   "outputs": [
    {
     "name": "stdout",
     "output_type": "stream",
     "text": [
      "Sum of List = 57\n"
     ]
    }
   ],
   "source": [
    "list1 = [12,16,1,3,18,7]\n",
    "sumofn = 0\n",
    "\n",
    "for i in list1 :\n",
    "    sumofn += i\n",
    "else:\n",
    "    print(\"Sum of List =\", sumofn)\n"
   ]
  },
  {
   "cell_type": "code",
   "execution_count": 20,
   "metadata": {},
   "outputs": [
    {
     "name": "stdout",
     "output_type": "stream",
     "text": [
      "Sum of List = 57\n"
     ]
    }
   ],
   "source": [
    "list1 = [12,16,1,3,18,7]\n",
    "sumofn = 0\n",
    "\n",
    "for i in range(len(list1)) :\n",
    "    sumofn += list1[i]\n",
    "\n",
    "else:\n",
    "    print(\"Sum of List =\", sumofn)\n"
   ]
  },
  {
   "cell_type": "markdown",
   "metadata": {},
   "source": [
    "## Python  program to Multiply all numbers in the list"
   ]
  },
  {
   "cell_type": "code",
   "execution_count": 21,
   "metadata": {},
   "outputs": [
    {
     "name": "stdout",
     "output_type": "stream",
     "text": [
      "Multiple of List = 72576\n"
     ]
    }
   ],
   "source": [
    "list1 = [12,16,1,3,18,7]\n",
    "result = 1 \n",
    "\n",
    "for i in range(len(list1)) :\n",
    "    result *= list1[i]\n",
    "\n",
    "else:\n",
    "    print(\"Multiple of List =\", result)\n"
   ]
  },
  {
   "cell_type": "code",
   "execution_count": 22,
   "metadata": {},
   "outputs": [
    {
     "name": "stdout",
     "output_type": "stream",
     "text": [
      "Multiply of List = 72576\n"
     ]
    }
   ],
   "source": [
    "list1 = [12,16,1,3,18,7]\n",
    "result = 1 \n",
    "\n",
    "for i in list1:\n",
    "    result *= i\n",
    "\n",
    "else:\n",
    "    print(\"Multiply of List =\", result)\n"
   ]
  },
  {
   "cell_type": "markdown",
   "metadata": {},
   "source": [
    "## Python program to print even numbers in a list"
   ]
  },
  {
   "cell_type": "code",
   "execution_count": 23,
   "metadata": {},
   "outputs": [
    {
     "name": "stdout",
     "output_type": "stream",
     "text": [
      "12\t16\t18\t\n",
      "End of List \n"
     ]
    }
   ],
   "source": [
    "list1 = [12,16,1,3,18,7]\n",
    "\n",
    "for i in list1:\n",
    "    if i % 2 == 0:\n",
    "        print(i , end=\"\\t\")\n",
    "else:\n",
    "    print(\"\\nEnd of List \")\n",
    "    \n"
   ]
  },
  {
   "cell_type": "code",
   "execution_count": 24,
   "metadata": {},
   "outputs": [
    {
     "name": "stdout",
     "output_type": "stream",
     "text": [
      "12\t16\t18\t\n",
      "End of List \n"
     ]
    }
   ],
   "source": [
    "list1 = [12,16,1,3,18,7]\n",
    "\n",
    "for i in range(len(list1)):\n",
    "    if list1[i] % 2 == 0:\n",
    "        print(list1[i] , end=\"\\t\")\n",
    "else:\n",
    "    print(\"\\nEnd of List \")\n"
   ]
  },
  {
   "cell_type": "markdown",
   "metadata": {},
   "source": [
    "## Python program to print odd numbers in a List"
   ]
  },
  {
   "cell_type": "code",
   "execution_count": null,
   "metadata": {},
   "outputs": [],
   "source": []
  },
  {
   "cell_type": "code",
   "execution_count": null,
   "metadata": {},
   "outputs": [],
   "source": []
  },
  {
   "cell_type": "markdown",
   "metadata": {},
   "source": [
    "## Python program to count Even and Odd numbers in a List"
   ]
  },
  {
   "cell_type": "code",
   "execution_count": 25,
   "metadata": {},
   "outputs": [
    {
     "name": "stdout",
     "output_type": "stream",
     "text": [
      "Even number - 3 \n",
      "Odd numbers -  3 \n"
     ]
    }
   ],
   "source": [
    "list1 = [12,16,1,3,18,7]\n",
    "ec, oc =0 ,0\n",
    "\n",
    "for i in range(len(list1)):\n",
    "    if list1[i] % 2 != 0:\n",
    "        oc +=1\n",
    "    else:\n",
    "        ec+=1\n",
    "else:\n",
    "    print(\"Even number - {} \\nOdd numbers -  {} \".format(ec,oc))\n"
   ]
  },
  {
   "cell_type": "code",
   "execution_count": 27,
   "metadata": {},
   "outputs": [
    {
     "name": "stdout",
     "output_type": "stream",
     "text": [
      "Odd numbers :  5 \n",
      "Even numbers :  5\n"
     ]
    }
   ],
   "source": [
    "# List comprehension list()\n",
    "L1 = [1,2,3,4,5,6,7,8,9,0]\n",
    "odd_c = [num for num in L1 if num % 2 != 0]\n",
    "even_c = [num for num in L1 if num % 2 == 0]\n",
    "print(\"Odd numbers : \",len(odd_c), \"\\nEven numbers : \",len(even_c))\n"
   ]
  },
  {
   "cell_type": "code",
   "execution_count": 29,
   "metadata": {},
   "outputs": [
    {
     "name": "stdout",
     "output_type": "stream",
     "text": [
      "Odd numbers :  5 \n",
      "Even numbers :  5\n"
     ]
    }
   ],
   "source": [
    "# Lambda\n",
    "L1 = [1,2,3,4,5,6,7,8,9,0]\n",
    "odd_c = list(filter(lambda x: (x%2 != 0) , L1))\n",
    "even_c = list(filter(lambda x: (x%2 == 0) , L1))\n",
    "print(\"Odd numbers : \",len(odd_c), \"\\nEven numbers : \",len(even_c))\n"
   ]
  },
  {
   "cell_type": "markdown",
   "metadata": {},
   "source": [
    "## Python program to print all numbers in a even range"
   ]
  },
  {
   "cell_type": "code",
   "execution_count": 30,
   "metadata": {},
   "outputs": [
    {
     "name": "stdout",
     "output_type": "stream",
     "text": [
      "Numbers in Even Index\n",
      "12\n",
      "1\n",
      "18\n"
     ]
    }
   ],
   "source": [
    "list1 = [12,16,1,3,18,7]\n",
    "print(\"Numbers in Even Index\")\n",
    "for i in range(len(list1)):\n",
    "    if i%2 == 0:\n",
    "        print(list1[i])\n"
   ]
  },
  {
   "cell_type": "markdown",
   "metadata": {},
   "source": [
    "## Python program to print all numbers in a odd range"
   ]
  },
  {
   "cell_type": "code",
   "execution_count": 31,
   "metadata": {},
   "outputs": [
    {
     "name": "stdout",
     "output_type": "stream",
     "text": [
      "Numbers in Even Index\n",
      "16\n",
      "3\n",
      "7\n"
     ]
    }
   ],
   "source": [
    "list1 = [12,16,1,3,18,7]\n",
    "print(\"Numbers in Even Index\")\n",
    "for i in range(len(list1)):\n",
    "    if i%2 != 0:\n",
    "        print(list1[i])\n"
   ]
  },
  {
   "cell_type": "markdown",
   "metadata": {},
   "source": [
    "## Python program to print positive numbers in a list\n"
   ]
  },
  {
   "cell_type": "code",
   "execution_count": 32,
   "metadata": {},
   "outputs": [
    {
     "name": "stdout",
     "output_type": "stream",
     "text": [
      "Positive Numbers in list:: \n",
      "12\n",
      "1\n",
      "18\n",
      "7\n"
     ]
    }
   ],
   "source": [
    "list1 = [12,-16,1,-3,18,7]\n",
    "print(\"Positive Numbers in list:: \")\n",
    "for i in range(len(list1)):\n",
    "    if list1[i] >= 0:\n",
    "        print(list1[i])\n"
   ]
  },
  {
   "cell_type": "code",
   "execution_count": 33,
   "metadata": {},
   "outputs": [
    {
     "name": "stdout",
     "output_type": "stream",
     "text": [
      "Positive Numbers in list:: \n",
      "12\n",
      "1\n",
      "18\n",
      "7\n"
     ]
    }
   ],
   "source": [
    "list1 = [12,-16,1,-3,18,7]\n",
    "print(\"Positive Numbers in list:: \")\n",
    "for i in list1:\n",
    "    if i >= 0:\n",
    "        print(i)\n",
    "\n"
   ]
  },
  {
   "cell_type": "markdown",
   "metadata": {},
   "source": [
    "## Python program to print negative numbers in a list"
   ]
  },
  {
   "cell_type": "code",
   "execution_count": 35,
   "metadata": {},
   "outputs": [
    {
     "name": "stdout",
     "output_type": "stream",
     "text": [
      "Positive Numbers in list:: \n",
      "-16\n",
      "-3\n"
     ]
    }
   ],
   "source": [
    "list1 = [12,-16,1,-3,18,7]\n",
    "print(\"Positive Numbers in list:: \")\n",
    "for i in range(len(list1)):\n",
    "    if list1[i] < 0:\n",
    "        print(list1[i])"
   ]
  },
  {
   "cell_type": "code",
   "execution_count": 36,
   "metadata": {},
   "outputs": [
    {
     "name": "stdout",
     "output_type": "stream",
     "text": [
      "Positive Numbers in list:: \n",
      "-16\n",
      "-3\n"
     ]
    }
   ],
   "source": [
    "list1 = [12,-16,1,-3,18,7]\n",
    "print(\"Positive Numbers in list:: \")\n",
    "for i in list1:\n",
    "    if i < 0:\n",
    "        print(i)\n"
   ]
  },
  {
   "cell_type": "markdown",
   "metadata": {},
   "source": [
    "# Python program to count positive and negative numbers in a list\n"
   ]
  },
  {
   "cell_type": "code",
   "execution_count": 1,
   "metadata": {},
   "outputs": [
    {
     "name": "stdout",
     "output_type": "stream",
     "text": [
      "Positive Numbers 4, Negative numbers 2 \n"
     ]
    }
   ],
   "source": [
    "list1 = [12,-16,1,-3,18,7]\n",
    "pc =0\n",
    "nc =0\n",
    "\n",
    "for i in range(len(list1)):\n",
    "    if list1[i] >=0:\n",
    "        pc +=1\n",
    "    else:\n",
    "        nc+=1\n",
    "else:\n",
    "    print(\"Positive Numbers {}, Negative numbers {} \".format(pc,nc))"
   ]
  },
  {
   "cell_type": "markdown",
   "metadata": {},
   "source": [
    "# Python program to remove Nth occurrence of the given word"
   ]
  },
  {
   "cell_type": "code",
   "execution_count": 2,
   "metadata": {},
   "outputs": [
    {
     "name": "stdout",
     "output_type": "stream",
     "text": [
      "Updated list is:  ['python', 'Programming', 'C++', 'C', 'Java']\n"
     ]
    }
   ],
   "source": [
    "lst = [\"python\",\"Programming\",\"python\",\"C++\",\"C\",\"Java\"]\n",
    "word= \"python\"\n",
    "newList = [] \n",
    "count = 0\n",
    "N= 2\n",
    "# iterate the elements \n",
    "for i in lst: \n",
    "    if(i == word): \n",
    "        count = count + 1\n",
    "        if(count != N): \n",
    "            newList.append(i) \n",
    "    else: \n",
    "        newList.append(i) \n",
    "          \n",
    "lst = newList \n",
    "  \n",
    "if count == 0: \n",
    "    print(\"Item not found\") \n",
    "else: \n",
    "    print(\"Updated list is: \", lst)\n"
   ]
  },
  {
   "cell_type": "code",
   "execution_count": 3,
   "metadata": {},
   "outputs": [
    {
     "name": "stdout",
     "output_type": "stream",
     "text": [
      "Updated list is:  ['python', 'Programming', 'C++', 'C', 'Java']\n"
     ]
    }
   ],
   "source": [
    "\n",
    "lst = [\"python\",\"Programming\",\"python\",\"C++\",\"C\",\"Java\"]\n",
    "word= \"python\" \n",
    "count = 0\n",
    "N= 2\n",
    "# iterate the elements \n",
    "for i in range(len(lst)): \n",
    "    if(lst[i] == word): \n",
    "        count = count + 1\n",
    "        if(count == N):\n",
    "            del lst[i]\n",
    "            break\n",
    "    \n",
    "\n",
    "if count == 0: \n",
    "    print(\"Item not found\") \n",
    "else: \n",
    "    print(\"Updated list is: \", lst)\n"
   ]
  },
  {
   "cell_type": "markdown",
   "metadata": {},
   "source": [
    "# Program to clear a list in Python\n"
   ]
  },
  {
   "cell_type": "code",
   "execution_count": 4,
   "metadata": {},
   "outputs": [
    {
     "name": "stdout",
     "output_type": "stream",
     "text": [
      "List after clear method  []\n"
     ]
    }
   ],
   "source": [
    "# Solution 1 : Clear() method\n",
    "\n",
    "lst = [\"python\",\"Programming\",\"python\",\"C++\",\"C\",\"Java\"]\n",
    "lst.clear()\n",
    "\n",
    "print(\"List after clear method \",lst)\n"
   ]
  },
  {
   "cell_type": "code",
   "execution_count": 5,
   "metadata": {},
   "outputs": [
    {
     "name": "stdout",
     "output_type": "stream",
     "text": [
      "List after clear method  []\n"
     ]
    }
   ],
   "source": [
    "# Solution 2: *= 0\n",
    "lst = [\"python\",\"Programming\",\"python\",\"C++\",\"C\",\"Java\"]\n",
    "lst *=0\n",
    "\n",
    "print(\"List after clear method \",lst)\n",
    "\n"
   ]
  },
  {
   "cell_type": "code",
   "execution_count": 7,
   "metadata": {},
   "outputs": [
    {
     "name": "stdout",
     "output_type": "stream",
     "text": [
      "List after clear method  []\n"
     ]
    }
   ],
   "source": [
    "# Solution 3: delete method\n",
    "lst = [\"python\",\"Programming\",\"python\",\"C++\",\"C\",\"Java\"]\n",
    "del lst[:]\n",
    "\n",
    "print(\"List after clear method \",lst)\n"
   ]
  },
  {
   "cell_type": "markdown",
   "metadata": {},
   "source": [
    "# Python Program to Cloning or Copying a list\n"
   ]
  },
  {
   "cell_type": "code",
   "execution_count": 9,
   "metadata": {},
   "outputs": [
    {
     "name": "stdout",
     "output_type": "stream",
     "text": [
      "['python', 'Programming', 'python', 'C++', 'C', 'Java']\n"
     ]
    }
   ],
   "source": [
    "# Solution 1: Slicing Technique\n",
    "list1 = [\"python\",\"Programming\",\"python\",\"C++\",\"C\",\"Java\"]\n",
    "list2 = list1[  : ]\n",
    "\n",
    "print(list2)\n",
    "\n"
   ]
  },
  {
   "cell_type": "code",
   "execution_count": 11,
   "metadata": {},
   "outputs": [
    {
     "name": "stdout",
     "output_type": "stream",
     "text": [
      "['python', 'Programming', 'python', 'C++', 'C', 'Java']\n"
     ]
    }
   ],
   "source": [
    "# Solution 2: list() method\n",
    "list1 = [\"python\",\"Programming\",\"python\",\"C++\",\"C\",\"Java\"]\n",
    "list2 = list(list1)\n",
    "\n",
    "print(list2)\n"
   ]
  },
  {
   "cell_type": "code",
   "execution_count": 13,
   "metadata": {},
   "outputs": [
    {
     "name": "stdout",
     "output_type": "stream",
     "text": [
      "['python', 'Programming', 'python', 'C++', 'C', 'Java']\n"
     ]
    }
   ],
   "source": [
    "# Solution 3: copy method\n",
    "list1 = [\"python\",\"Programming\",\"python\",\"C++\",\"C\",\"Java\"]\n",
    "list2 = list1.copy()\n",
    "\n",
    "print(list2)\n"
   ]
  },
  {
   "cell_type": "code",
   "execution_count": 14,
   "metadata": {},
   "outputs": [
    {
     "name": "stdout",
     "output_type": "stream",
     "text": [
      "['python', 'Programming', 'python', 'C++', 'C', 'Java']\n"
     ]
    }
   ],
   "source": [
    "# Solution 4: list comprehension\n",
    "list1 = [\"python\",\"Programming\",\"python\",\"C++\",\"C\",\"Java\"]\n",
    "list2 = [i for i in list1]\n",
    "\n",
    "print(list2)\n"
   ]
  },
  {
   "cell_type": "code",
   "execution_count": 15,
   "metadata": {},
   "outputs": [
    {
     "name": "stdout",
     "output_type": "stream",
     "text": [
      "['python', 'Programming', 'python', 'C++', 'C', 'Java']\n"
     ]
    }
   ],
   "source": [
    "# Solution 5: using append() method\n",
    "list1 = [\"python\",\"Programming\",\"python\",\"C++\",\"C\",\"Java\"]\n",
    "list2 = []\n",
    "\n",
    "for i in list1:\n",
    "    list2.append(i)\n",
    "    \n",
    "print(list2)\n",
    "\n"
   ]
  },
  {
   "cell_type": "markdown",
   "metadata": {},
   "source": [
    "# Python Program to Count Occurrences of an element in a list"
   ]
  },
  {
   "cell_type": "code",
   "execution_count": 18,
   "metadata": {},
   "outputs": [
    {
     "name": "stdout",
     "output_type": "stream",
     "text": [
      "Number of occurences of word python, is 2 \n"
     ]
    }
   ],
   "source": [
    "# Solution 1: old method\n",
    "\n",
    "list1 = [\"python\",\"Programming\",\"python\",\"C++\",\"C\",\"Java\"]\n",
    "x = \"python\"\n",
    "c =0 \n",
    "for i in list1:\n",
    "    if i ==x:\n",
    "        c+=1\n",
    "print(\"Number of occurences of word {}, is {} \".format(x,c))"
   ]
  },
  {
   "cell_type": "code",
   "execution_count": 19,
   "metadata": {},
   "outputs": [
    {
     "name": "stdout",
     "output_type": "stream",
     "text": [
      "Number of occurences of word python, is 2 \n"
     ]
    }
   ],
   "source": [
    "# Solution 2 : count method()\n",
    "list1 = [\"python\",\"Programming\",\"python\",\"C++\",\"C\",\"Java\"]\n",
    "x = \"python\"\n",
    "c = list1.count(x)   \n",
    "print(\"Number of occurences of word {}, is {} \".format(x,c))\n"
   ]
  },
  {
   "cell_type": "markdown",
   "metadata": {},
   "source": [
    "# Remove an element from a list in Python"
   ]
  },
  {
   "cell_type": "code",
   "execution_count": 20,
   "metadata": {},
   "outputs": [
    {
     "name": "stdout",
     "output_type": "stream",
     "text": [
      "before removing::\n",
      " ['python', 'Programming', 'python', 'C++', 'C', 'Java']\n",
      "After removing ::\n",
      "['Programming', 'python', 'C++', 'C', 'Java']\n"
     ]
    }
   ],
   "source": [
    "# Solution 1: remove() method (remove first occurrence )\n",
    "list1 = [\"python\",\"Programming\",\"python\",\"C++\",\"C\",\"Java\"]\n",
    "x = \"python\"\n",
    "print(\"before removing::\\n\",list1)\n",
    "\n",
    "list1.remove(x)\n",
    "print(\"After removing ::\")\n",
    "print(list1)\n"
   ]
  },
  {
   "cell_type": "code",
   "execution_count": 25,
   "metadata": {},
   "outputs": [
    {
     "name": "stdout",
     "output_type": "stream",
     "text": [
      "before removing::\n",
      " ['python', 'Programming', 'python', 'C++', 'C', 'Java']\n",
      "After removing ::\n",
      "['Programming', 'python', 'C++', 'C', 'Java']\n"
     ]
    }
   ],
   "source": [
    "# Solution 2: (remove first occurrence )\n",
    "\n",
    "list1 = [\"python\",\"Programming\",\"python\",\"C++\",\"C\",\"Java\"]\n",
    "x = \"python\"\n",
    "print(\"before removing::\\n\",list1)\n",
    "for i in range(len(list1)):\n",
    "    if list1[i] == x:\n",
    "        del list1[i]\n",
    "        break\n",
    "print(\"After removing ::\")\n",
    "print(list1)\n",
    "\n"
   ]
  },
  {
   "cell_type": "code",
   "execution_count": 26,
   "metadata": {},
   "outputs": [
    {
     "name": "stdout",
     "output_type": "stream",
     "text": [
      "before removing::\n",
      " ['python', 'Programming', 'python', 'C++', 'C', 'Java']\n",
      "After removing ::\n",
      "['Programming', 'C++', 'C', 'Java']\n"
     ]
    }
   ],
   "source": [
    "# Solution 3: list comprehension \n",
    "list1 = [\"python\",\"Programming\",\"python\",\"C++\",\"C\",\"Java\"]\n",
    "x = \"python\"\n",
    "print(\"before removing::\\n\",list1)\n",
    "list1 = [i for i in list1 if i != x]\n",
    "print(\"After removing ::\")\n",
    "print(list1)\n",
    "\n"
   ]
  },
  {
   "cell_type": "markdown",
   "metadata": {},
   "source": [
    "# Remove multiple elements from a list in Python"
   ]
  },
  {
   "cell_type": "code",
   "execution_count": 27,
   "metadata": {},
   "outputs": [
    {
     "name": "stdout",
     "output_type": "stream",
     "text": [
      "before removing::\n",
      " ['python', 'Programming', 'python', 'C++', 'C', 'Java']\n",
      "After removing ::\n",
      "['Programming', 'C', 'Java']\n"
     ]
    }
   ],
   "source": [
    "list1 = [\"python\",\"Programming\",\"python\",\"C++\",\"C\",\"Java\"]\n",
    "x = [\"python\", \"C++\"]\n",
    "print(\"before removing::\\n\",list1)\n",
    "list1 = [i for i in list1 if i not in x]\n",
    "print(\"After removing ::\")\n",
    "print(list1)\n"
   ]
  },
  {
   "cell_type": "markdown",
   "metadata": {},
   "source": [
    "# Python Program to print duplicates from a list of integers"
   ]
  },
  {
   "cell_type": "code",
   "execution_count": 28,
   "metadata": {},
   "outputs": [
    {
     "name": "stdout",
     "output_type": "stream",
     "text": [
      "['python', 'Java']\n"
     ]
    }
   ],
   "source": [
    "list1 = [\"python\",\"Programming\",\"Java\",\"python\",\"C++\",\"C\",\"Java\"]\n",
    "repeated = []\n",
    "l = len(list1)\n",
    "for i in range(l): \n",
    "    k = i + 1\n",
    "    for j in range(k, l): \n",
    "        if list1[i] == list1[j] and list1[i] not in repeated: \n",
    "            repeated.append(list1[i])\n",
    "\n",
    "print(repeated)\n"
   ]
  },
  {
   "cell_type": "markdown",
   "metadata": {},
   "source": [
    "# Python Program to print duplicates from a list of integers"
   ]
  },
  {
   "cell_type": "code",
   "execution_count": 29,
   "metadata": {},
   "outputs": [
    {
     "name": "stdout",
     "output_type": "stream",
     "text": [
      "['python', 'Java']\n"
     ]
    }
   ],
   "source": [
    "list1 = [\"python\",\"Programming\",\"Java\",\"python\",\"C++\",\"C\",\"Java\"]\n",
    "repeated = []\n",
    "l = len(list1)\n",
    "for i in range(l): \n",
    "    k = i + 1\n",
    "    for j in range(k, l): \n",
    "        if list1[i] == list1[j] and list1[i] not in repeated: \n",
    "            repeated.append(list1[i])\n",
    "\n",
    "print(repeated)\n",
    "\n"
   ]
  },
  {
   "cell_type": "markdown",
   "metadata": {},
   "source": [
    "# Python program to find Cumulative sum of a list"
   ]
  },
  {
   "cell_type": "code",
   "execution_count": 30,
   "metadata": {},
   "outputs": [
    {
     "name": "stdout",
     "output_type": "stream",
     "text": [
      "[10, 20, 30, 40, 50]\n",
      "[10, 30, 60, 100, 150]\n"
     ]
    }
   ],
   "source": [
    "lists = [10, 20, 30, 40, 50]\n",
    "clists=[]\n",
    "print(lists)\n",
    "c = 0 \n",
    "for i in lists:\n",
    "    c = c + i\n",
    "    clists.append(c)\n",
    "\n",
    "print(clists)\n"
   ]
  },
  {
   "cell_type": "markdown",
   "metadata": {},
   "source": [
    "# Reversion a list"
   ]
  },
  {
   "cell_type": "code",
   "execution_count": 31,
   "metadata": {},
   "outputs": [
    {
     "name": "stdout",
     "output_type": "stream",
     "text": [
      "[15, 14, 13, 12, 11, 10]\n"
     ]
    }
   ],
   "source": [
    "# Solution 1\n",
    "lst = [10, 11, 12, 13, 14, 15] \n",
    "newList = lst[::-1] \n",
    "print(newList) "
   ]
  },
  {
   "cell_type": "code",
   "execution_count": 33,
   "metadata": {},
   "outputs": [
    {
     "name": "stdout",
     "output_type": "stream",
     "text": [
      "[15, 14, 13, 12, 11, 10]\n"
     ]
    }
   ],
   "source": [
    "# Solution 2\n",
    "def Reverse(lst): \n",
    "    lst.reverse() \n",
    "    return lst \n",
    "      \n",
    "lst = [10, 11, 12, 13, 14, 15] \n",
    "print(Reverse(lst)) "
   ]
  },
  {
   "cell_type": "code",
   "execution_count": 35,
   "metadata": {},
   "outputs": [
    {
     "name": "stdout",
     "output_type": "stream",
     "text": [
      "[15, 14, 13, 12, 11, 10]\n"
     ]
    }
   ],
   "source": [
    "#Solution 3\n",
    "lst = [10, 11, 12, 13, 14, 15] \n",
    "newList = [ele for ele in reversed(lst)] \n",
    "print(newList)"
   ]
  },
  {
   "cell_type": "markdown",
   "metadata": {},
   "source": [
    "# Program to Add n elements in the list(at the end)"
   ]
  },
  {
   "cell_type": "code",
   "execution_count": 1,
   "metadata": {},
   "outputs": [
    {
     "name": "stdout",
     "output_type": "stream",
     "text": [
      "Enter no. of elements you want to enter :: 10\n",
      "Enter Element 1= 1\n",
      "Enter Element 2= 2\n",
      "Enter Element 3= 3\n",
      "Enter Element 4= 4\n",
      "Enter Element 5= 5\n",
      "Enter Element 6= 5\n",
      "Enter Element 7= 6\n",
      "Enter Element 8= 7\n",
      "Enter Element 9= 8\n",
      "Enter Element 10= 8\n",
      "[1, 2, 3, 4, 5, 5, 6, 7, 8, 8]\n"
     ]
    }
   ],
   "source": [
    "  L1 = list()  #initializing\n",
    "  n = int(input(\"Enter no. of elements you want to enter :: \" ))\n",
    "\n",
    "  for i in range(n):  # 0 to n-1\n",
    "      elem =  eval(input(\"Enter Element \" +  str(i+1) + \"= \" ))\n",
    "      L1.append(elem)\n",
    "\n",
    "  print(L1)\n",
    "\n"
   ]
  },
  {
   "cell_type": "markdown",
   "metadata": {},
   "source": [
    "# Program to Add n elements in the list(at the beg)"
   ]
  },
  {
   "cell_type": "code",
   "execution_count": 2,
   "metadata": {},
   "outputs": [
    {
     "name": "stdout",
     "output_type": "stream",
     "text": [
      "Enter no. of elements you want to enter :: 3\n",
      "Enter Element 1= 1\n",
      "Enter Element 2= 2\n",
      "Enter Element 3= 33\n",
      "[33, 2, 1]\n"
     ]
    }
   ],
   "source": [
    "  L1 = list()  #initializing\n",
    "  n = int(input(\"Enter no. of elements you want to enter :: \" ))\n",
    "\n",
    "  for i in range(n):  # 0 to n-1\n",
    "      elem =  eval(input(\"Enter Element \" +  str(i+1) + \"= \" ))\n",
    "      L1.insert(0,elem) # Zero is postion(index)\n",
    "\n",
    "  print(L1)\n"
   ]
  },
  {
   "cell_type": "markdown",
   "metadata": {},
   "source": [
    "# Program to find length of list  - using Counter"
   ]
  },
  {
   "cell_type": "code",
   "execution_count": 3,
   "metadata": {},
   "outputs": [],
   "source": [
    "L1 = [1,2,3,4,5,6,7,8,9,0]\n",
    "count = 0\n",
    "for i in L1:\n",
    "    count+=1\n",
    "print(\"Count = \", count)"
   ]
  },
  {
   "cell_type": "markdown",
   "metadata": {},
   "source": [
    "# Program to find length of list  - Using len()"
   ]
  },
  {
   "cell_type": "code",
   "execution_count": 4,
   "metadata": {},
   "outputs": [
    {
     "name": "stdout",
     "output_type": "stream",
     "text": [
      "Count =  10\n"
     ]
    }
   ],
   "source": [
    "L1 = [1,2,3,4,5,6,7,8,9,0]\n",
    "count = len(L1)\n",
    "print(\"Count = \", count)"
   ]
  },
  {
   "cell_type": "markdown",
   "metadata": {},
   "source": [
    "# Break a list into chunks of size N in Python"
   ]
  },
  {
   "cell_type": "code",
   "execution_count": 5,
   "metadata": {},
   "outputs": [
    {
     "name": "stdout",
     "output_type": "stream",
     "text": [
      "[[1, 2, 3, 4], [5, 6, 7, 8], [9]]\n"
     ]
    }
   ],
   "source": [
    "my_list = [1, 2, 3, 4, 5, 6, 7, 8, 9] \n",
    "n = 4\n",
    "list_1 = [my_list[i * n:(i + 1) * n] for i in range((len(my_list) + n - 1) // n )]  \n",
    "print (list_1)\n"
   ]
  },
  {
   "cell_type": "markdown",
   "metadata": {},
   "source": [
    "# Sort the values of first list using second list"
   ]
  },
  {
   "cell_type": "code",
   "execution_count": 6,
   "metadata": {},
   "outputs": [
    {
     "name": "stdout",
     "output_type": "stream",
     "text": [
      "['h', 'b', 'e', 'i', 'f', 'a', 'c', 'g', 'd']\n"
     ]
    }
   ],
   "source": [
    "x = [\"a\", \"b\", \"c\", \"d\", \"e\", \"f\", \"g\", \"h\", \"i\"] \n",
    "y = [ 3,   1,   5,    10,   1,   2,   6,   0,   1] \n",
    "\n",
    "zipped_pairs = zip(y , x) \n",
    "\n",
    "z = [x for _, x in sorted(zipped_pairs)] \n",
    "print(z)\n"
   ]
  },
  {
   "cell_type": "markdown",
   "metadata": {},
   "source": [
    "# Python function that takes two lists and returns True if they have at least one common member."
   ]
  },
  {
   "cell_type": "code",
   "execution_count": 1,
   "metadata": {},
   "outputs": [
    {
     "name": "stdout",
     "output_type": "stream",
     "text": [
      "Common data, count =  2\n"
     ]
    }
   ],
   "source": [
    "# Without function:\n",
    "list1 = [1,2,3,4]\n",
    "list2 = [3,1]\n",
    "count = 0\n",
    "for x in list1:\n",
    "    for y in list2:\n",
    "        if x == y:\n",
    "            count +=1\n",
    "if count >=0:\n",
    "    print(\"Common data, count = \", count)\n",
    "else:\n",
    "    print(\"No Common data\")\n"
   ]
  },
  {
   "cell_type": "code",
   "execution_count": 3,
   "metadata": {},
   "outputs": [
    {
     "name": "stdout",
     "output_type": "stream",
     "text": [
      "Common data\n"
     ]
    }
   ],
   "source": [
    "# Using user define functions:\n",
    "\n",
    "def commonmember(list1, list2):\n",
    "     for x in list1:\n",
    "         for y in list2:\n",
    "             if x == y:\n",
    "                 return True\n",
    "     print(False)\n",
    "\n",
    "\n",
    "list1 = [1,2,3,4]\n",
    "list2 = [1,3]\n",
    "\n",
    "if commonmember(list1, list2):\n",
    "    print(\"Common data\")\n",
    "else:\n",
    "    print(\"No Common data\")\n"
   ]
  },
  {
   "cell_type": "markdown",
   "metadata": {},
   "source": [
    "# Python function that takes two lists and returns no’s of  common member."
   ]
  },
  {
   "cell_type": "code",
   "execution_count": 4,
   "metadata": {},
   "outputs": [
    {
     "name": "stdout",
     "output_type": "stream",
     "text": [
      "Common data, count =  2\n"
     ]
    }
   ],
   "source": [
    "def commonmember(list1, list2):\n",
    "     count = 0\n",
    "     for x in list1:\n",
    "         for y in list2:\n",
    "             if x == y:\n",
    "                 count +=1\n",
    "     if count ==0:\n",
    "         return 0\n",
    "     else:\n",
    "         return count\n",
    "\n",
    "\n",
    "list1 = [1,2,3,4]\n",
    "list2 = [3,1]\n",
    "result = commonmember(list1, list2)\n",
    "if result >0:\n",
    "    print(\"Common data, count = \", result)\n",
    "else:\n",
    "    print(\"No Common data\")\n",
    "\n"
   ]
  },
  {
   "cell_type": "markdown",
   "metadata": {},
   "source": [
    "# Write a Python program to shuffle and print a specified list."
   ]
  },
  {
   "cell_type": "code",
   "execution_count": 5,
   "metadata": {},
   "outputs": [
    {
     "name": "stdout",
     "output_type": "stream",
     "text": [
      "[2, 1, 3, 4, 3, 1]\n"
     ]
    }
   ],
   "source": [
    "import random\n",
    "list1 = [1,2,3,4,3,1]\n",
    "random.shuffle(list1)\n",
    "print(list1)\n"
   ]
  },
  {
   "cell_type": "markdown",
   "metadata": {},
   "source": [
    "# Python program to generate all permutations of a list in Python."
   ]
  },
  {
   "cell_type": "code",
   "execution_count": 6,
   "metadata": {},
   "outputs": [
    {
     "name": "stdout",
     "output_type": "stream",
     "text": [
      "[(1, 2, 3), (1, 3, 2), (2, 1, 3), (2, 3, 1), (3, 1, 2), (3, 2, 1)]\n"
     ]
    }
   ],
   "source": [
    "import itertools\n",
    "print(list(itertools.permutations([1,2,3])))\n",
    "\n"
   ]
  },
  {
   "cell_type": "markdown",
   "metadata": {},
   "source": [
    "# Python program to get the difference between the two lists"
   ]
  },
  {
   "cell_type": "code",
   "execution_count": 7,
   "metadata": {},
   "outputs": [
    {
     "name": "stdout",
     "output_type": "stream",
     "text": [
      "[3, 4]\n"
     ]
    }
   ],
   "source": [
    "list1 = [1, 2, 3, 4]\n",
    "list2 = [1, 2]\n",
    "print(list(set(list1) - set(list2)))\n"
   ]
  },
  {
   "cell_type": "markdown",
   "metadata": {},
   "source": [
    "# Python program access the index of a list"
   ]
  },
  {
   "cell_type": "code",
   "execution_count": 8,
   "metadata": {},
   "outputs": [
    {
     "name": "stdout",
     "output_type": "stream",
     "text": [
      "0 5\n",
      "1 15\n",
      "2 35\n",
      "3 8\n",
      "4 98\n"
     ]
    }
   ],
   "source": [
    "nums = [5, 15, 35, 8, 98]\n",
    "for num_index, num_val in enumerate(nums):\n",
    "    print(num_index, num_val)\n",
    "\n"
   ]
  },
  {
   "cell_type": "markdown",
   "metadata": {},
   "source": [
    "# Python program to get unique values from a list."
   ]
  },
  {
   "cell_type": "code",
   "execution_count": 10,
   "metadata": {},
   "outputs": [
    {
     "name": "stdout",
     "output_type": "stream",
     "text": [
      "Original List : [10, 20, 30, 40, 20, 50, 60, 40]\n",
      "List of unique numbers : [40, 10, 50, 20, 60, 30]\n"
     ]
    }
   ],
   "source": [
    "my_list = [10, 20, 30, 40, 20, 50, 60, 40]\n",
    "print(\"Original List :\",my_list)\n",
    "my_set = set(my_list)\n",
    "my_new_list = list(my_set)\n",
    "print(\"List of unique numbers :\",my_new_list)\n"
   ]
  },
  {
   "cell_type": "markdown",
   "metadata": {},
   "source": [
    "# Python program to get the frequency of the elements in a list"
   ]
  },
  {
   "cell_type": "code",
   "execution_count": 11,
   "metadata": {},
   "outputs": [
    {
     "name": "stdout",
     "output_type": "stream",
     "text": [
      "Original List :  [10, 10, 10, 10, 20, 20, 20, 20, 40, 40, 50, 50, 30]\n",
      "Frequency of the elements in the List :  Counter({10: 4, 20: 4, 40: 2, 50: 2, 30: 1})\n"
     ]
    }
   ],
   "source": [
    "import collections\n",
    "my_list = [10,10,10,10,20,20,20,20,40,40,50,50,30]\n",
    "print(\"Original List : \",my_list)\n",
    "ctr = collections.Counter(my_list)\n",
    "print(\"Frequency of the elements in the List : \",ctr)\n"
   ]
  },
  {
   "cell_type": "markdown",
   "metadata": {},
   "source": [
    "# Python program to check whether a list contains a sublist."
   ]
  },
  {
   "cell_type": "code",
   "execution_count": 12,
   "metadata": {},
   "outputs": [
    {
     "name": "stdout",
     "output_type": "stream",
     "text": [
      "Subset\n"
     ]
    }
   ],
   "source": [
    "list1 = [1, 2, 3, 4]\n",
    "list2 = [1, 2]\n",
    "subset = False\n",
    "if list2 == [] or list1 == list2:\n",
    "        subset = True\n",
    "elif len(list2) > len(list1):\n",
    "        subset = False\n",
    "else:\n",
    "    for i in range(len(list1)):\n",
    "        if list1[i] == list2[0]:\n",
    "                n = 1\n",
    "                while (n < len(list2)) and (list1[i+n] == list2[n]):\n",
    "                        n += 1\n",
    "                if n == len(list2):\n",
    "                        subset = True\n",
    "if subset ==  True:\n",
    "    print(\"Subset\")\n",
    "else:\n",
    "    print(\"not\")\n",
    "\n"
   ]
  },
  {
   "cell_type": "markdown",
   "metadata": {},
   "source": [
    "# Write a Python program to extend a list without append"
   ]
  },
  {
   "cell_type": "code",
   "execution_count": 13,
   "metadata": {},
   "outputs": [
    {
     "name": "stdout",
     "output_type": "stream",
     "text": [
      "[1, 2, 3, 4, 11, 12]\n"
     ]
    }
   ],
   "source": [
    "list1 = [1, 2, 3, 4]\n",
    "list2 = [11, 12]\n",
    "list1[4: ] = list2\n",
    "print(list1)\n"
   ]
  },
  {
   "cell_type": "markdown",
   "metadata": {},
   "source": [
    "# Count the number of elements in a list within a specified range"
   ]
  },
  {
   "cell_type": "code",
   "execution_count": 18,
   "metadata": {},
   "outputs": [
    {
     "name": "stdout",
     "output_type": "stream",
     "text": [
      "3\n",
      "5\n"
     ]
    }
   ],
   "source": [
    "def countinrange_list(list1, min, max):\n",
    "\tctr = 0\n",
    "\tfor i in list1:\n",
    "\t\tif min <= i <= max:\n",
    "\t\t\tctr += 1\n",
    "\treturn ctr\n",
    "\n",
    "list1 = [100,220,320,400,400,400,170,280,199]\n",
    "print(count_range_in_list(list1, 100, 200))\n",
    "\n",
    "list2 = ['a','b','c','d','e','f']\n",
    "print(count_range_in_list(list2, 'a', 'e'))"
   ]
  },
  {
   "cell_type": "code",
   "execution_count": null,
   "metadata": {},
   "outputs": [],
   "source": []
  }
 ],
 "metadata": {
  "kernelspec": {
   "display_name": "Python 3.8.6 64-bit",
   "language": "python",
   "name": "python38664bit1e036bae227243439b65fb3a4481e830"
  },
  "language_info": {
   "codemirror_mode": {
    "name": "ipython",
    "version": 3
   },
   "file_extension": ".py",
   "mimetype": "text/x-python",
   "name": "python",
   "nbconvert_exporter": "python",
   "pygments_lexer": "ipython3",
   "version": "3.8.6rc1"
  }
 },
 "nbformat": 4,
 "nbformat_minor": 4
}
