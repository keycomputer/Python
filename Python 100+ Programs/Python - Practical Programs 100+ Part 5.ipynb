{
 "cells": [
  {
   "cell_type": "markdown",
   "id": "59c371c1",
   "metadata": {},
   "source": [
    "# Python program to add an item in a tuple"
   ]
  },
  {
   "cell_type": "code",
   "execution_count": 1,
   "id": "775c6bfe",
   "metadata": {},
   "outputs": [
    {
     "name": "stdout",
     "output_type": "stream",
     "text": [
      "Enter number of elements 5\n",
      "enter element ::1\n",
      "enter element ::2\n",
      "enter element ::3\n",
      "enter element ::4\n",
      "enter element ::5\n",
      "(1, 2, 3, 4, 5)\n",
      "Enter number of elements 6\n",
      "enter element ::1\n",
      "enter element ::2\n",
      "enter element ::3\n",
      "enter element ::4\n",
      "enter element ::5\n",
      "enter element ::6\n",
      "(6, 5, 4, 3, 2, 1)\n",
      "Enter number of elements 5\n",
      "enter element ::1\n",
      "enter element ::2\n",
      "enter element ::3\n",
      "enter element ::4\n",
      "enter element ::5\n",
      "Enter position you want to enter3\n",
      "enter element ::1\n",
      "(5, 4, 1, 3, 2, 1)\n"
     ]
    }
   ],
   "source": [
    "# At End:\n",
    "t= ()\n",
    "n   = int(input(\"Enter number of elements \"))\n",
    "\n",
    "for i in range(n):\n",
    "    elem = eval(input(\"enter element ::\"))\n",
    "    t = t [ : ] + (elem,)\n",
    "print(t)\n",
    "\n",
    "# At Beg\n",
    "t= ()\n",
    "n   = int(input(\"Enter number of elements \"))\n",
    "\n",
    "for i in range(n):\n",
    "    elem = eval(input(\"enter element ::\"))\n",
    "    t =  (elem,) + t [ : ] \n",
    "print(t)\n",
    "\n",
    "# At Pos\n",
    "t= ()\n",
    "n   = int(input(\"Enter number of elements \"))\n",
    "\n",
    "for i in range(n):\n",
    "    elem = eval(input(\"enter element ::\"))\n",
    "    t =  (elem,) + t [ : ] \n",
    "\n",
    "pos = int(input(\"Enter position you want to enter\"))\n",
    "if pos<= len(t):\n",
    "    elem = eval(input(\"enter element ::\"))\n",
    "    t = t [: pos-1] +(elem,) + t[pos-1 :]\n",
    "print(t)\n"
   ]
  },
  {
   "cell_type": "markdown",
   "id": "3cdf356e",
   "metadata": {},
   "source": [
    "# Python program to remove an item from a tuple"
   ]
  },
  {
   "cell_type": "code",
   "execution_count": 2,
   "id": "bc67f350",
   "metadata": {},
   "outputs": [
    {
     "name": "stdout",
     "output_type": "stream",
     "text": [
      "(1, 2, 3, 4, 5, 6)\n",
      "(2, 3, 4, 5, 6, 7)\n",
      "Enter position you want to delete :: 1\n",
      "(1, 3, 4, 5, 6, 7)\n"
     ]
    }
   ],
   "source": [
    "# From End:\n",
    "t= (1,2,3,4,5,6,7)\n",
    "t = t [: len(t)-1]\n",
    "print(t)\n",
    "\n",
    "# From Beginning:\n",
    "t= (1,2,3,4,5,6,7)\n",
    "t = t [1: len(t)]\n",
    "print(t)\n",
    "\n",
    "\n",
    "# Postion\n",
    "t= (1,2,3,4,5,6,7)\n",
    "pos = int(input(\"Enter position you want to delete :: \"))\n",
    "if pos<= len(t):\n",
    "    t = t [: pos]  + t[pos+1:]\n",
    "print(t)\n",
    "\n"
   ]
  },
  {
   "cell_type": "markdown",
   "id": "4ab1bb0a",
   "metadata": {},
   "source": [
    "# Python program to find the length of a tuple"
   ]
  },
  {
   "cell_type": "code",
   "execution_count": 3,
   "id": "4d34b425",
   "metadata": {},
   "outputs": [
    {
     "name": "stdout",
     "output_type": "stream",
     "text": [
      "7\n",
      "Length =  7\n"
     ]
    }
   ],
   "source": [
    "# Using len function:\n",
    "t= (1,2,3,4,5,6,7)\n",
    "print(len(t))\n",
    "\n",
    "# Without function:\n",
    "t= (1,2,3,4,5,6,7)\n",
    "count = 0\n",
    "for i in t:\n",
    "    count +=1\n",
    "print(\"Length = \" ,count)\n",
    "\n"
   ]
  },
  {
   "cell_type": "markdown",
   "id": "26492e37",
   "metadata": {},
   "source": [
    "# Python program to check whether an element exists within a tuple"
   ]
  },
  {
   "cell_type": "code",
   "execution_count": 4,
   "id": "1494a065",
   "metadata": {},
   "outputs": [
    {
     "name": "stdout",
     "output_type": "stream",
     "text": [
      "Found\n",
      "Found\n"
     ]
    }
   ],
   "source": [
    "# Solution 1: (using in)\n",
    "t= (1,2,3,4,5,6,7)\n",
    "\n",
    "if 1 in t :\n",
    "    print(\"Found\")\n",
    "else:\n",
    "    print(\"not found\")\n",
    "\n",
    "# Solution 2:\n",
    "t= (1,2,3,4,5,6,7)\n",
    "\n",
    "for i in t:\n",
    "    if 4 == i:\n",
    "        print(\"Found\")\n",
    "        break\n",
    "else:\n",
    "    print(\"Not Found\")\n",
    "\n",
    "\n"
   ]
  },
  {
   "cell_type": "markdown",
   "id": "032b64f6",
   "metadata": {},
   "source": [
    "# Python program to find the sum of all items in a dictionary"
   ]
  },
  {
   "cell_type": "code",
   "execution_count": 6,
   "id": "f64e9a11",
   "metadata": {},
   "outputs": [
    {
     "name": "stdout",
     "output_type": "stream",
     "text": [
      "Enter Dictionary {1:20,2:30,3:40}\n",
      "Sum : 90\n"
     ]
    }
   ],
   "source": [
    "def SumDict(myDict):\n",
    "    list = []\n",
    "    for i in myDict:\n",
    "        list.append(myDict[i])\n",
    "    return sum(list)\n",
    "dict = eval(input(\"Enter Dictionary \" ))\n",
    "print(\"Sum :\", SumDict(dict))"
   ]
  },
  {
   "cell_type": "markdown",
   "id": "9e2684e0",
   "metadata": {},
   "source": [
    "# Python script to add a key to a dictionary"
   ]
  },
  {
   "cell_type": "code",
   "execution_count": 1,
   "id": "5fbeb1a2",
   "metadata": {},
   "outputs": [
    {
     "name": "stdout",
     "output_type": "stream",
     "text": [
      "{0: 10, 1: 20}\n",
      "{0: 10, 1: 20, 2: 30}\n"
     ]
    }
   ],
   "source": [
    "d = {0:10, 1:20}\n",
    "print(d)\n",
    "d.update({2:30})\n",
    "print(d)"
   ]
  },
  {
   "cell_type": "code",
   "execution_count": 3,
   "id": "02c97d19",
   "metadata": {},
   "outputs": [
    {
     "name": "stdout",
     "output_type": "stream",
     "text": [
      "{0: 10, 1: 20}\n",
      "{0: 10, 1: 20, 2: 30}\n"
     ]
    }
   ],
   "source": [
    "d = {0:10, 1:20}\n",
    "print(d)\n",
    "d[2] = 30\n",
    "print(d)"
   ]
  },
  {
   "cell_type": "markdown",
   "id": "ca51cdea",
   "metadata": {},
   "source": [
    "# Program to concatenate the following dictionaries to create a new one"
   ]
  },
  {
   "cell_type": "code",
   "execution_count": 7,
   "id": "0b06e5ef",
   "metadata": {},
   "outputs": [
    {
     "name": "stdout",
     "output_type": "stream",
     "text": [
      "{1: 10, 2: 20, 3: 30, 4: 40, 5: 50, 6: 60}\n"
     ]
    }
   ],
   "source": [
    "d1={1:10, 2:20}\n",
    "d2={3:30, 4:40}\n",
    "d3={5:50,6:60}\n",
    "d4 = {}\n",
    "for d in (d1, d2, d3): \n",
    "    d4.update(d)\n",
    "print(d4)"
   ]
  },
  {
   "cell_type": "markdown",
   "id": "550174ae",
   "metadata": {},
   "source": [
    "# Program  to check whether a given key already exists in a dictionary."
   ]
  },
  {
   "cell_type": "code",
   "execution_count": 8,
   "id": "30b4732b",
   "metadata": {},
   "outputs": [
    {
     "name": "stdout",
     "output_type": "stream",
     "text": [
      "Enter key ::  3\n",
      "Key is present in the dictionary !!!\n"
     ]
    }
   ],
   "source": [
    "d = {1: 10, 2: 20, 3: 30, 4: 40, 5: 50, 6: 60}\n",
    "def ispresent(x):\n",
    "  if x in d:\n",
    "      print('Key is present in the dictionary !!!')\n",
    "  else:\n",
    "      print('Key is not present in the dictionary !!!')\n",
    "ispresent(eval(input(\"Enter key ::  \")))"
   ]
  },
  {
   "cell_type": "markdown",
   "id": "2307937c",
   "metadata": {},
   "source": [
    "# Python program to sort a given dictionary by key. "
   ]
  },
  {
   "cell_type": "code",
   "execution_count": 10,
   "id": "63e07f49",
   "metadata": {},
   "outputs": [
    {
     "name": "stdout",
     "output_type": "stream",
     "text": [
      "2: 40\n",
      "5: 30\n",
      "6: 10\n",
      "7: 40\n"
     ]
    }
   ],
   "source": [
    "dict1  = {5:30, 2:40, 6:10, 7:40 }\n",
    "for key in sorted(dict1):\n",
    "    print(\"%s: %s\" % (key, dict1[key]))"
   ]
  },
  {
   "cell_type": "code",
   "execution_count": 12,
   "id": "983c48b0",
   "metadata": {},
   "outputs": [
    {
     "name": "stdout",
     "output_type": "stream",
     "text": [
      "{2: 40, 5: 30, 6: 10, 7: 40}\n"
     ]
    }
   ],
   "source": [
    "myKeys = list(dict1.keys())\n",
    "myKeys.sort()\n",
    "sorted_dict = {i: dict1[i] for i in myKeys}\n",
    "print(sorted_dict)"
   ]
  },
  {
   "cell_type": "code",
   "execution_count": 16,
   "id": "7a7f623b",
   "metadata": {},
   "outputs": [
    {
     "name": "stdout",
     "output_type": "stream",
     "text": [
      "OrderedDict([(2, 40), (5, 30), (6, 10), (7, 40)])\n"
     ]
    }
   ],
   "source": [
    "from collections import OrderedDict\n",
    "dict2 = OrderedDict(sorted(dict1.items()))\n",
    "print(dict2)"
   ]
  },
  {
   "cell_type": "markdown",
   "id": "d25adf1e",
   "metadata": {},
   "source": [
    "# Sort Dictionary by Value in Python "
   ]
  },
  {
   "cell_type": "code",
   "execution_count": 17,
   "id": "e22c52f7",
   "metadata": {},
   "outputs": [
    {
     "name": "stdout",
     "output_type": "stream",
     "text": [
      "{6: 10, 5: 30, 2: 40, 7: 40}\n"
     ]
    }
   ],
   "source": [
    "dict1  = {5:30, 2:40, 6:10, 7:40 }\n",
    "sorted_dt = {key: value for key, value in sorted(dict1.items(), key=lambda item: item[1])}\n",
    "\n",
    "print(sorted_dt)"
   ]
  },
  {
   "cell_type": "code",
   "execution_count": 19,
   "id": "436b242b",
   "metadata": {},
   "outputs": [
    {
     "name": "stdout",
     "output_type": "stream",
     "text": [
      "[10, 30, 40, 40]\n"
     ]
    }
   ],
   "source": [
    "sorted_dict = sorted(dict1.values())\n",
    "print(sorted_dict)"
   ]
  },
  {
   "cell_type": "markdown",
   "id": "3c68f14b",
   "metadata": {},
   "source": [
    "# Python program to get the maximum and minimum values of a dictionary"
   ]
  },
  {
   "cell_type": "code",
   "execution_count": 20,
   "id": "4943ecd5",
   "metadata": {},
   "outputs": [
    {
     "name": "stdout",
     "output_type": "stream",
     "text": [
      "Maximum Value:  45\n",
      "Minimum Value:  10\n"
     ]
    }
   ],
   "source": [
    "my_dict = {'x':10, 'y':45, 'z': 12}\n",
    "\n",
    "key_max = max(my_dict.keys(), key=(lambda k: my_dict[k]))\n",
    "key_min = min(my_dict.keys(), key=(lambda k: my_dict[k]))\n",
    "\n",
    "print('Maximum Value: ',my_dict[key_max])\n",
    "print('Minimum Value: ',my_dict[key_min])"
   ]
  },
  {
   "cell_type": "markdown",
   "id": "9ac90d98",
   "metadata": {},
   "source": [
    "# Program to find all duplicate characters in string"
   ]
  },
  {
   "cell_type": "code",
   "execution_count": 30,
   "id": "09ef9b0c",
   "metadata": {},
   "outputs": [
    {
     "name": "stdout",
     "output_type": "stream",
     "text": [
      "['e', 'o', 'u', 't']\n"
     ]
    }
   ],
   "source": [
    "chars = {}\n",
    "string = \"KeyComputerEducation\"\n",
    "for char in string:\n",
    "    if char not in chars:\n",
    "        chars[char] = 1\n",
    "    else:\n",
    "        chars[char] += 1\n",
    "duplicates = []\n",
    "for char, count in chars.items():\n",
    "    if count > 1:\n",
    "        duplicates.append(char)\n",
    "print(duplicates)"
   ]
  },
  {
   "cell_type": "code",
   "execution_count": null,
   "id": "1b398e2a",
   "metadata": {},
   "outputs": [],
   "source": []
  }
 ],
 "metadata": {
  "kernelspec": {
   "display_name": "Python 3 (ipykernel)",
   "language": "python",
   "name": "python3"
  },
  "language_info": {
   "codemirror_mode": {
    "name": "ipython",
    "version": 3
   },
   "file_extension": ".py",
   "mimetype": "text/x-python",
   "name": "python",
   "nbconvert_exporter": "python",
   "pygments_lexer": "ipython3",
   "version": "3.9.13"
  }
 },
 "nbformat": 4,
 "nbformat_minor": 5
}
