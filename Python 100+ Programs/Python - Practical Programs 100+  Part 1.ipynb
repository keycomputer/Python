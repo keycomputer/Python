{
 "cells": [
  {
   "cell_type": "markdown",
   "id": "ebf3de8c",
   "metadata": {},
   "source": [
    "# Program to Print Hello world in Python\n",
    "## Beginner, you will start by learning how to print 'Hello, World!'\n",
    "## using print command \n"
   ]
  },
  {
   "cell_type": "code",
   "execution_count": 14,
   "id": "ec54613d",
   "metadata": {},
   "outputs": [
    {
     "name": "stdout",
     "output_type": "stream",
     "text": [
      "Hello, World!\n"
     ]
    }
   ],
   "source": [
    "# 1. A program to print Hello, world!  \n",
    "print('Hello, World!')\n"
   ]
  },
  {
   "cell_type": "markdown",
   "id": "230f7cd0",
   "metadata": {},
   "source": [
    "# A Program to Find the Square Root of a Number"
   ]
  },
  {
   "cell_type": "code",
   "execution_count": 15,
   "id": "816ea252",
   "metadata": {},
   "outputs": [
    {
     "name": "stdout",
     "output_type": "stream",
     "text": [
      "Enter a number: 100\n",
      "The square root of 100.00 is 10.00\n"
     ]
    }
   ],
   "source": [
    "# 2. A Program to Find the Square Root of a Number\n",
    "\n",
    "num = float(input('Enter a number: '))\n",
    "sqrt = num**0.5\n",
    "print('The square root of %0.2f is %0.2f'%(num,sqrt))"
   ]
  },
  {
   "cell_type": "markdown",
   "id": "4be38f06",
   "metadata": {},
   "source": [
    "# Program to Sum Two Numbers\n",
    "\n"
   ]
  },
  {
   "cell_type": "code",
   "execution_count": 16,
   "id": "5d5e087e",
   "metadata": {},
   "outputs": [
    {
     "name": "stdout",
     "output_type": "stream",
     "text": [
      "enter number 1 12\n",
      "enter number 2 21\n",
      "The sum of 12 and 21 = 33\n"
     ]
    }
   ],
   "source": [
    "# Program to add two numbers using + operator  \n",
    "num1 = eval(input(\"enter number 1 \"))\n",
    "num2 = eval(input(\"enter number 2 \"))\n",
    " # Sum the two numbers\n",
    "result = num1 + num2\n",
    " # Display the result\n",
    "print('The sum of {0} and {1} = {2}'.format(num1, num2, result))\n"
   ]
  },
  {
   "cell_type": "markdown",
   "id": "65c6537f",
   "metadata": {},
   "source": [
    "# Program to Swap Two Variables\n"
   ]
  },
  {
   "cell_type": "code",
   "execution_count": 17,
   "id": "fbade0f3",
   "metadata": {},
   "outputs": [
    {
     "name": "stdout",
     "output_type": "stream",
     "text": [
      "Enter x value: 12\n",
      "Enter y value: 21\n",
      "The value of x after swapping: 21\n",
      "The value of y after swapping: 12\n"
     ]
    }
   ],
   "source": [
    "x = input('Enter x value: ')\n",
    "y = input('Enter y value: ')\n",
    " # create a temporary variable and swap the values\n",
    "temp = x\n",
    "x = y\n",
    "y = temp\n",
    "print('The value of x after swapping: {}'.format(x))\n",
    "print('The value of y after swapping: {}'.format(y))\n"
   ]
  },
  {
   "cell_type": "markdown",
   "id": "12093c34",
   "metadata": {},
   "source": [
    "#  without using third variable "
   ]
  },
  {
   "cell_type": "code",
   "execution_count": 18,
   "id": "a4bda655",
   "metadata": {},
   "outputs": [
    {
     "name": "stdout",
     "output_type": "stream",
     "text": [
      "Enter x value: 12\n",
      "Enter y value: 21\n",
      "The value of x after swapping: 21\n",
      "The value of y after swapping: 12\n"
     ]
    }
   ],
   "source": [
    "x =int(input('Enter x value: '))\n",
    "y =int(input('Enter y value: '))\n",
    "\n",
    "# use of basic arithmetic [+ & -] operator\n",
    "x = x+y;\n",
    "y = x-y;\n",
    "x = x-y;\n",
    "print('The value of x after swapping: {}'.format(x))\n",
    "print('The value of y after swapping: {}'.format(y))\n"
   ]
  },
  {
   "cell_type": "markdown",
   "id": "20208508",
   "metadata": {},
   "source": [
    "# Swap Values using Arithmetic [*, /] Operators\n"
   ]
  },
  {
   "cell_type": "code",
   "execution_count": 19,
   "id": "7ebc9e68",
   "metadata": {},
   "outputs": [
    {
     "name": "stdout",
     "output_type": "stream",
     "text": [
      "Enter x value: 12\n",
      "Enter y value: 21\n",
      "The value of x after swapping: 21.0\n",
      "The value of y after swapping: 12.0\n"
     ]
    }
   ],
   "source": [
    "x =int(input('Enter x value: '))\n",
    "y =int(input('Enter y value: '))\n",
    " # use of basic arithmetic operators\n",
    "x = x*y;\n",
    "y = x/y;\n",
    "x = x/y;\n",
    "print('The value of x after swapping: {}'.format(x))\n",
    "print('The value of y after swapping: {}'.format(y))\n"
   ]
  },
  {
   "cell_type": "markdown",
   "id": "5b218183",
   "metadata": {},
   "source": [
    "# Swap Values using Simple Constructor - tuple Pack / Unpack\n"
   ]
  },
  {
   "cell_type": "code",
   "execution_count": 20,
   "id": "73404888",
   "metadata": {},
   "outputs": [
    {
     "name": "stdout",
     "output_type": "stream",
     "text": [
      "Enter x value: 12\n",
      "Enter y value: 21\n",
      "The value of x after swapping: 21\n",
      "The value of y after swapping: 12\n"
     ]
    }
   ],
   "source": [
    "x =input('Enter x value: ')\n",
    "y =input('Enter y value: ')\n",
    " # apply simple constructor below\n",
    "x,y=y,x\n",
    "print('The value of x after swapping: {}'.format(x))\n",
    "print('The value of y after swapping: {}'.format(y))\n"
   ]
  },
  {
   "cell_type": "markdown",
   "id": "49a4693a",
   "metadata": {},
   "source": [
    "# Swap Values using Bitwise XOR operator\n"
   ]
  },
  {
   "cell_type": "code",
   "execution_count": 21,
   "id": "c80d7cf2",
   "metadata": {},
   "outputs": [
    {
     "name": "stdout",
     "output_type": "stream",
     "text": [
      "Enter x value: 12\n",
      "Enter y value: 21\n",
      "The value of x after swapping: 21\n",
      "The value of y after swapping: 12\n"
     ]
    }
   ],
   "source": [
    "x =int(input('Enter x value: '))\n",
    "y =int(input('Enter y value: '))\n",
    "x =x^y\n",
    "y =x^y\n",
    "x =x^y\n",
    "print('The value of x after swapping: {}'.format(x))\n",
    "print('The value of y after swapping: {}'.format(y))\n"
   ]
  },
  {
   "cell_type": "markdown",
   "id": "7975bceb",
   "metadata": {},
   "source": [
    "# Program to Convert Celsius to Fahrenheit\n"
   ]
  },
  {
   "cell_type": "code",
   "execution_count": 22,
   "id": "7a4b859e",
   "metadata": {},
   "outputs": [
    {
     "name": "stdout",
     "output_type": "stream",
     "text": [
      "Enter a value in Celsius: 32\n",
      "32.0° Celsius = 89.6° Fahrenheit.\n"
     ]
    }
   ],
   "source": [
    "celsius =float(input(\"Enter a value in Celsius: \"))\n",
    " # calculate fahrenheit\n",
    "fahrenheit =(celsius * 1.8) + 32\n",
    "print('%0.1f° Celsius = %0.1f° Fahrenheit.'%(celsius,fahrenheit))\n"
   ]
  },
  {
   "cell_type": "markdown",
   "id": "c3131c01",
   "metadata": {},
   "source": [
    "# Find ASCII Value of Character"
   ]
  },
  {
   "cell_type": "code",
   "execution_count": 23,
   "id": "31bec8b6",
   "metadata": {},
   "outputs": [
    {
     "name": "stdout",
     "output_type": "stream",
     "text": [
      "Enter any character: A\n",
      "ASCII value of A = 65\n"
     ]
    }
   ],
   "source": [
    "cha=str(input('Enter any character: '))\n",
    "print('ASCII value of {0} = {1}'.format(cha,ord(cha)))"
   ]
  },
  {
   "cell_type": "markdown",
   "id": "14ff3ee0",
   "metadata": {},
   "source": [
    "# Program to Calculate the Area of a Triangle\n",
    "\n"
   ]
  },
  {
   "cell_type": "code",
   "execution_count": 24,
   "id": "b8728a42",
   "metadata": {},
   "outputs": [
    {
     "name": "stdout",
     "output_type": "stream",
     "text": [
      "Enter the base value: 5\n",
      "Enter the height value: 3\n",
      "The area of the triangle is 7.5 \n"
     ]
    }
   ],
   "source": [
    "Base =float(input('Enter the base value: '));\n",
    "Height =float(input('Enter the height value: '));\n",
    "Area = (Base * Height) / 2;\n",
    "print('The area of the triangle is {} '.format(Area))\n"
   ]
  },
  {
   "cell_type": "code",
   "execution_count": 25,
   "id": "0c5b30e6",
   "metadata": {},
   "outputs": [
    {
     "name": "stdout",
     "output_type": "stream",
     "text": [
      "Enter first side: 2\n",
      "Enter second side: 3\n",
      "Enter third side: 4\n",
      "The area of the triangle is 2.90\n"
     ]
    }
   ],
   "source": [
    "a =float(input('Enter first side: '))\n",
    "b =float(input('Enter second side: '))\n",
    "c =float(input('Enter third side: '))\n",
    "s = (a + b + c) / 2\n",
    " # Calculate the area\n",
    "Area =(s*(s-a)*(s-b)*(s-c))**0.5\n",
    "print('The area of the triangle is %0.2f' %Area)\n"
   ]
  },
  {
   "cell_type": "markdown",
   "id": "1457fbb2",
   "metadata": {},
   "source": [
    "# Program to Convert Kilometers to Miles "
   ]
  },
  {
   "cell_type": "code",
   "execution_count": 26,
   "id": "da365775",
   "metadata": {},
   "outputs": [
    {
     "name": "stdout",
     "output_type": "stream",
     "text": [
      "Enter km value: 10\n",
      "10.00 km is equal to 6.21 miles\n"
     ]
    }
   ],
   "source": [
    "km =float(input(\"Enter km value: \"))\n",
    " # conversion rate\n",
    "rate =0.621371\n",
    "miles =km*rate\n",
    "print('%0.2f km is equal to %0.2f miles'%(km,miles))"
   ]
  },
  {
   "cell_type": "markdown",
   "id": "564d6fa8",
   "metadata": {},
   "source": [
    "# Program to Convert Decimal to Binary and Hexadecimal\n"
   ]
  },
  {
   "cell_type": "code",
   "execution_count": 27,
   "id": "806b985c",
   "metadata": {},
   "outputs": [
    {
     "name": "stdout",
     "output_type": "stream",
     "text": [
      "Enter a number: 10\n",
      "Binary equivalent of 10 = 0b1010\n",
      "Hexadecimal equivalent of 10 = 0xa\n"
     ]
    }
   ],
   "source": [
    "num_dec =int(input('Enter a number: '))\n",
    "print('Binary equivalent of {0} = {1}'.format(num_dec,bin(num_dec)))\n",
    "print('Hexadecimal equivalent of {0} = {1}'.format(num_dec,hex(num_dec)))\n"
   ]
  },
  {
   "cell_type": "markdown",
   "id": "d1f1d865",
   "metadata": {},
   "source": [
    "# Program to Solve Quadratic Equation\n"
   ]
  },
  {
   "cell_type": "code",
   "execution_count": 32,
   "id": "39d15a36",
   "metadata": {},
   "outputs": [
    {
     "name": "stdout",
     "output_type": "stream",
     "text": [
      "Enter a value: 2\n",
      "Enter b value: 2\n",
      "Enter c value: 2\n",
      "The solution is: (-0.5-0.8660254037844386j) + (-0.5+0.8660254037844386j)\n"
     ]
    }
   ],
   "source": [
    "import cmath\n",
    "a =float(input('Enter a value: '))\n",
    "b =float(input('Enter b value: '))\n",
    "c =float(input('Enter c value: '))\n",
    " # calculate the discriminant\n",
    "d =(b**2) - (4*a*c)\n",
    " # find two solutions\n",
    "root1 =(-b-cmath.sqrt(d))/(2*a)\n",
    "root2 =(-b+cmath.sqrt(d))/(2*a)\n",
    "print('The solution is: {0} + {1}'.format(root1,root2))\n"
   ]
  },
  {
   "cell_type": "markdown",
   "id": "27aa7d3a",
   "metadata": {},
   "source": [
    "# A Program to Check if a Number is Odd or Even\n"
   ]
  },
  {
   "cell_type": "code",
   "execution_count": 33,
   "id": "bbcd8bb8",
   "metadata": {},
   "outputs": [
    {
     "name": "stdout",
     "output_type": "stream",
     "text": [
      "Enter any number: 1\n",
      "1 is an Odd Number\n"
     ]
    }
   ],
   "source": [
    "num = int(input('Enter any number: '))\n",
    "if (num % 2) == 0:\n",
    "   print('{0} is an Even Number'.format(num))\n",
    "else:\n",
    "   print('{0} is an Odd Number'.format(num))\n"
   ]
  },
  {
   "cell_type": "markdown",
   "id": "2da7d7cc",
   "metadata": {},
   "source": [
    "# Program to Check if a Number is Positive, Negative or Zero\n"
   ]
  },
  {
   "cell_type": "code",
   "execution_count": 34,
   "id": "c45e86f3",
   "metadata": {
    "scrolled": true
   },
   "outputs": [
    {
     "name": "stdout",
     "output_type": "stream",
     "text": [
      "Enter any number: -1\n",
      "This is a Negative number\n"
     ]
    }
   ],
   "source": [
    "num =float(input('Enter any number: '))\n",
    "if num > 0:\n",
    "   print('This is a Positive number')\n",
    "elif num == 0:\n",
    "   print('This is Zero')\n",
    "else:\n",
    "   print('This is a Negative number')\n"
   ]
  },
  {
   "cell_type": "markdown",
   "id": "182ea754",
   "metadata": {},
   "source": [
    "# Program to Find the Largest Among Three Numbers\n"
   ]
  },
  {
   "cell_type": "code",
   "execution_count": 36,
   "id": "f3083ec5",
   "metadata": {},
   "outputs": [
    {
     "name": "stdout",
     "output_type": "stream",
     "text": [
      "Enter first number: 3\n",
      "Enter second number: 5\n",
      "Enter third number: 1\n",
      "The largest number = 5\n"
     ]
    }
   ],
   "source": [
    "num1 =int(input('Enter first number: '))\n",
    "num2 =int(input('Enter second number: '))\n",
    "num3 =int(input('Enter third number: '))\n",
    "if (num1 >= num2) and (num1 >= num3):\n",
    "   bigNum = num1\n",
    "elif (num2 >= num1) and (num2 >= num3):\n",
    "   bigNum = num2\n",
    "else:\n",
    "   bigNum = num3\n",
    "print('The largest number = {0}'.format(bigNum))\n"
   ]
  },
  {
   "cell_type": "markdown",
   "id": "79966b3f",
   "metadata": {},
   "source": [
    "# Program to Check Leap Year\n"
   ]
  },
  {
   "cell_type": "code",
   "execution_count": 37,
   "id": "0a3028fe",
   "metadata": {
    "scrolled": true
   },
   "outputs": [
    {
     "name": "stdout",
     "output_type": "stream",
     "text": [
      "Enter a year: 2010\n",
      "2010 is not a leap year\n"
     ]
    }
   ],
   "source": [
    "year =int(input('Enter a year: '))\n",
    "if (year % 400) == 0:\n",
    "           print('{0} is a leap year'.format(year))\n",
    "\n",
    "elif year % 4==0 and year % 100 != 0 :\n",
    "    print('{0} is a leap year'.format(year))\n",
    "       \n",
    "else:\n",
    "    print('{0} is not a leap year'.format(year))\n"
   ]
  },
  {
   "cell_type": "markdown",
   "id": "a5026f70",
   "metadata": {},
   "source": [
    "# Program to Display the multiplication Table"
   ]
  },
  {
   "cell_type": "code",
   "execution_count": 38,
   "id": "304153a7",
   "metadata": {},
   "outputs": [
    {
     "name": "stdout",
     "output_type": "stream",
     "text": [
      "Enter a number: 10\n",
      "10 x 1 = 10\n",
      "10 x 2 = 20\n",
      "10 x 3 = 30\n",
      "10 x 4 = 40\n",
      "10 x 5 = 50\n",
      "10 x 6 = 60\n",
      "10 x 7 = 70\n",
      "10 x 8 = 80\n",
      "10 x 9 = 90\n",
      "10 x 10 = 100\n"
     ]
    }
   ],
   "source": [
    "num=int(input('Enter a number: '))\n",
    " # Iterate 10 times from i (ie 1 to 10)\n",
    "for i in range(1, 11):\n",
    "    print('{0} x {1} = {2}'.format(num,i,num*i))\n",
    "\n"
   ]
  },
  {
   "cell_type": "markdown",
   "id": "716442fd",
   "metadata": {},
   "source": [
    "# Program to Check Prime Number\n"
   ]
  },
  {
   "cell_type": "code",
   "execution_count": 39,
   "id": "5ab3637e",
   "metadata": {},
   "outputs": [
    {
     "name": "stdout",
     "output_type": "stream",
     "text": [
      "Enter a number: 11\n",
      "11 is a prime number\n"
     ]
    }
   ],
   "source": [
    "num =int(input('Enter a number: '))\n",
    " # prime numbers must be greater than 1\n",
    "if num>1:\n",
    "   # check for factors\n",
    "   for i in range(2,num):\n",
    "       if (num % i) == 0:\n",
    "           print('{0} is not a prime number'.format(num))\n",
    "           break\n",
    "   else:\n",
    "       print('{0} is a prime number'.format(num))\n"
   ]
  },
  {
   "cell_type": "markdown",
   "id": "11105b6e",
   "metadata": {},
   "source": [
    "# Program to Find the Factorial of a Number\n"
   ]
  },
  {
   "cell_type": "code",
   "execution_count": 40,
   "id": "19942bed",
   "metadata": {},
   "outputs": [
    {
     "name": "stdout",
     "output_type": "stream",
     "text": [
      "Enter a number: 3\n",
      "Factorial of 3 = 6\n"
     ]
    }
   ],
   "source": [
    "num =int(input('Enter a number: '))\n",
    "factorial=1\n",
    "# check for negative, positive or zero\n",
    "if num<0:\n",
    "   print('Error! Negative nunber is not accepted')\n",
    "elif num==0:\n",
    "   print('Factorial of 0 = 1')\n",
    "else:\n",
    "   for i in range(1,num + 1):\n",
    "       factorial = factorial*i\n",
    "   print('Factorial of {0} = {1}'.format(num,factorial))\n"
   ]
  },
  {
   "cell_type": "markdown",
   "id": "55ceb1f9",
   "metadata": {},
   "source": [
    "# Program to Print the Fibonacci sequence\n"
   ]
  },
  {
   "cell_type": "code",
   "execution_count": 42,
   "id": "c904b036",
   "metadata": {
    "scrolled": true
   },
   "outputs": [
    {
     "name": "stdout",
     "output_type": "stream",
     "text": [
      "Enter nth term:  10\n",
      "Fibonacci sequence:\n",
      "0\n",
      "1\n",
      "1\n",
      "2\n",
      "3\n",
      "5\n",
      "8\n",
      "13\n",
      "21\n",
      "34\n"
     ]
    }
   ],
   "source": [
    "nt_num = int(input('Enter nth term:  '))\n",
    " # first two terms\n",
    "n1, n2 = 0, 1\n",
    "count = 0\n",
    "if nt_num <= 0:\n",
    "   print('Enter only positive number')\n",
    "elif nt_num == 1:\n",
    "   print('Fibonacci sequence of {0} = {1}'.format(nt_num,n1))\n",
    "else:\n",
    "   print('Fibonacci sequence:')\n",
    "   while count < nt_num:\n",
    "       print(n1)\n",
    "       nth = n1 + n2\n",
    "       # update values\n",
    "       n1 = n2\n",
    "       n2 = nth\n",
    "       count += 1\n"
   ]
  },
  {
   "cell_type": "markdown",
   "id": "309bdc39",
   "metadata": {},
   "source": [
    "# Program to Find the Sum of Natural Numbers\n",
    " "
   ]
  },
  {
   "cell_type": "code",
   "execution_count": 43,
   "id": "d90dfa6a",
   "metadata": {
    "scrolled": true
   },
   "outputs": [
    {
     "name": "stdout",
     "output_type": "stream",
     "text": [
      "Enter nth number: 10\n",
      "Sum = 55\n"
     ]
    }
   ],
   "source": [
    "num=int(input('Enter nth number: '))\n",
    "if num < 0:\n",
    "   print('Enter only positive number')\n",
    "else:\n",
    "   sum = 0\n",
    "   while(num > 0):\n",
    "       sum += num\n",
    "       num -= 1\n",
    "   print('Sum = {0}'.format(sum))\n"
   ]
  },
  {
   "cell_type": "markdown",
   "id": "122ba1d7",
   "metadata": {},
   "source": [
    "# Sum of Natural Numbers Using n(n+1)/2\n"
   ]
  },
  {
   "cell_type": "code",
   "execution_count": 45,
   "id": "8f1f9234",
   "metadata": {},
   "outputs": [
    {
     "name": "stdout",
     "output_type": "stream",
     "text": [
      "Enter nth number: 10\n",
      "Sum = 55.0\n"
     ]
    }
   ],
   "source": [
    "num =int(input('Enter nth number: '))\n",
    "if num >= 0:\n",
    "   sum = num*(num+1)/2\n",
    "   print('Sum = {0}'.format(sum))\n",
    "else:\n",
    "    print('Enter only positive number')\n"
   ]
  },
  {
   "cell_type": "markdown",
   "id": "8fb01be7",
   "metadata": {},
   "source": [
    "# Program to Find List of Numbers Divisible by 4"
   ]
  },
  {
   "cell_type": "code",
   "execution_count": 46,
   "id": "73b6b7f9",
   "metadata": {},
   "outputs": [
    {
     "name": "stdout",
     "output_type": "stream",
     "text": [
      "Enter list of numbers in [] brackets [1,2,3,4,5,6,7,8]\n",
      "[4, 8]\n"
     ]
    }
   ],
   "source": [
    "nums = eval(input(\"Enter list of numbers in [] brackets \"))\n",
    "# using filter method \n",
    "\n",
    "result = list(filter(lambda x: (x % 4 == 0), nums))\n",
    "print(result)\n"
   ]
  },
  {
   "cell_type": "code",
   "execution_count": 47,
   "id": "aa9d075a",
   "metadata": {},
   "outputs": [
    {
     "name": "stdout",
     "output_type": "stream",
     "text": [
      "Enter list of numbers in [] brackets [1,2,3,4,5,6,7,8]\n",
      "4 8 "
     ]
    }
   ],
   "source": [
    "# using for loop and if condition\n",
    "nums = eval(input(\"Enter list of numbers in [] brackets \"))\n",
    "\n",
    "for i in nums:\n",
    "    if i % 4 == 0:\n",
    "        print(i, end= \" \" )\n",
    "    "
   ]
  },
  {
   "cell_type": "code",
   "execution_count": 48,
   "id": "187b7835",
   "metadata": {},
   "outputs": [
    {
     "name": "stdout",
     "output_type": "stream",
     "text": [
      "Enter list of numbers in [] brackets [1,2,3,4,5,6,7,8]\n",
      "[4, 8]\n"
     ]
    }
   ],
   "source": [
    "# using list comprehension \n",
    "\n",
    "nums = eval(input(\"Enter list of numbers in [] brackets \"))\n",
    "\n",
    "L1 = list(i for i in nums if i % 4 == 0 )\n",
    "print(L1)"
   ]
  },
  {
   "cell_type": "markdown",
   "id": "36ecd89f",
   "metadata": {},
   "source": [
    "# Program to Make a Simple Calculator\n"
   ]
  },
  {
   "cell_type": "code",
   "execution_count": 49,
   "id": "360b577d",
   "metadata": {},
   "outputs": [
    {
     "name": "stdout",
     "output_type": "stream",
     "text": [
      "Select operation  ::   \n",
      "1.Add\n",
      "2.Subtract\n",
      "3.Multiply\n",
      "4.Divide\n",
      "Enter choice(1/2/3/4): 1\n",
      "Enter first number: 1\n",
      "Enter second number: 2\n",
      "1.0 + 2.0 = 3.0\n",
      "Let's do next calculation? (yes/no): no\n"
     ]
    }
   ],
   "source": [
    "# This function adds two numbers\n",
    "def add(x, y):\n",
    "    return x + y\n",
    "\n",
    "# This function subtracts two numbers\n",
    "def subtract(x, y):\n",
    "    return x - y\n",
    "\n",
    "# This function multiplies two numbers\n",
    "def multiply(x, y):\n",
    "    return x * y\n",
    "\n",
    "# This function divides two numbers\n",
    "def divide(x, y):\n",
    "    return x / y\n",
    "\n",
    "print(\"Select operation  ::   \")\n",
    "print(\"1.Add\")\n",
    "print(\"2.Subtract\")\n",
    "print(\"3.Multiply\")\n",
    "print(\"4.Divide\")\n",
    "\n",
    "while True:\n",
    "    choice = input(\"Enter choice(1/2/3/4): \")\n",
    "    if choice in ('1', '2', '3', '4'):\n",
    "        try:\n",
    "            num1 = float(input(\"Enter first number: \"))\n",
    "            num2 = float(input(\"Enter second number: \"))\n",
    "        except ValueError:\n",
    "            print(\"Invalid input. Please enter a number.\")\n",
    "            continue\n",
    "\n",
    "        if choice == '1':\n",
    "            print(num1, \"+\", num2, \"=\", add(num1, num2))\n",
    "\n",
    "        elif choice == '2':\n",
    "            print(num1, \"-\", num2, \"=\", subtract(num1, num2))\n",
    "\n",
    "        elif choice == '3':\n",
    "            print(num1, \"*\", num2, \"=\", multiply(num1, num2))\n",
    "\n",
    "        elif choice == '4':\n",
    "            print(num1, \"/\", num2, \"=\", divide(num1, num2))\n",
    "        next_calculation = input(\"Let's do next calculation? (yes/no): \")\n",
    "        if next_calculation.lower() == \"no\":\n",
    "          break\n",
    "    else:\n",
    "        print(\"Invalid Input\")"
   ]
  },
  {
   "cell_type": "markdown",
   "id": "fc3e1eac",
   "metadata": {},
   "source": [
    "# Program to Check Whether a String is Palindrome or Not\n"
   ]
  },
  {
   "cell_type": "code",
   "execution_count": 50,
   "id": "56074c8d",
   "metadata": {},
   "outputs": [
    {
     "name": "stdout",
     "output_type": "stream",
     "text": [
      "Enter a string: abc\n",
      "The string is not a palindrome.\n"
     ]
    }
   ],
   "source": [
    "str1 =input('Enter a string: ')\n",
    "str2 = str1[::-1]\n",
    "if str1 == str2:\n",
    "   print('The string is a palindrome.')\n",
    "else:\n",
    "   print('The string is not a palindrome.')"
   ]
  },
  {
   "cell_type": "code",
   "execution_count": 51,
   "id": "1852b926",
   "metadata": {},
   "outputs": [
    {
     "name": "stdout",
     "output_type": "stream",
     "text": [
      "Enter a string: aba\n",
      "The string is a palindrome.\n"
     ]
    }
   ],
   "source": [
    "# using for Loop \n",
    "str1 =input('Enter a string: ')\n",
    "l1 = len(str1)\n",
    "for i in range(len(str1)//2):\n",
    "    if str1[i] != str1[l1 - i - 1]:\n",
    "        print('The string is not a palindrome.')\n",
    "        break\n",
    "else:\n",
    "    print('The string is a palindrome.')"
   ]
  },
  {
   "cell_type": "code",
   "execution_count": null,
   "id": "c6e7bfdb",
   "metadata": {},
   "outputs": [],
   "source": [
    "str =input('Enter a string: ')  \n",
    "str =str.casefold()\n",
    "rev_str =reversed(str)\n",
    "if list(str) == list(rev_str):\n",
    "   print('The string is a palindrome.')\n",
    "else:\n",
    "   print('The string is not a palindrome.')\n"
   ]
  },
  {
   "cell_type": "markdown",
   "id": "ddd2bc36",
   "metadata": {},
   "source": [
    "# Program to Check Armstrong Number\n"
   ]
  },
  {
   "cell_type": "code",
   "execution_count": 52,
   "id": "c14d9320",
   "metadata": {},
   "outputs": [
    {
     "name": "stdout",
     "output_type": "stream",
     "text": [
      "Enter a number   371\n",
      "371 is an Armstrong number\n"
     ]
    }
   ],
   "source": [
    "num = int(input(\"Enter a number   \"))\n",
    "order = len(str(num))\n",
    "sum = 0\n",
    "temp = num\n",
    "while temp > 0:\n",
    "   digit = temp % 10\n",
    "   sum += digit ** order\n",
    "   temp //= 10\n",
    "if num == sum:\n",
    "   print('{0} is an Armstrong number'.format(num))\n",
    "else:\n",
    "   print('{0} is not an Armstrong number'.format(num))\n",
    "\n"
   ]
  },
  {
   "cell_type": "markdown",
   "id": "0ecf7b39",
   "metadata": {},
   "source": [
    "# Print all Prime Numbers in a Range\n"
   ]
  },
  {
   "cell_type": "code",
   "execution_count": 53,
   "id": "401dec88",
   "metadata": {},
   "outputs": [
    {
     "name": "stdout",
     "output_type": "stream",
     "text": [
      "Enter minimum range: 1\n",
      "Enter maximum range: 20\n",
      "2  3  5  7  11  13  17  19  "
     ]
    }
   ],
   "source": [
    "min =int(input('Enter minimum range: '))\n",
    "max =int(input('Enter maximum range: '))\n",
    "\n",
    "if min > max :\n",
    "    min , max = max, min\n",
    "\n",
    "for num in range(min, max + 1):\n",
    "   if num > 1:\n",
    "       for i in range(2, num):\n",
    "           if (num % i) == 0:\n",
    "               break\n",
    "       else:\n",
    "           print(num, end= \"  \")\n"
   ]
  },
  {
   "cell_type": "markdown",
   "id": "7468c35a",
   "metadata": {},
   "source": [
    "# Program to Find Armstrong Number in a Range"
   ]
  },
  {
   "cell_type": "code",
   "execution_count": null,
   "id": "b7eab330",
   "metadata": {},
   "outputs": [],
   "source": [
    "num_start =int(input('Enter start number: '))\n",
    "num_end =int(input('Enter end number: '))\n",
    "for num in range(num_start, num_end + 1):\n",
    "    order = len(str(num))\n",
    "    sum = 0\n",
    "    temp = num\n",
    "    while temp > 0:\n",
    "        digit = temp % 10\n",
    "        sum += digit ** order\n",
    "        temp //= 10\n",
    "    if num == sum:\n",
    "        print(num)\n"
   ]
  },
  {
   "cell_type": "code",
   "execution_count": 55,
   "id": "749a5811",
   "metadata": {},
   "outputs": [],
   "source": [
    "########################################################3"
   ]
  },
  {
   "cell_type": "markdown",
   "id": "facff716",
   "metadata": {},
   "source": [
    "# Program to Remove Punctuations from a String"
   ]
  },
  {
   "cell_type": "code",
   "execution_count": null,
   "id": "8b39c4e2",
   "metadata": {},
   "outputs": [],
   "source": [
    "symbols = \"\"\"!()-[]{};:'\"\\,<>./?@#$%^&*_~\"\"\"\n",
    "str1 =input('Enter a string: ')\n",
    " # remove symbols from the string\n",
    "no_sym = \"\"\n",
    "for char in str1:\n",
    "    if char not in symbols:\n",
    "       no_sym = no_sym + char\n",
    "print(no_sym)\n"
   ]
  },
  {
   "cell_type": "markdown",
   "id": "14ab2775",
   "metadata": {},
   "source": [
    "\n",
    "# Program to Display Calendar\n"
   ]
  },
  {
   "cell_type": "code",
   "execution_count": null,
   "id": "a89e6a82",
   "metadata": {},
   "outputs": [],
   "source": [
    "import calendar\n",
    "yr =int(input('Enter year: '))\n",
    "mth =int(input('Enter month: '))\n",
    "print(calendar.month(yr,mth))"
   ]
  },
  {
   "cell_type": "markdown",
   "id": "4de1c41e",
   "metadata": {},
   "source": [
    "# Program to Shuffle Deck of Cards\n"
   ]
  },
  {
   "cell_type": "code",
   "execution_count": null,
   "id": "fa0764b9",
   "metadata": {},
   "outputs": [],
   "source": [
    "import itertools, random\n",
    "card = list(itertools.product(range(1,14),['Club','Diamond','Heart','Spade']))\n",
    "\n",
    "random.shuffle(card)\n",
    "print(card)"
   ]
  },
  {
   "cell_type": "markdown",
   "id": "7f380ffb",
   "metadata": {},
   "source": [
    "# Program to Find the Size or Resolution of an Image\n",
    "\n"
   ]
  },
  {
   "cell_type": "code",
   "execution_count": null,
   "id": "03bf266f",
   "metadata": {},
   "outputs": [],
   "source": [
    "def img_res(filename):\n",
    "    with open(filename,'rb') as img_file:\n",
    "        img_file.seek(163)\n",
    "        x = img_file.read(2)\n",
    "        height = (x[0] << 8) + x[1]\n",
    "         # next 2 bytes is width\n",
    "        x = img_file.read(2)\n",
    " # calculate image width\n",
    "        width = (x[0] << 8) + x[1]\n",
    "    print('Image resolution =',width,'x',height)\n",
    "img_res('abc.jpg')\n"
   ]
  },
  {
   "cell_type": "code",
   "execution_count": null,
   "id": "977baf40",
   "metadata": {},
   "outputs": [],
   "source": []
  }
 ],
 "metadata": {
  "kernelspec": {
   "display_name": "Python 3 (ipykernel)",
   "language": "python",
   "name": "python3"
  },
  "language_info": {
   "codemirror_mode": {
    "name": "ipython",
    "version": 3
   },
   "file_extension": ".py",
   "mimetype": "text/x-python",
   "name": "python",
   "nbconvert_exporter": "python",
   "pygments_lexer": "ipython3",
   "version": "3.9.13"
  }
 },
 "nbformat": 4,
 "nbformat_minor": 5
}
