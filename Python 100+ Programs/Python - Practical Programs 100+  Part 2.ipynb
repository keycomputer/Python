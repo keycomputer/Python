{
 "cells": [
  {
   "cell_type": "markdown",
   "id": "1ba0eb55",
   "metadata": {},
   "source": [
    "# Program to Print Square Star Pattern using For Loop"
   ]
  },
  {
   "cell_type": "code",
   "execution_count": 1,
   "id": "2febc7e1",
   "metadata": {},
   "outputs": [
    {
     "name": "stdout",
     "output_type": "stream",
     "text": [
      "Enter the number of rows: 5\n",
      "* * * * * \n",
      "* * * * * \n",
      "* * * * * \n",
      "* * * * * \n",
      "* * * * * \n"
     ]
    }
   ],
   "source": [
    "n = int(input('Enter the number of rows: '))\n",
    "\n",
    "# nested For Loop to print star\n",
    "for i in range(n):\n",
    "   for j in range(n):\n",
    "      # printing stars\n",
    "      print(\"* \",end=\"\")\n",
    "   print(\"\\r\")"
   ]
  },
  {
   "cell_type": "markdown",
   "id": "e3daadc7",
   "metadata": {},
   "source": [
    "# Create Left Half Pyramid Pattern Using Asterisk (*)"
   ]
  },
  {
   "cell_type": "code",
   "execution_count": 2,
   "id": "2e83d3d9",
   "metadata": {},
   "outputs": [
    {
     "name": "stdout",
     "output_type": "stream",
     "text": [
      "Enter number of rows: 5\n",
      "*  \n",
      "* *  \n",
      "* * *  \n",
      "* * * *  \n",
      "* * * * *  \n"
     ]
    }
   ],
   "source": [
    "r=int(input('Enter number of rows: '))\n",
    "for i in range(r):\n",
    "    for j in range(i+1):\n",
    "        print('* ', end='')\n",
    "    print(' ')\n"
   ]
  },
  {
   "cell_type": "markdown",
   "id": "53506819",
   "metadata": {},
   "source": [
    "# Create Half Pyramid Pattern Using Numeric Values\n"
   ]
  },
  {
   "cell_type": "code",
   "execution_count": 4,
   "id": "96fbdc55",
   "metadata": {},
   "outputs": [
    {
     "name": "stdout",
     "output_type": "stream",
     "text": [
      "Enter number of rows: 5\n",
      "1  \n",
      "1 2  \n",
      "1 2 3  \n",
      "1 2 3 4  \n",
      "1 2 3 4 5  \n"
     ]
    }
   ],
   "source": [
    "r=int(input('Enter number of rows: '))\n",
    "for i in range(r):\n",
    "    for j in range(i+1):\n",
    "        print(j+1, end=' ')\n",
    "    print(' ')"
   ]
  },
  {
   "cell_type": "markdown",
   "id": "8849858a",
   "metadata": {},
   "source": [
    "# Create Half Pyramid Pattern Using Alphabets"
   ]
  },
  {
   "cell_type": "code",
   "execution_count": 6,
   "id": "0306e8d4",
   "metadata": {},
   "outputs": [
    {
     "name": "stdout",
     "output_type": "stream",
     "text": [
      "Enter number of rows: 5\n",
      "A  \n",
      "B B  \n",
      "C C C  \n",
      "D D D D  \n",
      "E E E E E  \n"
     ]
    }
   ],
   "source": [
    "r=int(input('Enter number of rows: '))\n",
    "asciiValue = 65\n",
    "for i in range(r):\n",
    "    for j in range(i + 1):\n",
    "        alpha = chr(asciiValue)\n",
    "        print(alpha, end=' ')\n",
    "    asciiValue += 1\n",
    "    print(' ')"
   ]
  },
  {
   "cell_type": "markdown",
   "id": "1c4f0610",
   "metadata": {},
   "source": [
    "# Create Inverted Half Pyramid Pattern Using Asterisk"
   ]
  },
  {
   "cell_type": "code",
   "execution_count": 8,
   "id": "320bdefb",
   "metadata": {},
   "outputs": [
    {
     "name": "stdout",
     "output_type": "stream",
     "text": [
      "Enter number of rows: 5\n",
      "* * * * *  \n",
      "* * * *  \n",
      "* * *  \n",
      "* *  \n",
      "*  \n"
     ]
    }
   ],
   "source": [
    "r=int(input('Enter number of rows: '))\n",
    "\n",
    "for i in range(r, 0, -1):\n",
    "    for j in range(0, i):\n",
    "        print('*', end=' ')\n",
    "    \n",
    "    print(' ')\n"
   ]
  },
  {
   "cell_type": "markdown",
   "id": "5384f566",
   "metadata": {},
   "source": [
    "# Right Half Pyramid Star Pattern in Python"
   ]
  },
  {
   "cell_type": "code",
   "execution_count": 10,
   "id": "1cb9a709",
   "metadata": {},
   "outputs": [
    {
     "name": "stdout",
     "output_type": "stream",
     "text": [
      "Enter the number of rows: 5\n",
      "        * \n",
      "      * * \n",
      "    * * * \n",
      "  * * * * \n",
      "* * * * * \n"
     ]
    }
   ],
   "source": [
    "n = int(input('Enter the number of rows: '))\n",
    "for i in range(n):\n",
    "      for j in range(n-i-1):\n",
    "         # printing spaces\n",
    "         print(\" \", end=\" \")\n",
    "\n",
    "      for j in range(i+1):\n",
    "         # printing stars\n",
    "         print(\"* \",end=\"\")\n",
    "      print()"
   ]
  },
  {
   "cell_type": "markdown",
   "id": "f5cab35e",
   "metadata": {},
   "source": [
    "# # Create Full Pyramid Pattern Using Asterisk"
   ]
  },
  {
   "cell_type": "code",
   "execution_count": 12,
   "id": "ee6da2f3",
   "metadata": {},
   "outputs": [
    {
     "name": "stdout",
     "output_type": "stream",
     "text": [
      "Enter number of rows: 5\n",
      "    *\n",
      "   ***\n",
      "  *****\n",
      " *******\n",
      "*********\n"
     ]
    }
   ],
   "source": [
    "r=int(input('Enter number of rows: '))\n",
    "x = 0\n",
    "for i in range(1, r + 1):\n",
    "    for space in range(1, (r - i) + 1):\n",
    "        print(end=' ')\n",
    "    while x != (2 * i - 1):\n",
    "        print('*', end='')\n",
    "        x += 1\n",
    "    x = 0\n",
    "    print()"
   ]
  },
  {
   "cell_type": "code",
   "execution_count": 13,
   "id": "64694a35",
   "metadata": {},
   "outputs": [
    {
     "name": "stdout",
     "output_type": "stream",
     "text": [
      "Enter the number of rows: 5\n",
      "    * \n",
      "   * * \n",
      "  * * * \n",
      " * * * * \n",
      "* * * * * \n"
     ]
    }
   ],
   "source": [
    "n = int(input('Enter the number of rows: '))\n",
    "a = n - 1\n",
    "for i in range(n):\n",
    "  for j in range(a):\n",
    "     print(end=\" \")\n",
    "\n",
    "  # decrementing a after each loop\n",
    "  a = a - 1\n",
    "  for j in range(i+1):\n",
    "     # printing stars\n",
    "     print(\"* \",end=\"\")\n",
    "  print(\"\\r\")"
   ]
  },
  {
   "cell_type": "markdown",
   "id": "8c223dea",
   "metadata": {},
   "source": [
    "# Full Inverted Pyramid Pattern"
   ]
  },
  {
   "cell_type": "code",
   "execution_count": 15,
   "id": "bd578ad5",
   "metadata": {},
   "outputs": [
    {
     "name": "stdout",
     "output_type": "stream",
     "text": [
      "Enter number of rows: 5\n",
      "* * * * * * * * * \n",
      "  * * * * * * * \n",
      "    * * * * * \n",
      "      * * * \n",
      "        * \n",
      "          \n",
      "            \n"
     ]
    }
   ],
   "source": [
    "rows =int(input('Enter number of rows: '))  \n",
    "for i in range(rows+1, -1, -1):\n",
    "    for space in range(0, rows-i+1):\n",
    "        print('  ', end='')\n",
    "    for j in range(i, 2*i-1):\n",
    "        print('* ', end='')\n",
    "    for j in range(1, i-1):\n",
    "        print('* ', end='')\n",
    "    print()"
   ]
  },
  {
   "cell_type": "markdown",
   "id": "a78e7cb1",
   "metadata": {},
   "source": [
    "# Reverse Right Half Pyramid Star Pattern in Python"
   ]
  },
  {
   "cell_type": "code",
   "execution_count": 17,
   "id": "f71d4a46",
   "metadata": {},
   "outputs": [
    {
     "name": "stdout",
     "output_type": "stream",
     "text": [
      "Enter the number of rows: 5\n",
      "  * * * * * \n",
      "    * * * * \n",
      "      * * * \n",
      "        * * \n",
      "          * \n"
     ]
    }
   ],
   "source": [
    "n = int(input('Enter the number of rows: '))\n",
    "for i in range(n):\n",
    "      for j in range(i+1):\n",
    "         # printing spaces\n",
    "         print(\" \",end=\" \")\n",
    "\n",
    "      for k in range(n-i):\n",
    "         # printing stars\n",
    "         print(\"* \",end=\"\")\n",
    "      print()"
   ]
  },
  {
   "cell_type": "markdown",
   "id": "cb365dbe",
   "metadata": {},
   "source": [
    "# Scalene Triangle Star Pattern"
   ]
  },
  {
   "cell_type": "code",
   "execution_count": 19,
   "id": "cb8c75f3",
   "metadata": {},
   "outputs": [
    {
     "name": "stdout",
     "output_type": "stream",
     "text": [
      "Enter the number of rows: 5\n",
      "    *   \n",
      "   *   *   \n",
      "  *   *   *   \n",
      " *   *   *   *   \n",
      "*   *   *   *   *   \n"
     ]
    }
   ],
   "source": [
    "n = int(input('Enter the number of rows: '))\n",
    "a = n - 1\n",
    "for i in range(n):\n",
    "  for j in range(a):\n",
    "     print(end=\" \")\n",
    "\n",
    "  # decrementing a after each loop\n",
    "  a = a - 1\n",
    "  for j in range(i+1):\n",
    "     # printing stars\n",
    "     print(\"* \",end=\"  \")\n",
    "  print(\"\\r\")"
   ]
  },
  {
   "cell_type": "code",
   "execution_count": 20,
   "id": "e5a1b2fe",
   "metadata": {},
   "outputs": [],
   "source": [
    "# Diamond Star Pattern in Python"
   ]
  },
  {
   "cell_type": "code",
   "execution_count": 21,
   "id": "8e27f3ae",
   "metadata": {},
   "outputs": [
    {
     "name": "stdout",
     "output_type": "stream",
     "text": [
      "Enter the number of rows: 5\n",
      "    *\n",
      "   ***\n",
      "  *****\n",
      " *******\n",
      "*********\n",
      " *******\n",
      "  *****\n",
      "   ***\n",
      "    *\n"
     ]
    }
   ],
   "source": [
    "n = int(input('Enter the number of rows: '))\n",
    "for i in range(n):\n",
    "  for j in range(n-i-1):\n",
    "     print(\" \", end=\"\")\n",
    "  for j in range(2*i+1):\n",
    "     # printing stars\n",
    "     print(\"*\", end=\"\")\n",
    "  print()\n",
    "\n",
    "   # print downward pyramid\n",
    "for i in range(n-1):\n",
    "  for j in range(i+1):\n",
    "     print(\" \", end=\"\")\n",
    "  for j in range(2*(n-i-1)-1):\n",
    "     # printing stars\n",
    "     print(\"*\", end=\"\")\n",
    "  print()"
   ]
  },
  {
   "cell_type": "markdown",
   "id": "3cd7953b",
   "metadata": {},
   "source": [
    "# Hourglass Star Pattern "
   ]
  },
  {
   "cell_type": "code",
   "execution_count": 23,
   "id": "a2cf97ce",
   "metadata": {},
   "outputs": [
    {
     "name": "stdout",
     "output_type": "stream",
     "text": [
      "Enter the number of rows: 5\n",
      "* * * * * * * * * \n",
      "  * * * * * * * \n",
      "    * * * * * \n",
      "      * * * \n",
      "        * \n",
      "      * * * \n",
      "    * * * * * \n",
      "  * * * * * * * \n",
      "* * * * * * * * * \n"
     ]
    }
   ],
   "source": [
    "n = int(input('Enter the number of rows: '))\n",
    "for i in range(n-1):\n",
    "      for j in range(i):\n",
    "         print(\" \", end=\" \")\n",
    "      for j in range(2*(n-i)-1):\n",
    "         # printing stars\n",
    "         print(\"*\", end=\" \")\n",
    "      print()\n",
    "\n",
    "   # print upper pyramid\n",
    "for i in range(n):\n",
    "  for j in range(n-i-1):\n",
    "     print(\" \", end=\" \")\n",
    "  for j in range(2*i+1):\n",
    "     # printing stars\n",
    "     print(\"*\", end=\" \")\n",
    "  print()"
   ]
  },
  {
   "cell_type": "markdown",
   "id": "b3865841",
   "metadata": {},
   "source": [
    "# Heart Star Pattern"
   ]
  },
  {
   "cell_type": "code",
   "execution_count": 25,
   "id": "2233ea73",
   "metadata": {},
   "outputs": [
    {
     "name": "stdout",
     "output_type": "stream",
     "text": [
      "Enter the number of rows: 5\n",
      "  * *       * * \n",
      "* * * *   * * * * \n",
      "* * * * * * * * * \n",
      "  * * * * * * * \n",
      "    * * * * * \n",
      "      * * * \n",
      "        * \n"
     ]
    }
   ],
   "source": [
    "n = int(input('Enter the number of rows: '))\n",
    "for i in range(n//2, n, 2):\n",
    "      for j in range(1, n-i ,2):\n",
    "         print(\" \", end=\" \")\n",
    "      for j in range(1, i+1, 1):\n",
    "         print(\"*\", end=\" \")\n",
    "      for j in range(1, n-i+1, 1):\n",
    "         print(\" \", end=\" \")\n",
    "      for j in range(1, i+1, 1):\n",
    "         print(\"*\", end=\" \")\n",
    "      print()\n",
    "\n",
    "   # print upper side of heart\n",
    "for i in range(n,0,-1):\n",
    "  for j in range(i, n, 1):\n",
    "     print(\" \", end=\" \")\n",
    "  for j in range(1, i*2, 1):\n",
    "     print(\"*\", end=\" \")\n",
    "  print()"
   ]
  },
  {
   "cell_type": "markdown",
   "id": "46c3fa4a",
   "metadata": {},
   "source": [
    "# Hollow Square Star Pattern "
   ]
  },
  {
   "cell_type": "code",
   "execution_count": 27,
   "id": "f5ceddbf",
   "metadata": {},
   "outputs": [
    {
     "name": "stdout",
     "output_type": "stream",
     "text": [
      "Enter the number of rows: 4\n",
      "* * * * \n",
      "*     * \n",
      "*     * \n",
      "* * * * \n"
     ]
    }
   ],
   "source": [
    "n = int(input('Enter the number of rows: '))\n",
    "for i in range(n):\n",
    "      for j in range(n):\n",
    "         # printing stars\n",
    "         if i == 0 or i == n-1 or j == 0 or j == n-1:\n",
    "            print(\"*\", end=\" \")\n",
    "         else:\n",
    "            print(\" \", end=\" \")\n",
    "      print(\"\\r\")"
   ]
  },
  {
   "cell_type": "markdown",
   "id": "34736fee",
   "metadata": {},
   "source": [
    "# Hollow Left Half Pyramid Star Pattern"
   ]
  },
  {
   "cell_type": "code",
   "execution_count": 29,
   "id": "d1f3a731",
   "metadata": {},
   "outputs": [
    {
     "name": "stdout",
     "output_type": "stream",
     "text": [
      "Enter the number of rows: 5\n",
      "* \n",
      "* * \n",
      "*   * \n",
      "*     * \n",
      "* * * * * \n"
     ]
    }
   ],
   "source": [
    "n = int(input('Enter the number of rows: '))\n",
    "for i in range(1, n+1):\n",
    "      for j in range(i):\n",
    "         # printing stars\n",
    "         if j == 0 or j == i-1:\n",
    "            print(\"*\", end=\" \")\n",
    "         else:\n",
    "            if i != n:\n",
    "               print(\" \", end=\" \")\n",
    "            else:\n",
    "               print(\"*\", end=\" \")\n",
    "      print()"
   ]
  },
  {
   "cell_type": "markdown",
   "id": "12775409",
   "metadata": {},
   "source": [
    "# Hollow Reverse Left Half Pyramid Star Pattern"
   ]
  },
  {
   "cell_type": "code",
   "execution_count": 31,
   "id": "d368fc88",
   "metadata": {},
   "outputs": [
    {
     "name": "stdout",
     "output_type": "stream",
     "text": [
      "Enter the number of rows: 5\n",
      "* * * * * \n",
      "*     * \n",
      "*   * \n",
      "* * \n",
      "* \n"
     ]
    }
   ],
   "source": [
    "n = int(input('Enter the number of rows: '))\n",
    "for i in range(n, 0, -1):\n",
    "      for j in range(i, 0, -1):\n",
    "         if i == 1 or i == n or j == 1 or j == i:\n",
    "            # printing stars\n",
    "            print(\"*\", end=\" \")\n",
    "         else:\n",
    "            print(\" \", end=\" \")\n",
    "      print()"
   ]
  },
  {
   "cell_type": "markdown",
   "id": "5d4ace20",
   "metadata": {},
   "source": [
    "# Hollow Triangle or Pyramid Star Pattern"
   ]
  },
  {
   "cell_type": "code",
   "execution_count": 33,
   "id": "ddd75340",
   "metadata": {},
   "outputs": [
    {
     "name": "stdout",
     "output_type": "stream",
     "text": [
      "Enter the number of rows: 5\n",
      "        * \n",
      "      *   * \n",
      "    *       * \n",
      "  *           * \n",
      "* * * * * * * * * \n"
     ]
    }
   ],
   "source": [
    "n = int(input('Enter the number of rows: '))\n",
    "for i in range(n):\n",
    "      for j in range(n-i-1):\n",
    "         print(\" \", end=\" \")\n",
    "      \n",
    "      for j in range(2*i+1):\n",
    "         # printing stars\n",
    "         if j == 0 or j == 2*i:\n",
    "            print(\"*\", end=\" \")\n",
    "         else:\n",
    "            if i == n-1:\n",
    "               print(\"*\", end=\" \")\n",
    "            else:\n",
    "               print(\" \", end=\" \")\n",
    "      print()"
   ]
  },
  {
   "cell_type": "markdown",
   "id": "ca1a1e7c",
   "metadata": {},
   "source": [
    "# Hollow Reverse Triangle or Pyramid Star Pattern"
   ]
  },
  {
   "cell_type": "code",
   "execution_count": 35,
   "id": "07ffc262",
   "metadata": {},
   "outputs": [
    {
     "name": "stdout",
     "output_type": "stream",
     "text": [
      "Enter the number of rows: 5\n",
      "  * * * * * * * * * \n",
      "    *           * \n",
      "      *       * \n",
      "        *   * \n",
      "          * \n"
     ]
    }
   ],
   "source": [
    "n = int(input('Enter the number of rows: '))\n",
    "for i in range(1, n+1):\n",
    "      for j in range(0, i):\n",
    "         print(\" \", end=\" \")\n",
    "\n",
    "      for j in range(1, (n*2 - (2*i-1)) + 1):\n",
    "         if i == 1 or j == 1 or j ==(n*2 -(2*i-1)):\n",
    "            # printing stars\n",
    "            print(\"*\", end=\" \")\n",
    "         else:\n",
    "            print(\" \", end=\" \")\n",
    "      print()"
   ]
  },
  {
   "cell_type": "markdown",
   "id": "916a85cc",
   "metadata": {},
   "source": [
    "# Hollow Diamond Star Pattern"
   ]
  },
  {
   "cell_type": "code",
   "execution_count": 37,
   "id": "ff8946cc",
   "metadata": {},
   "outputs": [
    {
     "name": "stdout",
     "output_type": "stream",
     "text": [
      "Enter the number of rows: 5\n",
      "        * \n",
      "      *   * \n",
      "    *       * \n",
      "  *           * \n",
      "*               * \n",
      "  *           * \n",
      "    *       * \n",
      "      *   * \n",
      "        * \n"
     ]
    }
   ],
   "source": [
    "n = int(input('Enter the number of rows: '))\n",
    "\n",
    "for i in range(n):\n",
    "      for j in range(n-i-1):\n",
    "         print(\" \", end=\" \")\n",
    "      for j in range(2*i+1):\n",
    "         if j == 0 or j == 2*i:\n",
    "            # printing stars\n",
    "            print(\"*\", end=\" \")\n",
    "         else:\n",
    "            print(\" \", end=\" \")\n",
    "      print()\n",
    "\n",
    "for i in range(n-1):\n",
    "  for j in range(i+1):\n",
    "     print(\" \", end=\" \")\n",
    "  for j in range(2*(n-i-1)-1):\n",
    "     if j == 0 or j == 2*(n-i-1)-2:\n",
    "        # printing stars\n",
    "        print(\"*\", end=\" \")\n",
    "     else:\n",
    "        print(\" \", end=\" \")\n",
    "  print()"
   ]
  },
  {
   "cell_type": "markdown",
   "id": "048f53b8",
   "metadata": {},
   "source": [
    "# Hollow Hourglass Star Pattern\n"
   ]
  },
  {
   "cell_type": "code",
   "execution_count": 39,
   "id": "61494397",
   "metadata": {},
   "outputs": [
    {
     "name": "stdout",
     "output_type": "stream",
     "text": [
      "Enter the number of rows: 5\n",
      "* * * * * * * * * \n",
      "  *           * \n",
      "    *       * \n",
      "      *   * \n",
      "        * \n",
      "      *   * \n",
      "    *       * \n",
      "  *           * \n",
      "* * * * * * * * * \n"
     ]
    }
   ],
   "source": [
    "n = int(input('Enter the number of rows: '))\n",
    "for i in range(n, 0, -1):\n",
    "      for j in range(n-i):\n",
    "         print(\" \", end=\" \")\n",
    "      for j in range(1, 2*i):\n",
    "         if i==1 or i==n or j==1 or j==2*i-1:\n",
    "            # printing stars\n",
    "            print(\"*\", end=\" \")\n",
    "         else:\n",
    "            print(\" \", end=\" \")\n",
    "      print()\n",
    "   \n",
    "for i in range(2, n+1):\n",
    "  for j in range(n-i):\n",
    "     print(\" \", end=\" \")\n",
    "  for j in range(1, 2*i):\n",
    "     if i==n or j==1 or j==2*i-1:\n",
    "        # printing stars\n",
    "        print(\"*\", end=\" \")\n",
    "     else:\n",
    "        print(\" \", end=\" \")\n",
    "  print()"
   ]
  },
  {
   "cell_type": "markdown",
   "id": "f4fcc874",
   "metadata": {},
   "source": [
    "# Pascal’s Triangle"
   ]
  },
  {
   "cell_type": "code",
   "execution_count": 41,
   "id": "3ee49151",
   "metadata": {},
   "outputs": [
    {
     "name": "stdout",
     "output_type": "stream",
     "text": [
      "Enter number of rows: 5\n",
      "    1 \n",
      "   1 1 \n",
      "  1 2 1 \n",
      " 1 3 3 1 \n",
      "1 4 6 4 1 \n"
     ]
    }
   ],
   "source": [
    "rows =int(input('Enter number of rows: '))\n",
    "coef = 1\n",
    "for i in range(1,rows+1):\n",
    "    for space in range(1, rows-i+1):\n",
    "        print(' ',end='')\n",
    "    for j in range(0, i):\n",
    "        if j==0 or i==0:\n",
    "            coef = 1\n",
    "        else:\n",
    "            coef = coef * (i - j)//j\n",
    "        print(coef, end = ' ')\n",
    "    print()\n"
   ]
  },
  {
   "cell_type": "code",
   "execution_count": 42,
   "id": "25c8fde6",
   "metadata": {},
   "outputs": [
    {
     "name": "stdout",
     "output_type": "stream",
     "text": [
      "Enter number of rows: 5\n",
      "1 \n",
      "2 3 \n",
      "4 5 6 \n",
      "7 8 9 10 \n",
      "11 12 13 14 15 \n"
     ]
    }
   ],
   "source": [
    "# Floyd’s Triangle\n",
    "r=int(input('Enter number of rows: '))  \n",
    "num = 1\n",
    "for i in range(1, r+1):\n",
    "    for j in range(1, i+1):\n",
    "        print(num, end=\" \")\n",
    "        num += 1\n",
    "    print()"
   ]
  }
 ],
 "metadata": {
  "kernelspec": {
   "display_name": "Python 3 (ipykernel)",
   "language": "python",
   "name": "python3"
  },
  "language_info": {
   "codemirror_mode": {
    "name": "ipython",
    "version": 3
   },
   "file_extension": ".py",
   "mimetype": "text/x-python",
   "name": "python",
   "nbconvert_exporter": "python",
   "pygments_lexer": "ipython3",
   "version": "3.9.13"
  }
 },
 "nbformat": 4,
 "nbformat_minor": 5
}
