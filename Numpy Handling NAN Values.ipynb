{
 "cells": [
  {
   "cell_type": "code",
   "execution_count": 3,
   "metadata": {},
   "outputs": [
    {
     "name": "stdout",
     "output_type": "stream",
     "text": [
      "[ True False False False]\n"
     ]
    }
   ],
   "source": [
    "## handling nan  - print true / false \n",
    "import numpy as np\n",
    " \n",
    "x = np.array([np.nan, 2, 3, 4])\n",
    "print(np.isnan(x))\n",
    "\n"
   ]
  },
  {
   "cell_type": "code",
   "execution_count": 4,
   "metadata": {},
   "outputs": [
    {
     "name": "stdout",
     "output_type": "stream",
     "text": [
      "[2. 3. 4.]\n"
     ]
    }
   ],
   "source": [
    "# print values except nan values\n",
    "import numpy as np\n",
    " \n",
    "x = np.array([np.nan, 2, 3, 4])\n",
    "\n",
    "x = x[~np.isnan(x)]\n",
    "print(x)"
   ]
  },
  {
   "cell_type": "code",
   "execution_count": 7,
   "metadata": {},
   "outputs": [
    {
     "name": "stdout",
     "output_type": "stream",
     "text": [
      "[1. 2. 4. 2. 3. 4. 5. 6.]\n"
     ]
    }
   ],
   "source": [
    "# handling nan in 2-D Array \n",
    "import numpy as np\n",
    "x = np.array([[1, 2, np.nan, 4], \n",
    "                 [2, 3, 4, np.nan],\n",
    "                 [np.nan, 5,np.nan, 6]])\n",
    "print(x[~(np.isnan(x))])"
   ]
  },
  {
   "cell_type": "code",
   "execution_count": 8,
   "metadata": {},
   "outputs": [
    {
     "name": "stdout",
     "output_type": "stream",
     "text": [
      "[1. 2. 3. 4. 5. 6. 7. 8. 9.]\n"
     ]
    }
   ],
   "source": [
    "### using isnan() and logical_not() \n",
    "\n",
    "import numpy as np\n",
    "\n",
    "x= np.array([1, 2, 3, np.nan, np.nan, 4, 5, 6, np.nan, 7, 8, 9, np.nan])\n",
    "x = x[np.logical_not(np.isnan(x))] \n",
    "print(x)\n"
   ]
  },
  {
   "cell_type": "code",
   "execution_count": 9,
   "metadata": {},
   "outputs": [
    {
     "name": "stdout",
     "output_type": "stream",
     "text": [
      "[1. 2. 3. 4. 5. 6. 7. 8. 9.]\n"
     ]
    }
   ],
   "source": [
    "\n",
    "import numpy as np\n",
    "\n",
    "x= np.array([1, 2, 3, np.nan, np.nan, 4, 5, 6, np.nan, 7, 8, 9, np.nan])\n",
    "x = x[~np.isnan(x)]\n",
    "print(x)"
   ]
  },
  {
   "cell_type": "code",
   "execution_count": 12,
   "metadata": {},
   "outputs": [
    {
     "name": "stdout",
     "output_type": "stream",
     "text": [
      "Finite :  True\n",
      "Finite :  True\n",
      "Finite :  False\n",
      "Finite :  False\n",
      "Finite :  False\n"
     ]
    }
   ],
   "source": [
    "# using isfinite() function\n",
    "\n",
    "import numpy as np\n",
    "x = np.array([1, 2, 3, np.nan, np.nan, 4, 5, 6, np.nan, 7, 8, 9, np.nan])\n",
    "print(\"Finite : \", np.isfinite(1))\n",
    "print(\"Finite : \", np.isfinite(0))\n",
    "# not a number\n",
    "print(\"Finite : \", np.isfinite(np.nan))\n",
    "#  infinity\n",
    "print(\"Finite : \", np.isfinite(np.inf))\n",
    "print(\"Finite : \", np.isfinite(np.NINF))"
   ]
  },
  {
   "cell_type": "code",
   "execution_count": 13,
   "metadata": {},
   "outputs": [
    {
     "name": "stdout",
     "output_type": "stream",
     "text": [
      "[1. 2. 3. 4. 5. 6. 7. 8. 9.]\n",
      "[]\n",
      "[ 1  2  3  4  5  6  7  8  9 10]\n"
     ]
    }
   ],
   "source": [
    "\n",
    "import numpy as np\n",
    "x1 = np.array([1, 2, 3, np.nan, np.nan, 4, 5, 6, np.nan, 7, 8, 9, np.nan])\n",
    "x2 = np.array([np.nan, np.nan, np.nan, np.nan, np.nan, np.nan])\n",
    "x3 = np.array([1, 2, 3, 4, 5, 6, 7, 8, 9, 10])\n",
    "print(x1[np.isfinite(x1)])\n",
    "print(x2[np.isfinite(x2)])\n",
    "print(x3[np.isfinite(x3)])\n"
   ]
  },
  {
   "cell_type": "code",
   "execution_count": 15,
   "metadata": {},
   "outputs": [
    {
     "name": "stdout",
     "output_type": "stream",
     "text": [
      "False\n",
      "False\n",
      "False\n",
      "False\n",
      "True\n",
      "False\n",
      "False\n",
      "True\n"
     ]
    }
   ],
   "source": [
    "# using math.nan function\n",
    "import math\n",
    "print (math.isnan (56))\n",
    "print (math.isnan (-45))\n",
    "print (math.isnan (+45.34))\n",
    "print (math.isnan (math.inf))\n",
    "print (math.isnan (float(\"nan\")))\n",
    "print (math.isnan (float(\"inf\")))\n",
    "print (math.isnan (float(\"-inf\")))\n",
    "print (math.isnan (math.nan))"
   ]
  },
  {
   "cell_type": "code",
   "execution_count": 16,
   "metadata": {},
   "outputs": [
    {
     "name": "stdout",
     "output_type": "stream",
     "text": [
      "[True, True, True, False, False, True, True, True, False, True, True, True, False]\n",
      "[False, False, False, False, False, False]\n",
      "[True, True, True, True, True, True, True, True, True, True]\n"
     ]
    }
   ],
   "source": [
    "import math\n",
    "import numpy as np\n",
    "x1 = np.array([1, 2, 3, np.nan, np.nan, 4, 5, 6, np.nan, 7, 8, 9, np.nan])\n",
    "x2 = np.array([np.nan, np.nan, np.nan, np.nan, np.nan, np.nan])\n",
    "x3 = np.array([1, 2, 3, 4, 5, 6, 7, 8, 9, 10])\n",
    "b1 = [not math.isnan(number) for number in x1]\n",
    "b2 = [not math.isnan(number) for number in x2]\n",
    "b3 = [not math.isnan(number) for number in x3]\n",
    "print(b1)\n",
    "print(b2)\n",
    "print(b3)"
   ]
  },
  {
   "cell_type": "code",
   "execution_count": 18,
   "metadata": {},
   "outputs": [
    {
     "name": "stdout",
     "output_type": "stream",
     "text": [
      "[1. 2. 3. 4. 5. 6. 7. 8. 9.]\n",
      "[]\n",
      "[ 1  2  3  4  5  6  7  8  9 10]\n"
     ]
    }
   ],
   "source": [
    "import math\n",
    "import numpy as np\n",
    "x1 = np.array([1, 2, 3, np.nan, np.nan, 4, 5, 6, np.nan, 7, 8, 9, np.nan])\n",
    "x2 = np.array([np.nan, np.nan, np.nan, np.nan, np.nan, np.nan])\n",
    "x3 = np.array([1, 2, 3, 4, 5, 6, 7, 8, 9, 10])\n",
    "b1 = x1[[not math.isnan(number) for number in x1]]\n",
    "b2 = x2[[not math.isnan(number) for number in x2]]\n",
    "b3 = x3[[not math.isnan(number) for number in x3]]\n",
    "print(b1)\n",
    "print(b2)\n",
    "print(b3)"
   ]
  },
  {
   "cell_type": "code",
   "execution_count": 19,
   "metadata": {},
   "outputs": [
    {
     "name": "stdout",
     "output_type": "stream",
     "text": [
      "[1. 2. 3. 4. 5. 6. 7. 8. 9.]\n",
      "[]\n",
      "[ 1  2  3  4  5  6  7  8  9 10]\n"
     ]
    }
   ],
   "source": [
    "# pandas isnull()\n",
    "\n",
    "import numpy as np\n",
    "import pandas as pd\n",
    "\n",
    "x1 = np.array([1, 2, 3, np.nan, np.nan, 4, 5, 6, np.nan, 7, 8, 9, np.nan])\n",
    "x2 = np.array([np.nan, np.nan, np.nan, np.nan, np.nan, np.nan])\n",
    "x3 = np.array([1, 2, 3, 4, 5, 6, 7, 8, 9, 10])\n",
    "b1 = x1[[not pd.isnull(number) for number in x1]]\n",
    "b2 = x2[[not pd.isnull(number) for number in x2]]\n",
    "b3 = x3[[not pd.isnull(number) for number in x3]]\n",
    "print(b1)\n",
    "print(b2)\n",
    "print(b3)"
   ]
  },
  {
   "cell_type": "code",
   "execution_count": null,
   "metadata": {},
   "outputs": [],
   "source": []
  }
 ],
 "metadata": {
  "kernelspec": {
   "display_name": "Python 3",
   "language": "python",
   "name": "python3"
  },
  "language_info": {
   "codemirror_mode": {
    "name": "ipython",
    "version": 3
   },
   "file_extension": ".py",
   "mimetype": "text/x-python",
   "name": "python",
   "nbconvert_exporter": "python",
   "pygments_lexer": "ipython3",
   "version": "3.8.5"
  }
 },
 "nbformat": 4,
 "nbformat_minor": 4
}
