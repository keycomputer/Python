{
 "cells": [
  {
   "cell_type": "markdown",
   "metadata": {},
   "source": [
    "# List \n",
    "List are collection of items . A list is mutable data type, which means you can change the content of a list without creating new List."
   ]
  },
  {
   "cell_type": "code",
   "execution_count": 1,
   "metadata": {},
   "outputs": [],
   "source": [
    "# Creating List\n",
    "L1 =[]   # empty list\n",
    "L2 =[1,2,3,4,5]\n",
    "L3 = list() # empty list\n",
    "L4 = list([1,2,3,4])\n",
    "L5 = list(\"Hello\")\n",
    "L6 = [1.1,2.2,3.4]\n",
    "L7 = ['a', 'b', 'c' ,'d']"
   ]
  },
  {
   "cell_type": "code",
   "execution_count": 2,
   "metadata": {},
   "outputs": [
    {
     "name": "stdout",
     "output_type": "stream",
     "text": [
      "[1, 2, 3, 4, 5]\n",
      "[1, 2, 3, 4, 5]\n"
     ]
    }
   ],
   "source": [
    "# using List function\n",
    "L1 =  [1,2,3,4,5]\n",
    "L2 = list(L1)\n",
    "print(L1)\n",
    "print(L2)"
   ]
  },
  {
   "cell_type": "code",
   "execution_count": 3,
   "metadata": {},
   "outputs": [
    {
     "name": "stdout",
     "output_type": "stream",
     "text": [
      "['P', 'y', 't', 'h', 'o', 'n']\n"
     ]
    },
    {
     "data": {
      "text/plain": [
       "['P', 'y', 't', 'h', 'o', 'n']"
      ]
     },
     "execution_count": 3,
     "metadata": {},
     "output_type": "execute_result"
    }
   ],
   "source": [
    "#using String\n",
    "mystring = \"Python\"\n",
    "l1 = list(mystring)\n",
    "print(l1)\n",
    "['P', 'y', 't', 'h', 'o', 'n']"
   ]
  },
  {
   "cell_type": "markdown",
   "metadata": {},
   "source": []
  },
  {
   "cell_type": "markdown",
   "metadata": {},
   "source": [
    "L1 = [1,2,3,4,5,6]\n",
    "print(L1[0])  # first item\n",
    "print(L1[-6]) # first item\n",
    "print(L1[5])  # last item\n",
    "print(L1[-1]) # last item"
   ]
  },
  {
   "cell_type": "code",
   "execution_count": 8,
   "metadata": {},
   "outputs": [
    {
     "name": "stdout",
     "output_type": "stream",
     "text": [
      "1\n",
      "1\n",
      "6\n",
      "6\n"
     ]
    }
   ],
   "source": [
    "L1 = [1,2,3,4,5,6]\n",
    "print(L1[0])  # first item\n",
    "print(L1[-6]) # first item\n",
    "print(L1[5])  # last item\n",
    "print(L1[-1]) # last item"
   ]
  },
  {
   "cell_type": "code",
   "execution_count": 9,
   "metadata": {},
   "outputs": [
    {
     "name": "stdout",
     "output_type": "stream",
     "text": [
      "[1, 2, 3, 4, 5, 6, 7, 8, 9, 10]\n",
      "[1, 2, 3, 4, 5]\n",
      "[6, 7, 8, 9, 10]\n"
     ]
    }
   ],
   "source": [
    "L1 =[1,2,3,4,5,6,7,8,9,10]\n",
    "print(L1[ :  ])  \n",
    "print(L1[ : 5])\n",
    "print(L1[5 : ])"
   ]
  },
  {
   "cell_type": "code",
   "execution_count": 15,
   "metadata": {},
   "outputs": [
    {
     "name": "stdout",
     "output_type": "stream",
     "text": [
      "[3, 4, 5, 6, 7]\n",
      "[5, 6, 7, 8]\n",
      "[4, 5, 6, 7]\n",
      "[2, 3, 4, 5, 6, 7, 8, 9, 10]\n",
      "[1, 2, 3, 4, 5, 6]\n",
      "[1, 3, 5, 7, 9]\n",
      "[2, 4, 6]\n",
      "[10, 9, 8, 7, 6, 5, 4, 3, 2, 1]\n",
      "[10, 8, 6, 4, 2]\n",
      "[10, 9, 8]\n",
      "[10, 9, 8]\n"
     ]
    }
   ],
   "source": [
    "L1 =[1,2,3,4,5,6,7,8,9,10]\n",
    "print(L1[2 : 7])\n",
    "print(L1[-6 :-2])\n",
    "print(L1[3: -3])\n",
    "print(L1[1: 20])\n",
    "print(L1[-10 : 6])\n",
    "\n",
    "print(L1[ : : 2])\n",
    "print(L1[1:7: 2])\n",
    "\n",
    "print(L1[ : : -1])\n",
    "print(L1[ : : -2])\n",
    "print(L1[ : 6 :-1])\n",
    "print(L1[ : -4 : -1 ])"
   ]
  },
  {
   "cell_type": "code",
   "execution_count": 16,
   "metadata": {},
   "outputs": [
    {
     "name": "stdout",
     "output_type": "stream",
     "text": [
      "[100, 101, 3, 4, 5, 6]\n"
     ]
    }
   ],
   "source": [
    "# slice to update the content\n",
    "L1 = [1,2,3,4,5,6]\n",
    "L1[0:2] = [100,101]\n",
    "print(L1)"
   ]
  },
  {
   "cell_type": "code",
   "execution_count": 19,
   "metadata": {},
   "outputs": [
    {
     "name": "stdout",
     "output_type": "stream",
     "text": [
      "[1, 2, 3, 4, 5, 6]\n",
      "[0, 5, 10, 15, 20, 0, 5, 10, 15, 20]\n",
      "True\n"
     ]
    }
   ],
   "source": [
    "# List Operators\n",
    "# + \n",
    "l1 = [1,2,3]\n",
    "l2 = [4,5,6]\n",
    "l3 = l1 + l2\n",
    "print(l3) \n",
    "# *\n",
    "thelist = [0,5,10,15,20]\n",
    "thelist[-4:-1]\n",
    "[5, 10, 15]\n",
    "print(thelist*2)\n",
    "[0, 5, 10, 15, 20, 0, 5, 10, 15, 20]\n",
    "\n",
    "# in\n",
    "print(5 in thelist)"
   ]
  },
  {
   "cell_type": "code",
   "execution_count": 20,
   "metadata": {},
   "outputs": [
    {
     "name": "stdout",
     "output_type": "stream",
     "text": [
      "2\n",
      "[1, 10, 3, 4]\n"
     ]
    }
   ],
   "source": [
    "# List Updating\n",
    "l1 = [1,2,3,4]\n",
    "print(l1[1])\n",
    "l1[1] = 10\n",
    "print(l1)\n"
   ]
  },
  {
   "cell_type": "code",
   "execution_count": 22,
   "metadata": {},
   "outputs": [
    {
     "name": "stdout",
     "output_type": "stream",
     "text": [
      "Example 1\n",
      "1\n",
      "10\n",
      "3\n",
      "4\n",
      "Example 2\n",
      "1\n",
      "10\n",
      "3\n",
      "4\n"
     ]
    }
   ],
   "source": [
    "print(\"Example 1\")\n",
    "for i in range(len(l1)):\n",
    "             print(l1[i])\n",
    "print(\"Example 2\")\n",
    "for i in l1:\n",
    "                print(i)"
   ]
  },
  {
   "cell_type": "code",
   "execution_count": 23,
   "metadata": {},
   "outputs": [
    {
     "name": "stdout",
     "output_type": "stream",
     "text": [
      "[1]\n",
      "[1, 'abc']\n",
      "[1, 'abc', 1.12]\n",
      "[1, 'abc', 1.12, True]\n",
      "[1, 'abc', 1.12, True, [11, 12, 13]]\n"
     ]
    }
   ],
   "source": [
    "L1 = []\n",
    "L1.append(1)\n",
    "print(L1)\n",
    "L1.append(\"abc\")\n",
    "print(L1)\n",
    "L1.append(1.12)\n",
    "print(L1)\n",
    "L1.append(True)\n",
    "print(L1)\n",
    "L1.append([11,12,13])\n",
    "print(L1)"
   ]
  },
  {
   "cell_type": "code",
   "execution_count": 2,
   "metadata": {},
   "outputs": [
    {
     "name": "stdout",
     "output_type": "stream",
     "text": [
      "[1, 2, 3, 4, 5, 6, 7, 8, 9, 10]\n",
      "[1, 3, 5, 7, 9]\n"
     ]
    }
   ],
   "source": [
    "# creating list using range funciton()\n",
    "l1 = list(range(1,11))\n",
    "print(l1)\n",
    "l2 = list(range(1,11,2))\n",
    "print(l2)"
   ]
  },
  {
   "cell_type": "code",
   "execution_count": 3,
   "metadata": {},
   "outputs": [
    {
     "name": "stdout",
     "output_type": "stream",
     "text": [
      "[1, 3, 4, 5, 6, 7, 8, 9, 0]\n",
      "[1, 3, 4, 8, 9, 0]\n",
      "[2, 4, 6, 8, 0]\n"
     ]
    }
   ],
   "source": [
    "#Deleting Elements for List using del\n",
    "\n",
    "L1 = [1,2,3,4,5,6,7,8,9,0]\n",
    "del L1[1]\n",
    "print(L1)\n",
    "del L1[3:6]\n",
    "print(L1)\n",
    "L1 = [1,2,3,4,5,6,7,8,9,0]\n",
    "del L1[::2]\n",
    "print(L1)\n",
    "del L1 # delete all the elements and List object from the memory\n",
    "\n"
   ]
  },
  {
   "cell_type": "code",
   "execution_count": 4,
   "metadata": {},
   "outputs": [
    {
     "name": "stdout",
     "output_type": "stream",
     "text": [
      "[1, 2, 3, 4, 5, 100]\n",
      "[1, 2, 3, 4, 5, 100]\n"
     ]
    }
   ],
   "source": [
    "# Aliasing List\n",
    "L1 = [1,2,3,4,5]\n",
    "L2 = L1\n",
    "L2.append(100)\n",
    "print(L1)\n",
    "print(L2)"
   ]
  },
  {
   "cell_type": "code",
   "execution_count": 9,
   "metadata": {},
   "outputs": [
    {
     "name": "stdout",
     "output_type": "stream",
     "text": [
      "[1, 100, 3, 4, 5]\n",
      "[1, 2, 3, 4, 5]\n",
      "[1, 100, 3, 4, 5]\n"
     ]
    }
   ],
   "source": [
    "# Cloning List\n",
    "L1 = [1,2,3,4,5]\n",
    "L2 = list(L1)\n",
    "L1[1] = 100\n",
    "print(L1)\n",
    "print(L2)\n",
    "# Slicing Method \n",
    "L3 = L1[ :]\n",
    "print(L3)\n"
   ]
  },
  {
   "cell_type": "markdown",
   "metadata": {},
   "source": [
    "# append"
   ]
  },
  {
   "cell_type": "code",
   "execution_count": 10,
   "metadata": {},
   "outputs": [
    {
     "name": "stdout",
     "output_type": "stream",
     "text": [
      "[1]\n",
      "[1, 'abc']\n",
      "[1, 'abc', 1.12]\n",
      "[1, 'abc', 1.12, True]\n",
      "[1, 'abc', 1.12, True, [11, 12, 13]]\n"
     ]
    }
   ],
   "source": [
    "#append Method\n",
    "L1 = []\n",
    "L1.append(1)\n",
    "print(L1)\n",
    "L1.append(\"abc\")\n",
    "print(L1)\n",
    "L1.append(1.12)\n",
    "print(L1)\n",
    "L1.append(True)\n",
    "print(L1)\n",
    "L1.append([11,12,13])\n",
    "print(L1)"
   ]
  },
  {
   "cell_type": "code",
   "execution_count": 14,
   "metadata": {},
   "outputs": [
    {
     "name": "stdout",
     "output_type": "stream",
     "text": [
      "[1, 2, 3, 4, 5, 'a', 'b']\n",
      "[1, 2, 3, 4, 5, 'a', 'b', 1, 2, 3, 4]\n",
      "[1, 2, 3, 4, 5, 'a', 'b', 1, 2, 3, 4, 's', 't', 'r', 'i', 'n', 'g']\n"
     ]
    }
   ],
   "source": [
    "L1 = [1,2,3,4,5]\n",
    "L2 = [\"a\",\"b\"]\n",
    "L1.extend(L2)\n",
    "print(L1)\n",
    "L1.extend((1,2,3,4))\n",
    "print(L1)\n",
    "L1.extend(\"string\")\n",
    "print(L1)\n"
   ]
  },
  {
   "cell_type": "markdown",
   "metadata": {},
   "source": [
    "# insert"
   ]
  },
  {
   "cell_type": "code",
   "execution_count": 16,
   "metadata": {},
   "outputs": [
    {
     "name": "stdout",
     "output_type": "stream",
     "text": [
      "[1, 10, 2, 3, 'a', 4]\n",
      "[1, 10, 2, 3, 'b', 'a', 4]\n",
      "[1, 10, 2, 3, 'b', 'a', 4, 'abc']\n",
      "['def', 1, 10, 2, 3, 'b', 'a', 4, 'abc']\n"
     ]
    }
   ],
   "source": [
    "L1 = [1,2,3,4]\n",
    "L1.insert(1,10)\n",
    "L1.insert(4,'a')\n",
    "print(L1)\n",
    "L1.insert(-2,'b')\n",
    "print(L1)\n",
    "# give position greater than length\n",
    "L1.insert(10,\"abc\")\n",
    "print(L1)\n",
    "# give negative \n",
    "L1.insert(-10,\"def\")\n",
    "print(L1)\n"
   ]
  },
  {
   "cell_type": "markdown",
   "metadata": {},
   "source": [
    "# remove"
   ]
  },
  {
   "cell_type": "code",
   "execution_count": 3,
   "metadata": {},
   "outputs": [
    {
     "name": "stdout",
     "output_type": "stream",
     "text": [
      "[1, 2, 3, 4]\n"
     ]
    },
    {
     "ename": "ValueError",
     "evalue": "list.remove(x): x not in list",
     "output_type": "error",
     "traceback": [
      "\u001b[1;31m---------------------------------------------------------------------------\u001b[0m",
      "\u001b[1;31mValueError\u001b[0m                                Traceback (most recent call last)",
      "\u001b[1;32m<ipython-input-3-63ac65341166>\u001b[0m in \u001b[0;36m<module>\u001b[1;34m\u001b[0m\n\u001b[0;32m      3\u001b[0m \u001b[0mL1\u001b[0m\u001b[1;33m.\u001b[0m\u001b[0mremove\u001b[0m\u001b[1;33m(\u001b[0m\u001b[1;36m5\u001b[0m\u001b[1;33m)\u001b[0m\u001b[1;33m\u001b[0m\u001b[1;33m\u001b[0m\u001b[0m\n\u001b[0;32m      4\u001b[0m \u001b[0mprint\u001b[0m\u001b[1;33m(\u001b[0m\u001b[0mL1\u001b[0m\u001b[1;33m)\u001b[0m\u001b[1;33m\u001b[0m\u001b[1;33m\u001b[0m\u001b[0m\n\u001b[1;32m----> 5\u001b[1;33m \u001b[0mL1\u001b[0m\u001b[1;33m.\u001b[0m\u001b[0mremove\u001b[0m\u001b[1;33m(\u001b[0m\u001b[1;36m5\u001b[0m\u001b[1;33m)\u001b[0m\u001b[1;33m\u001b[0m\u001b[1;33m\u001b[0m\u001b[0m\n\u001b[0m\u001b[0;32m      6\u001b[0m \u001b[0mprint\u001b[0m\u001b[1;33m(\u001b[0m\u001b[0mL1\u001b[0m\u001b[1;33m)\u001b[0m\u001b[1;33m\u001b[0m\u001b[1;33m\u001b[0m\u001b[0m\n",
      "\u001b[1;31mValueError\u001b[0m: list.remove(x): x not in list"
     ]
    }
   ],
   "source": [
    "# remove \n",
    "L1 = [1,2,3,4,5]\n",
    "L1.remove(5)\n",
    "print(L1)\n",
    "L1.remove(5)\n",
    "print(L1)"
   ]
  },
  {
   "cell_type": "markdown",
   "metadata": {},
   "source": [
    "# pop "
   ]
  },
  {
   "cell_type": "code",
   "execution_count": 7,
   "metadata": {},
   "outputs": [
    {
     "name": "stdout",
     "output_type": "stream",
     "text": [
      "5\n",
      "1\n",
      "3\n"
     ]
    },
    {
     "ename": "IndexError",
     "evalue": "pop index out of range",
     "output_type": "error",
     "traceback": [
      "\u001b[1;31m---------------------------------------------------------------------------\u001b[0m",
      "\u001b[1;31mIndexError\u001b[0m                                Traceback (most recent call last)",
      "\u001b[1;32m<ipython-input-7-01e89c77126b>\u001b[0m in \u001b[0;36m<module>\u001b[1;34m\u001b[0m\n\u001b[0;32m      3\u001b[0m \u001b[0mprint\u001b[0m\u001b[1;33m(\u001b[0m\u001b[0mL1\u001b[0m\u001b[1;33m.\u001b[0m\u001b[0mpop\u001b[0m\u001b[1;33m(\u001b[0m\u001b[1;33m-\u001b[0m\u001b[1;36m4\u001b[0m\u001b[1;33m)\u001b[0m\u001b[1;33m)\u001b[0m\u001b[1;33m\u001b[0m\u001b[1;33m\u001b[0m\u001b[0m\n\u001b[0;32m      4\u001b[0m \u001b[0mprint\u001b[0m\u001b[1;33m(\u001b[0m\u001b[0mL1\u001b[0m\u001b[1;33m.\u001b[0m\u001b[0mpop\u001b[0m\u001b[1;33m(\u001b[0m\u001b[1;36m1\u001b[0m\u001b[1;33m)\u001b[0m\u001b[1;33m)\u001b[0m\u001b[1;33m\u001b[0m\u001b[1;33m\u001b[0m\u001b[0m\n\u001b[1;32m----> 5\u001b[1;33m \u001b[0mprint\u001b[0m\u001b[1;33m(\u001b[0m\u001b[0mL1\u001b[0m\u001b[1;33m.\u001b[0m\u001b[0mpop\u001b[0m\u001b[1;33m(\u001b[0m\u001b[1;36m10\u001b[0m\u001b[1;33m)\u001b[0m\u001b[1;33m)\u001b[0m \u001b[1;31m# invalid index value\u001b[0m\u001b[1;33m\u001b[0m\u001b[1;33m\u001b[0m\u001b[0m\n\u001b[0m",
      "\u001b[1;31mIndexError\u001b[0m: pop index out of range"
     ]
    }
   ],
   "source": [
    "L1 = [1,2,3,4,5]\n",
    "print(L1.pop())\n",
    "print(L1.pop(-4))\n",
    "print(L1.pop(1))\n",
    "print(L1.pop(10)) # invalid index value"
   ]
  },
  {
   "cell_type": "markdown",
   "metadata": {},
   "source": [
    "# copy"
   ]
  },
  {
   "cell_type": "code",
   "execution_count": 8,
   "metadata": {},
   "outputs": [
    {
     "name": "stdout",
     "output_type": "stream",
     "text": [
      "[1, 2, 200, 4, 5, 300]\n",
      "[1, 2, 3, 4, 5, 400]\n"
     ]
    }
   ],
   "source": [
    "# COPY\n",
    "L1 = [1,2,3,4,5]\n",
    "L3 = L1.copy()\n",
    "L1[2]=200\n",
    "L1.append(300)\n",
    "L3.append(400)\n",
    "print(L1)\n",
    "print(L3)"
   ]
  },
  {
   "cell_type": "markdown",
   "metadata": {},
   "source": [
    "# index"
   ]
  },
  {
   "cell_type": "code",
   "execution_count": 2,
   "metadata": {},
   "outputs": [
    {
     "name": "stdout",
     "output_type": "stream",
     "text": [
      "4\n",
      "8\n",
      "4\n"
     ]
    },
    {
     "ename": "ValueError",
     "evalue": "11 is not in list",
     "output_type": "error",
     "traceback": [
      "\u001b[1;31m---------------------------------------------------------------------------\u001b[0m",
      "\u001b[1;31mValueError\u001b[0m                                Traceback (most recent call last)",
      "\u001b[1;32m<ipython-input-2-7f2b746b988b>\u001b[0m in \u001b[0;36m<module>\u001b[1;34m\u001b[0m\n\u001b[0;32m      6\u001b[0m \u001b[1;31m# value not found\u001b[0m\u001b[1;33m\u001b[0m\u001b[1;33m\u001b[0m\u001b[1;33m\u001b[0m\u001b[0m\n\u001b[0;32m      7\u001b[0m \u001b[1;33m\u001b[0m\u001b[0m\n\u001b[1;32m----> 8\u001b[1;33m \u001b[0mprint\u001b[0m\u001b[1;33m(\u001b[0m\u001b[0mL1\u001b[0m\u001b[1;33m.\u001b[0m\u001b[0mindex\u001b[0m\u001b[1;33m(\u001b[0m\u001b[1;36m11\u001b[0m\u001b[1;33m)\u001b[0m\u001b[1;33m)\u001b[0m\u001b[1;33m\u001b[0m\u001b[1;33m\u001b[0m\u001b[0m\n\u001b[0m",
      "\u001b[1;31mValueError\u001b[0m: 11 is not in list"
     ]
    }
   ],
   "source": [
    "#index\n",
    "L1 = [1,2,3,4,5,6,7,8,5,7,8,9,10]\n",
    "print(L1.index(5))\n",
    "print(L1.index(5, 5)) # element is 5, start value is 5, stop is default\n",
    "print(L1.index(5,0,5)) #  element is 5, start value is 0, stop is 5\n",
    "# value not found\n",
    "\n",
    "print(L1.index(11))"
   ]
  },
  {
   "cell_type": "markdown",
   "metadata": {},
   "source": [
    "# count"
   ]
  },
  {
   "cell_type": "code",
   "execution_count": 3,
   "metadata": {},
   "outputs": [
    {
     "name": "stdout",
     "output_type": "stream",
     "text": [
      "3\n",
      "4\n",
      "0\n"
     ]
    }
   ],
   "source": [
    "# count\n",
    "L1 = [1,9,3,5,2,6,9,2,6,9,2,3,4,7,9]\n",
    "print(L1.count(2))\n",
    "print(L1.count(9))\n",
    "print(L1.count(10))"
   ]
  },
  {
   "cell_type": "markdown",
   "metadata": {},
   "source": [
    "# sort"
   ]
  },
  {
   "cell_type": "code",
   "execution_count": 5,
   "metadata": {},
   "outputs": [
    {
     "name": "stdout",
     "output_type": "stream",
     "text": [
      "[0, 1, 4, 6, 7, 8, 12, 45, 76]\n",
      "[76, 45, 12, 8, 7, 6, 4, 1, 0]\n",
      "[[1], [1, 2], [1, 2, 3]]\n"
     ]
    }
   ],
   "source": [
    "# Ascending Order\n",
    "L1 = [7,8,12,45,76,1,6,0,4]\n",
    "L1.sort()\n",
    "print(L1)\n",
    "\n",
    "# descending Order\n",
    "L1 = [7,8,12,45,76,1,6,0,4]\n",
    "L1.sort(reverse = True)\n",
    "print(L1)\n",
    "\n",
    "# function using key\n",
    "L1= [[1,2,3],[1],[1,2]]\n",
    "L1.sort(key = len)\n",
    "print(L1)"
   ]
  },
  {
   "cell_type": "markdown",
   "metadata": {},
   "source": [
    "# reverse\n"
   ]
  },
  {
   "cell_type": "code",
   "execution_count": 6,
   "metadata": {},
   "outputs": [
    {
     "name": "stdout",
     "output_type": "stream",
     "text": [
      "[5, 4, 3, 2, 1]\n"
     ]
    }
   ],
   "source": [
    "L1 = [1,2,3,4,5]\n",
    "L1.reverse()\n",
    "print(L1)"
   ]
  },
  {
   "cell_type": "markdown",
   "metadata": {},
   "source": []
  }
 ],
 "metadata": {
  "kernelspec": {
   "display_name": "Python 3",
   "language": "python",
   "name": "python3"
  },
  "language_info": {
   "codemirror_mode": {
    "name": "ipython",
    "version": 3
   },
   "file_extension": ".py",
   "mimetype": "text/x-python",
   "name": "python",
   "nbconvert_exporter": "python",
   "pygments_lexer": "ipython3",
   "version": "3.8.5"
  }
 },
 "nbformat": 4,
 "nbformat_minor": 4
}
